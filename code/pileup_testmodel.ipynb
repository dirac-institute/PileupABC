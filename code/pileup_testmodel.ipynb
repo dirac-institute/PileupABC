{
 "cells": [
  {
   "cell_type": "code",
   "execution_count": 1,
   "metadata": {
    "collapsed": false
   },
   "outputs": [
    {
     "name": "stdout",
     "output_type": "stream",
     "text": [
      "Python 2.7.12 :: Anaconda 2.3.0 (x86_64)\r\n"
     ]
    }
   ],
   "source": [
    "!python --version"
   ]
  },
  {
   "cell_type": "code",
   "execution_count": 3,
   "metadata": {
    "collapsed": true
   },
   "outputs": [],
   "source": [
    "import numpy as np\n",
    "from astropy.table import Table, Column, vstack\n",
    "from astropy.io import fits\n",
    "import matplotlib.pyplot as plt\n",
    "from scipy.stats import powerlaw\n",
    "from scipy import integrate\n",
    "import time\n",
    "%matplotlib inline"
   ]
  },
  {
   "cell_type": "code",
   "execution_count": 106,
   "metadata": {
    "collapsed": false
   },
   "outputs": [],
   "source": [
    "def energies_rs(a,b,gamma,N):\n",
    "    ''' Returns an array of photon energies with a power law distribution using rejection sampling.\n",
    "        a = E_min\n",
    "        b = E_max\n",
    "        gamma = photon index\n",
    "        N = total number of photons to be returned\n",
    "    '''\n",
    "    start_time = time.time()\n",
    "    A = (1.-gamma)/((b**(1.-gamma))-(a**(1.-gamma))) #normalization factor so curve integrates to 1\n",
    "    pl =  lambda x,A,gamma : A*x**(-1.0*gamma)\n",
    "    binsize = 0.13 #keV, set by Chandra detector. This will be swapped out later for a more realistic binning\n",
    "    bins = np.arange(a,b,binsize)\n",
    "    photons = np.zeros(N)\n",
    "    count = 0\n",
    "    while count<N:\n",
    "        r = np.random.uniform(a,b,1)\n",
    "        for i in range(len(bins)-1):\n",
    "            if (r>bins[i])and(r<bins[i+1]):\n",
    "                edge_lo = bins[i]\n",
    "                edge_hi = bins[i+1]\n",
    "                p_r = integrate.quad(pl,edge_lo,edge_hi,args=(A,gamma))[0]\n",
    "                k = np.random.uniform(0,1,1)\n",
    "                if (k<=p_r):\n",
    "                    photons[count] = r\n",
    "                    count += 1\n",
    "    print(\"Time to generate photon energies = %s seconds\" % (time.time() - start_time))\n",
    "    return photons"
   ]
  },
  {
   "cell_type": "code",
   "execution_count": 4,
   "metadata": {
    "collapsed": true
   },
   "outputs": [],
   "source": [
    "def energies_cdf(a,b,gamma,N):\n",
    "    '''\n",
    "    Generate photon energies using the cumulative distribution function (CDF)\n",
    "    CDF taken from https://arxiv.org/pdf/0706.1062.pdf\n",
    "    a = E_min\n",
    "    b = E_max\n",
    "    gamma = photon index\n",
    "    N = total number of photons to be returned'''\n",
    "    start_time = time.time()\n",
    "    r = np.random.uniform(0,1,N)\n",
    "    x = a*(1-r)**(-1/(gamma-1))\n",
    "    print(\"Time to generate photon energies = %s seconds\" % (time.time() - start_time))\n",
    "    return x"
   ]
  },
  {
   "cell_type": "code",
   "execution_count": 183,
   "metadata": {
    "collapsed": false
   },
   "outputs": [
    {
     "name": "stdout",
     "output_type": "stream",
     "text": [
      "Time to generate photon energies = 0.00324892997742 seconds\n"
     ]
    },
    {
     "data": {
      "text/plain": [
       "(array([  4.99020000e+04,   7.00000000e+01,   9.00000000e+00,\n",
       "          6.00000000e+00,   7.00000000e+00,   3.00000000e+00,\n",
       "          0.00000000e+00,   0.00000000e+00,   0.00000000e+00,\n",
       "          3.00000000e+00]),\n",
       " array([  0.10000251,   3.84143819,   7.58287387,  11.32430955,\n",
       "         15.06574523,  18.8071809 ,  22.54861658,  26.29005226,\n",
       "         30.03148794,  33.77292362,  37.51435929]),\n",
       " <a list of 10 Patch objects>)"
      ]
     },
     "execution_count": 183,
     "metadata": {},
     "output_type": "execute_result"
    },
    {
     "data": {
      "image/png": "[encoded data removed]",
      "text/plain": [
       "<matplotlib.figure.Figure at 0x185a1fe50>"
      ]
     },
     "metadata": {},
     "output_type": "display_data"
    }
   ],
   "source": [
    "energies = energies_cdf(0.1,10.,2.7,50000)\n",
    "plt.hist(energies)"
   ]
  },
  {
   "cell_type": "markdown",
   "metadata": {},
   "source": [
    "Chandra ACIS energy resolution = 130-280 eV (http://cxc.harvard.edu/cal/Acis/)"
   ]
  },
  {
   "cell_type": "code",
   "execution_count": 8,
   "metadata": {
    "collapsed": false
   },
   "outputs": [],
   "source": [
    "def simulate_data(stop,handle):\n",
    "    ''' Generates an un-piled and piled list of photon energies. \n",
    "        stop = end time of observation, generally equals total length of obs in seconds.\n",
    "        handle = 'rs' to generate photons via rejection \n",
    "    '''\n",
    "    #Assign physical parameters\n",
    "    start = 0. #s\n",
    "    #stop = 100 #s\n",
    "    cr = 1. #count rate between 0.1 and 10 photons/second\n",
    "    gamma = 2.7 #assume photon index\n",
    "    read_time = 3.2 #s\n",
    "    energy_lo = 0.1 #keV\n",
    "    energy_hi = 10.0 #keV\n",
    "    K = (stop-start)*cr #Number of photons to generate\n",
    "    N = np.random.poisson(K) #choose a number of photons from a poisson distribution centered on expected, K\n",
    "    print 'number of photons observed =', N\n",
    "    \n",
    "    #Assign photon arrival times, random within obervation time\n",
    "    arrival_times = np.random.uniform(start,stop,N)\n",
    "    \n",
    "    #Assign photon energies, random with a power law distribution.\n",
    "    if handle == 'rs':\n",
    "        print 'generating photon energies via rejection sampling'\n",
    "        energy = energies_rs(energy_lo,energy_hi,gamma,N) #generate photon energies using rejection sampling\n",
    "    if handle == 'cdf':\n",
    "        print 'generating photon energies via CDF method'\n",
    "        energy = energies_cdf(energy_lo,energy_hi,gamma,N)\n",
    "    else:\n",
    "        print 'invalid photon generation method entered'\n",
    "        \n",
    "    #Simulate pile up: bin arrival times, if there is more than one photon in a bin, combine their energies\n",
    "    #and record as one photon, change other photon energies to 0\n",
    "    piled_energy = np.copy(energy)\n",
    "    times = Column(arrival_times,name='time')\n",
    "    energies = Column(energy,name='energy')\n",
    "    raw = Table([times,energies])\n",
    "    raw.sort('time')\n",
    "    time_bins = np.arange(start,stop,read_time)\n",
    "    time_hist, time_edges = np.histogram(raw['time'],bins=time_bins)\n",
    "    num_piled = 0\n",
    "    for i in range(len(time_hist)):\n",
    "        if time_hist[i] > 1:\n",
    "            #print time_hist[i]\n",
    "            num_piled += time_hist[i]\n",
    "            first_photon = np.sum(time_hist[0:i])\n",
    "            last_photon = first_photon + time_hist[i] - 1\n",
    "            sum_energy = np.sum(energies[first_photon:last_photon])\n",
    "            piled_energy[first_photon] = sum_energy\n",
    "            piled_energy[first_photon+1:last_photon] = 0.0\n",
    "    print 'Fraction of photons that are piled =', np.float(num_piled) / N\n",
    "    return energy, piled_energy"
   ]
  },
  {
   "cell_type": "code",
   "execution_count": 12,
   "metadata": {
    "collapsed": false
   },
   "outputs": [],
   "source": [
    "def plot_data(raw,piled):\n",
    "    '''\n",
    "    Takes output data from simulate_data() and plots the raw vs. piled spectra\n",
    "    '''\n",
    "    arf = Table.read('/Users/mlazz/Dropbox/UW/PileupABC/13858/repro/SDSSJ091449.05+085321.corr.arf',format='fits')\n",
    "    fig,ax=plt.subplots(figsize=(8,5))\n",
    "    #num=len(raw)/50.\n",
    "    e_hist, e_bins = np.histogram(raw,bins=arf['ENERG_HI'])\n",
    "    pe_hist, pe_bins = np.histogram(piled[piled>0],bins=arf['ENERG_HI'])\n",
    "    ax.plot(e_bins[1:],e_hist,label='un-piled')\n",
    "    ax.plot(pe_bins[1:],pe_hist,label='piled')\n",
    "    ax.set_xlabel('Energy (keV)')\n",
    "    ax.set_xlim(-0.5,11)\n",
    "    ax.set_ylabel('Flux, unscaled')\n",
    "    ax.set_yscale('log')\n",
    "    ax.legend()"
   ]
  },
  {
   "cell_type": "code",
   "execution_count": 174,
   "metadata": {
    "collapsed": false,
    "scrolled": true
   },
   "outputs": [
    {
     "name": "stdout",
     "output_type": "stream",
     "text": [
      "number of photons observed = 49919\n",
      "generating photon energies via rejection sampling\n",
      "Time to generate photon energies = 607.479100943 seconds\n",
      "invalid photon generation method entered\n",
      "0\n",
      "1000\n",
      "2000\n",
      "3000\n",
      "4000\n",
      "5000\n",
      "6000\n",
      "7000\n",
      "8000\n",
      "9000\n",
      "10000\n",
      "11000\n",
      "12000\n",
      "13000\n",
      "14000\n",
      "15000\n",
      "16000\n",
      "17000\n",
      "18000\n",
      "19000\n",
      "20000\n",
      "21000\n",
      "22000\n",
      "23000\n",
      "24000\n",
      "25000\n",
      "26000\n",
      "27000\n",
      "28000\n",
      "29000\n",
      "30000\n",
      "31000\n",
      "32000\n",
      "33000\n",
      "34000\n",
      "35000\n",
      "36000\n",
      "37000\n",
      "38000\n",
      "39000\n",
      "40000\n",
      "41000\n",
      "42000\n",
      "43000\n",
      "44000\n",
      "45000\n",
      "46000\n",
      "47000\n",
      "48000\n",
      "49000\n",
      "number of piled photons = 47865\n"
     ]
    },
    {
     "data": {
      "image/png": "[encoded data removed]",
      "text/plain": [
       "<matplotlib.figure.Figure at 0x18dd54f90>"
      ]
     },
     "metadata": {},
     "output_type": "display_data"
    }
   ],
   "source": [
    "energy,piled_energy = simulate_data(5000,'rs')\n",
    "plot_data(energy,piled_energy)"
   ]
  },
  {
   "cell_type": "code",
   "execution_count": 13,
   "metadata": {
    "collapsed": false,
    "scrolled": false
   },
   "outputs": [
    {
     "name": "stdout",
     "output_type": "stream",
     "text": [
      "number of photons observed = 500332\n",
      "generating photon energies via CDF method\n",
      "Time to generate photon energies = 0.0325829982758 seconds\n",
      "Fraction of photons that are piled = 0.959376973689\n"
     ]
    },
    {
     "data": {
      "image/png": "[encoded data removed]",
      "text/plain": [
       "<matplotlib.figure.Figure at 0x111c95310>"
      ]
     },
     "metadata": {},
     "output_type": "display_data"
    }
   ],
   "source": [
    "energy,piled_energy = simulate_data(500000,'cdf')\n",
    "plot_data(energy,piled_energy)"
   ]
  },
  {
   "cell_type": "markdown",
   "metadata": {},
   "source": [
    "Notes from meeting 2/13\n",
    "Sort arrival time array by arrival time to speed things up\n",
    "Use np.histogram (with frame time as bin width) and choose all bins with histogram value of greater than 1\n",
    "\n",
    "Making photon energies from power law distribution:\n",
    "Pick r randomly out of [E_0,E_max]\n",
    "Compute P(r) where P(r) is a power law with a cutoff at E_0 and E_max that integrates to 1\n",
    "Pick a random number between [0,1], k\n",
    "If k<= r: keep r in N_s\n",
    "Else: discard r\n",
    "Do this while N_s <= N (where N is the total number of photons desired)\n",
    "\n",
    "Separate plotting and data generation"
   ]
  },
  {
   "cell_type": "code",
   "execution_count": 137,
   "metadata": {
    "collapsed": false
   },
   "outputs": [
    {
     "data": {
      "text/plain": [
       "SIMPLE  =                    T / file does conform to FITS standard             \n",
       "BITPIX  =                   16 / number of bits per data pixel                  \n",
       "NAXIS   =                    2 / number of data axes                            \n",
       "NAXIS1  =                 1024 / length of data axis                            \n",
       "NAXIS2  =                 1024 / length of data axis                            \n",
       "EXTEND  =                    T / FITS dataset may contain extensions            \n",
       "COMMENT   FITS (Flexible Image Transport System) format is defined in 'Astronomy\n",
       "COMMENT   and Astrophysics', volume 376, page 359; bibcode: 2001A&A...376..359H \n",
       "HDUNAME = 'WMAP    '           / ASCDM block name                               \n",
       "EXTNAME = 'WMAP    '           / Weighted image map                             \n",
       "HDUCLASS= 'OGIP    '           / GSFC HEASARC                                   \n",
       "HDUCLAS1= 'IMAGE   '           / GSFC HEASARC                                   \n",
       "HDUCLAS2= 'WMAP    '           / GSFC HEASARC                                   \n",
       "MTYPE1  = 'tdet    '           / DM Keyword: Descriptor name.                   \n",
       "MFORM1  = 'tdetx,tdety'        / [pixel]                                        \n",
       "CTYPE1P = 'tdetx   '           / ACIS tiled detector coordinates                \n",
       "CRVAL1P =  5.0000000000000E-01                                                  \n",
       "CRPIX1P =  5.0000000000000E-01                                                  \n",
       "CDELT1P =  8.0000000000000E+00                                                  \n",
       "WCSTY1P = 'PHYSICAL'                                                            \n",
       "LTV1    =  4.3750000000000E-01                                                  \n",
       "LTM1_1  =  1.2500000000000E-01                                                  \n",
       "CTYPE2P = 'tdety   '           / ACIS tiled detector coordinates                \n",
       "CRVAL2P =  5.0000000000000E-01                                                  \n",
       "CRPIX2P =  5.0000000000000E-01                                                  \n",
       "CDELT2P =  8.0000000000000E+00                                                  \n",
       "WCSTY2P = 'PHYSICAL'                                                            \n",
       "LTV2    =  4.3750000000000E-01                                                  \n",
       "LTM2_2  =  1.2500000000000E-01                                                  \n",
       "ORIGIN  = 'ASC     '           / Source of FITS file                            \n",
       "CREATOR = 'dmextract - Version CIAO 4.9' / tool that created this output        \n",
       "ASCDSVER= 'CIAO 4.9'           / ASCDS version number                           \n",
       "MJD_OBS =  5.6097784426934E+04 / Modified Julian date of observation            \n",
       "DS_IDENT= 'ADS/Sa.CXO#obs/13858' / dataset identifier                           \n",
       "REVISION=                    1 / Processing version of data                     \n",
       "CHECKSUM= 'ZXA9aU99UUA9ZU79'   / HDU checksum updated 2018-02-22T18:56:08       \n",
       "DATASUM = '34210624'           / data unit checksum updated 2018-02-22T18:56:08 \n",
       "RAND_SKY=  0.0000000000000E+00                                                  \n",
       "RAND_PI =  1.0000000000000E+00                                                  \n",
       "DATE    = '2018-02-22T18:56:08' / Date and time of file creation                \n",
       "DATE-OBS= '2012-06-19T18:49:34' / Observation start date                        \n",
       "OBS_MODE= 'POINTING'           / Observation mode                               \n",
       "DATE-END= '2012-06-19T23:47:16' / Observation end date                          \n",
       "TIMESYS = 'TT      '           / Time system                                    \n",
       "MJDREF  =  5.0814000000000E+04 / [d] MJD zero point for times                   \n",
       "TIMEZERO=  0.0000000000000E+00 / [s] Clock correction                           \n",
       "TIMEUNIT= 's       '           / Time unit                                      \n",
       "BTIMNULL=  4.5476126185606E+08 / Basic Time offset (s)                          \n",
       "DATACLAS= 'OBSERVED'           / default                                        \n",
       "RADESYS = 'ICRS    '           / default                                        \n",
       "BTIMRATE=  2.5625001363495E-01 / Basic Time clock rate (s / VCDUcount)          \n",
       "BTIMDRFT=  1.8897552271862E-18 / Basic Time clock drift (s / VCDUcount^2)       \n",
       "BTIMCORR=  0.0000000000000E+00 / Correction applied to Basic Time rate (s)      \n",
       "TIMEREF = 'LOCAL   '           / Time reference (barycenter/local)              \n",
       "TASSIGN = 'SATELLITE'          / Time assigned by clock                         \n",
       "CLOCKAPP=                    T / default                                        \n",
       "SIM_X   = -6.8282252473119E-01 / [mm] SIM focus pos                             \n",
       "SIM_Y   =  0.0000000000000E+00 / [mm] SIM orthogonal axis pos                   \n",
       "SIM_Z   = -1.9014006604987E+02 / [mm] SIM translation stage pos                 \n",
       "FOC_LEN =  1.0070000000000E+04 / [mm] HRMA focal length                         \n",
       "TIERRELA=  1.0000000000000E-09 / default                                        \n",
       "TIERABSO=  5.0000000000000E-05 / default                                        \n",
       "TIMVERSN= 'ASC-FITS-2'         / Timing system definition                       \n",
       "TSTART  =  4.5651897448714E+08 / [s] Observation start time (MET)               \n",
       "GRATING = 'NONE    '           / Grating                                        \n",
       "DETNAM  = 'ACIS-5678'          / Detector                                       \n",
       "RA_PNT  =  1.3870563928021E+02 / [deg] Pointing RA                              \n",
       "DEC_PNT =  8.8865713395653E+00 / [deg] Pointing Dec                             \n",
       "ROLL_PNT=  2.4115639442377E+02 / [deg] Pointing Roll                            \n",
       "RA_TARG =  1.3870416700000E+02 / [deg] Observer's specified target RA           \n",
       "DEC_TARG=  8.8891940000000E+00 / [deg] Observer's specified target Dec          \n",
       "DEFOCUS =  1.4449365687057E-03 / [mm] SIM defocus                               \n",
       "RA_NOM  =  1.3870563928021E+02 / [deg] Nominal RA                               \n",
       "DEC_NOM =  8.8865713395653E+00 / [deg] Nominal Dec                              \n",
       "ROLL_NOM=  2.4115639442377E+02 / [deg] Nominal Roll                             \n",
       "TSTOP   =  4.5653683613809E+08 / [s] Observation end time (MET)                 \n",
       "STARTMJF=                53606 / Major frame ctr value at start of data         \n",
       "STARTMNF=                  113 / Start minor frame ctr at start of data         \n",
       "STARTOBT=  0.0000000000000E+00 / On-Board MET close to STARTMJF and STARTMNF    \n",
       "STOPMJF =                54102 / Major frame ctr value at stop of data          \n",
       "STOPMNF =                    3 / Stop minor frame ctr at end of data            \n",
       "TIMEPIXR=  5.0000000000000E-01 / default                                        \n",
       "TIMEDEL =  3.1410400000000E+00 / [s] timedel Lev1                               \n",
       "CTI_CORR=                    T                                                  \n",
       "CTI_APP = 'PPPPPBPBPP'                                                          \n",
       "MISSION = 'AXAF    '           / Mission                                        \n",
       "TELESCOP= 'CHANDRA '           / Telescope                                      \n",
       "INSTRUME= 'ACIS    '           / Instrument                                     \n",
       "READMODE= 'TIMED   '           / Read mode                                      \n",
       "DATAMODE= 'FAINT   '           / Data mode                                      \n",
       "FLSHTIME=  0.0000000000000E+00 / [s]                                            \n",
       "CYCLE   = 'P       '           / events from which exps? Prim/Second/Both       \n",
       "LONGSTRN= 'OGIP 1.0'           / The HEASARC Long String Convention may be used.\n",
       "COMMENT   This FITS file may contain long string keyword values that are        \n",
       "COMMENT   continued over multiple keywords.  The HEASARC convention uses the &  \n",
       "COMMENT   character at the end of each substring which is then continued        \n",
       "COMMENT   on the next keyword which has the name CONTINUE.                      \n",
       "TITLE   = 'The Radio--X-ray--BH-Mass Plane for the Smallest Supermassive Black&'\n",
       "CONTINUE  ' Holes  '           / Proposal title                                 \n",
       "OBSERVER= 'Dr. Kayhan Gultekin' / Principal investigator                        \n",
       "OBJECT  = 'SDSS J091449.05+085321.1' / Source name                              \n",
       "OBS_ID  = '13858   '           / Observation id                                 \n",
       "OBI_NUM =                    0 / Obi number                                     \n",
       "SEQ_NUM = '702584  '           / Sequence number                                \n",
       "ONTIME  =  1.5070556907833E+04 / [s] Sum of GTIs                                \n",
       "ONTIME7 =  1.5070556907833E+04 / [s] Sum of GTIs                                \n",
       "ONTIME5 =  1.5070556907892E+04 / [s] Sum of GTIs                                \n",
       "ONTIME6 =  1.5070556907833E+04 / [s] Sum of GTIs                                \n",
       "ONTIME8 =  1.5070556907892E+04 / [s] Sum of GTIs                                \n",
       "LIVETIME=  1.4873648987049E+04 / [s] Livetime                                   \n",
       "LIVTIME7=  1.4873648987049E+04 / [s] Livetime                                   \n",
       "LIVTIME5=  1.4873648987108E+04 / [s] Livetime                                   \n",
       "LIVTIME6=  1.4873648987049E+04 / [s] Livetime                                   \n",
       "LIVTIME8=  1.4873648987108E+04 / [s] Livetime                                   \n",
       "EXPOSURE=  1.4873648987049E+04 / [s] Exposure time                              \n",
       "EXPOSUR7=  1.4873648987049E+04 / [s] Exposure time                              \n",
       "EXPOSUR5=  1.4873648987108E+04 / [s] Exposure time                              \n",
       "EXPOSUR6=  1.4873648987049E+04 / [s] Exposure time                              \n",
       "EXPOSUR8=  1.4873648987108E+04 / [s] Exposure time                              \n",
       "DTCOR   =  9.8693426381071E-01 / Dead time correction                           \n",
       "ASPTYPE = 'KALMAN  '                                                            \n",
       "FP_TEMP =  1.5360722351000E+02 / [K] Focal Plane Temperature                    \n",
       "DY_AVG  =  6.2821498758000E-01 / [mm] Mean DY during observation                \n",
       "DZ_AVG  =  7.3355026644000E-01 / [mm] Mean DZ during observation                \n",
       "DTH_AVG = -7.2865581596000E-03 / [deg] Mean DTHETA during observation           "
      ]
     },
     "execution_count": 137,
     "metadata": {},
     "output_type": "execute_result"
    }
   ],
   "source": [
    "pi = fits.open('/Users/mlazz/Dropbox/UW/PileupABC/13858/repro/SDSSJ091449.05+085321.pi')\n",
    "pi[0].header"
   ]
  },
  {
   "cell_type": "code",
   "execution_count": 179,
   "metadata": {
    "collapsed": false,
    "scrolled": true
   },
   "outputs": [
    {
     "name": "stdout",
     "output_type": "stream",
     "text": [
      "<Table length=1070>\n",
      "  name    dtype  unit\n",
      "-------- ------- ----\n",
      "ENERG_LO float32  keV\n",
      "ENERG_HI float32  keV\n",
      "SPECRESP float32  cm2\n",
      "PSF_FRAC float64     \n"
     ]
    },
    {
     "name": "stderr",
     "output_type": "stream",
     "text": [
      "WARNING: UnitsWarning: 'au' did not parse as fits unit: At col 0, Unit 'au' not supported by the FITS standard. Did you mean AU or adu? [astropy.units.core]\n"
     ]
    }
   ],
   "source": [
    "pi_file = Table.read('/Users/mlazz/Dropbox/UW/PileupABC/13858/repro/SDSSJ091449.05+085321.pi',format='fits')\n",
    "#pi_file.info()\n",
    "rmf = Table.read('/Users/mlazz/Dropbox/UW/PileupABC/13858/repro/SDSSJ091449.05+085321.rmf',format='fits')\n",
    "arf = Table.read('/Users/mlazz/Dropbox/UW/PileupABC/13858/repro/SDSSJ091449.05+085321.corr.arf',format='fits')\n",
    "arf.info()"
   ]
  },
  {
   "cell_type": "code",
   "execution_count": 180,
   "metadata": {
    "collapsed": false
   },
   "outputs": [
    {
     "name": "stdout",
     "output_type": "stream",
     "text": [
      "<Table length=1070>\n",
      "  name    dtype  unit\n",
      "-------- ------- ----\n",
      "ENERG_LO float32  keV\n",
      "ENERG_HI float32  keV\n",
      "   N_GRP   int16     \n",
      "  F_CHAN  object     \n",
      "  N_CHAN  object     \n",
      "  MATRIX  object   au\n"
     ]
    }
   ],
   "source": [
    "rmf.info()"
   ]
  },
  {
   "cell_type": "code",
   "execution_count": 181,
   "metadata": {
    "collapsed": false
   },
   "outputs": [
    {
     "data": {
      "text/html": [
       "&lt;Table length=3&gt;\n",
       "<table id=\"table6651413712\" class=\"table-striped table-bordered table-condensed\">\n",
       "<thead><tr><th>ENERG_LO</th><th>ENERG_HI</th><th>N_GRP</th><th>F_CHAN</th><th>N_CHAN</th><th>MATRIX</th></tr></thead>\n",
       "<thead><tr><th>keV</th><th>keV</th><th></th><th></th><th></th><th>au</th></tr></thead>\n",
       "<thead><tr><th>float32</th><th>float32</th><th>int16</th><th>object</th><th>object</th><th>object</th></tr></thead>\n",
       "<tr><td>0.3</td><td>0.31</td><td>1</td><td>[8]</td><td>[22]</td><td>[  1.33990514e-04   5.17258944e-04   8.11043661e-04   1.40370813e-03\n",
       "   2.76047736e-03   5.98445674e-03   1.32914651e-02   2.62204353e-02\n",
       "   4.57122847e-02   7.19392896e-02   1.03447609e-01   1.37926668e-01\n",
       "   1.60626426e-01   1.59799233e-01   1.31819963e-01   8.37430432e-02\n",
       "   3.83864231e-02   1.24285920e-02   2.65758089e-03   3.76633106e-04\n",
       "   4.19869175e-05   5.06864717e-06]</td></tr>\n",
       "<tr><td>0.31</td><td>0.32</td><td>1</td><td>[8]</td><td>[23]</td><td>[  9.07238500e-05   3.61033948e-04   5.07124583e-04   8.31684156e-04\n",
       "   1.59907318e-03   3.56353750e-03   8.12367909e-03   1.69934612e-02\n",
       "   3.13935205e-02   5.23598343e-02   8.03295523e-02   1.13567561e-01\n",
       "   1.45902410e-01   1.61227465e-01   1.52470320e-01   1.18846811e-01\n",
       "   7.06878528e-02   3.02812606e-02   8.91064759e-03   1.68976700e-03\n",
       "   2.43064351e-04   2.56862422e-05   2.79664641e-06]</td></tr>\n",
       "<tr><td>0.32</td><td>0.33</td><td>1</td><td>[8]</td><td>[24]</td><td>[  7.56381341e-05   2.44768598e-04   3.61079263e-04   5.42814319e-04\n",
       "   9.98631818e-04   2.13033310e-03   4.82715853e-03   1.03691230e-02\n",
       "   2.07884293e-02   3.73287201e-02   5.98611310e-02   8.94164667e-02\n",
       "   1.23824663e-01   1.51032314e-01   1.59358710e-01   1.44000843e-01\n",
       "   1.06210634e-01   5.86493015e-02   2.26814561e-02   6.02330267e-03\n",
       "   1.12043752e-03   1.94821012e-04   4.74476947e-05   4.84188558e-06]</td></tr>\n",
       "</table>"
      ],
      "text/plain": [
       "<Table length=3>\n",
       "ENERG_LO ...\n",
       "  keV    ...\n",
       "float32  ...\n",
       "-------- ...\n",
       "     0.3 ...\n",
       "    0.31 ...\n",
       "    0.32 ..."
      ]
     },
     "execution_count": 181,
     "metadata": {},
     "output_type": "execute_result"
    }
   ],
   "source": [
    "rmf[:3]"
   ]
  },
  {
   "cell_type": "code",
   "execution_count": 146,
   "metadata": {
    "collapsed": false
   },
   "outputs": [
    {
     "name": "stdout",
     "output_type": "stream",
     "text": [
      "1070 1024\n"
     ]
    }
   ],
   "source": [
    "print len(arf),len(pi_file)"
   ]
  },
  {
   "cell_type": "code",
   "execution_count": 148,
   "metadata": {
    "collapsed": false,
    "scrolled": false
   },
   "outputs": [
    {
     "data": {
      "text/html": [
       "&lt;Table length=1024&gt;\n",
       "<table id=\"table6696850640\" class=\"table-striped table-bordered table-condensed\">\n",
       "<thead><tr><th>ENERG_LO</th><th>ENERG_HI</th><th>SPECRESP</th><th>PSF_FRAC</th></tr></thead>\n",
       "<thead><tr><th>keV</th><th>keV</th><th>cm2</th><th></th></tr></thead>\n",
       "<thead><tr><th>float32</th><th>float32</th><th>float32</th><th>float64</th></tr></thead>\n",
       "<tr><td>0.3</td><td>0.31</td><td>1.82536</td><td>0.971443410296</td></tr>\n",
       "<tr><td>0.31</td><td>0.32</td><td>5.90961</td><td>0.971214969489</td></tr>\n",
       "<tr><td>0.32</td><td>0.33</td><td>8.77798</td><td>0.970986528002</td></tr>\n",
       "<tr><td>0.33</td><td>0.34</td><td>11.8856</td><td>0.970758087195</td></tr>\n",
       "<tr><td>0.34</td><td>0.35</td><td>14.7305</td><td>0.970529646389</td></tr>\n",
       "<tr><td>0.35</td><td>0.36</td><td>17.204</td><td>0.970301204901</td></tr>\n",
       "<tr><td>0.36</td><td>0.37</td><td>19.3461</td><td>0.970072764095</td></tr>\n",
       "<tr><td>0.37</td><td>0.38</td><td>21.9079</td><td>0.969844323288</td></tr>\n",
       "<tr><td>0.38</td><td>0.39</td><td>25.538</td><td>0.969615882482</td></tr>\n",
       "<tr><td>...</td><td>...</td><td>...</td><td>...</td></tr>\n",
       "<tr><td>10.44</td><td>10.45</td><td>2.86662</td><td>0.877867828067</td></tr>\n",
       "<tr><td>10.45</td><td>10.46</td><td>2.78017</td><td>0.877867828067</td></tr>\n",
       "<tr><td>10.46</td><td>10.47</td><td>2.69426</td><td>0.877867828067</td></tr>\n",
       "<tr><td>10.47</td><td>10.48</td><td>2.60867</td><td>0.877867828067</td></tr>\n",
       "<tr><td>10.48</td><td>10.49</td><td>2.53065</td><td>0.877867828067</td></tr>\n",
       "<tr><td>10.49</td><td>10.5</td><td>2.45297</td><td>0.877867828067</td></tr>\n",
       "<tr><td>10.5</td><td>10.51</td><td>2.37465</td><td>0.877867828067</td></tr>\n",
       "<tr><td>10.51</td><td>10.52</td><td>2.2957</td><td>0.877867828067</td></tr>\n",
       "<tr><td>10.52</td><td>10.53</td><td>2.21712</td><td>0.877867828067</td></tr>\n",
       "<tr><td>10.53</td><td>10.54</td><td>2.14509</td><td>0.877867828067</td></tr>\n",
       "</table>"
      ],
      "text/plain": [
       "<Table length=1024>\n",
       "ENERG_LO ENERG_HI SPECRESP    PSF_FRAC   \n",
       "  keV      keV      cm2                  \n",
       "float32  float32  float32     float64    \n",
       "-------- -------- -------- --------------\n",
       "     0.3     0.31  1.82536 0.971443410296\n",
       "    0.31     0.32  5.90961 0.971214969489\n",
       "    0.32     0.33  8.77798 0.970986528002\n",
       "    0.33     0.34  11.8856 0.970758087195\n",
       "    0.34     0.35  14.7305 0.970529646389\n",
       "    0.35     0.36   17.204 0.970301204901\n",
       "    0.36     0.37  19.3461 0.970072764095\n",
       "    0.37     0.38  21.9079 0.969844323288\n",
       "    0.38     0.39   25.538 0.969615882482\n",
       "     ...      ...      ...            ...\n",
       "   10.44    10.45  2.86662 0.877867828067\n",
       "   10.45    10.46  2.78017 0.877867828067\n",
       "   10.46    10.47  2.69426 0.877867828067\n",
       "   10.47    10.48  2.60867 0.877867828067\n",
       "   10.48    10.49  2.53065 0.877867828067\n",
       "   10.49     10.5  2.45297 0.877867828067\n",
       "    10.5    10.51  2.37465 0.877867828067\n",
       "   10.51    10.52   2.2957 0.877867828067\n",
       "   10.52    10.53  2.21712 0.877867828067\n",
       "   10.53    10.54  2.14509 0.877867828067"
      ]
     },
     "execution_count": 148,
     "metadata": {},
     "output_type": "execute_result"
    }
   ],
   "source": [
    "arf[0:1024]"
   ]
  },
  {
   "cell_type": "code",
   "execution_count": 139,
   "metadata": {
    "collapsed": false
   },
   "outputs": [
    {
     "data": {
      "text/html": [
       "&lt;Column name=&apos;PI&apos; dtype=&apos;float64&apos; unit=&apos;chan&apos; length=1024&gt;\n",
       "<table>\n",
       "<tr><td>1.0</td></tr>\n",
       "<tr><td>2.0</td></tr>\n",
       "<tr><td>3.0</td></tr>\n",
       "<tr><td>4.0</td></tr>\n",
       "<tr><td>5.0</td></tr>\n",
       "<tr><td>6.0</td></tr>\n",
       "<tr><td>7.0</td></tr>\n",
       "<tr><td>8.0</td></tr>\n",
       "<tr><td>9.0</td></tr>\n",
       "<tr><td>10.0</td></tr>\n",
       "<tr><td>11.0</td></tr>\n",
       "<tr><td>12.0</td></tr>\n",
       "<tr><td>...</td></tr>\n",
       "<tr><td>1013.0</td></tr>\n",
       "<tr><td>1014.0</td></tr>\n",
       "<tr><td>1015.0</td></tr>\n",
       "<tr><td>1016.0</td></tr>\n",
       "<tr><td>1017.0</td></tr>\n",
       "<tr><td>1018.0</td></tr>\n",
       "<tr><td>1019.0</td></tr>\n",
       "<tr><td>1020.0</td></tr>\n",
       "<tr><td>1021.0</td></tr>\n",
       "<tr><td>1022.0</td></tr>\n",
       "<tr><td>1023.0</td></tr>\n",
       "<tr><td>1024.0</td></tr>\n",
       "</table>"
      ],
      "text/plain": [
       "<Column name='PI' dtype='float64' unit='chan' length=1024>\n",
       "   1.0\n",
       "   2.0\n",
       "   3.0\n",
       "   4.0\n",
       "   5.0\n",
       "   6.0\n",
       "   7.0\n",
       "   8.0\n",
       "   9.0\n",
       "  10.0\n",
       "  11.0\n",
       "  12.0\n",
       "   ...\n",
       "1013.0\n",
       "1014.0\n",
       "1015.0\n",
       "1016.0\n",
       "1017.0\n",
       "1018.0\n",
       "1019.0\n",
       "1020.0\n",
       "1021.0\n",
       "1022.0\n",
       "1023.0\n",
       "1024.0"
      ]
     },
     "execution_count": 139,
     "metadata": {},
     "output_type": "execute_result"
    }
   ],
   "source": [
    "pi_file['PI']"
   ]
  },
  {
   "cell_type": "code",
   "execution_count": 134,
   "metadata": {
    "collapsed": false,
    "scrolled": true
   },
   "outputs": [
    {
     "data": {
      "text/plain": [
       "[<matplotlib.lines.Line2D at 0x18f0bb490>]"
      ]
     },
     "execution_count": 134,
     "metadata": {},
     "output_type": "execute_result"
    },
    {
     "data": {
      "image/png": "[encoded data removed]",
      "text/plain": [
       "<matplotlib.figure.Figure at 0x18e738f90>"
      ]
     },
     "metadata": {},
     "output_type": "display_data"
    }
   ],
   "source": [
    "plt.plot(pi_file['CHANNEL'],pi_file['COUNTS'])"
   ]
  },
  {
   "cell_type": "raw",
   "metadata": {},
   "source": [
    "Meeting notes 03/15/18\n",
    "1) Write down a Poisson log(likelihood)\n",
    "2) Write down some log(priors):\n",
    "    log(A) -> flat (make sure this is in log space to relieve the issue of emphasizing large values)\n",
    "    alpha -> flat (between 1 and 3)\n",
    "3) Write down log(posterior distribution)\n",
    "    Write a function that takes a list of parameters, and calculates the log of \n",
    "    P(theta|D) propto P(D|theta)p(theta) -> so if you are in log space, log(posterior) = log(likelihood) + log(priors)\n",
    "    Parameters are independent: P(alpha, A) = P(alpha)P(A)\n",
    "    You will find a value for the posterior distribution with a single input alpha, A and then you can iterate through parameter space and make a histogram of posterior vs alpha and posterior vs A to find the most likely value of that paramter\n",
    "4) MCMC sampling through parameter space\n",
    "    Read about Metropolis-Hastings\n",
    "    Write your own sampler\n",
    "5) Plot P(alpha|D) as a histogram with the real value of alpha superimposed\n",
    "    p(alpha|D) = integral (P(alpha,A|D)dA)"
   ]
  },
  {
   "cell_type": "markdown",
   "metadata": {},
   "source": [
    "##### Questions<br>\n",
    "1. I'm struggling to understand how to connect the log likelihood expression to my data. I did some reading about it and found a Poisson log(likelihood) expression online:<br>\n",
    "$l(\\lambda;x_{1}...,x_{n}) = -n \\lambda - \\sum_{j=1}^{n} ln(x_{j}!) + ln(\\lambda)\\sum_{j=1}^{n}x_{j}$<br>\n",
    "I think that the x values are the parameter values that I am computing the liklihood for, but what is $\\lambda$?<br>\n",
    "2. For the log(priors) am I writing down an analytic expression for the probability distributions or am I writing a random number generator that will generate values within a given probability distribution? I assume the analytic one, but in that case, I'm just not sure how to write an expression for the uniform distributions.<br>\n",
    "3. The posterior distribution takes in one value of each parameter and outputs a single value? In the case of our data, is that single value a photon energy? Or a distriution of values?"
   ]
  },
  {
   "cell_type": "code",
   "execution_count": 16,
   "metadata": {
    "collapsed": true
   },
   "outputs": [],
   "source": [
    "def log_likelihood(data,logA,a):\n",
    "    \"\"\"\n",
    "    Return log(Poisson likelihood) function for dataset\n",
    "    Poisson probability of the form P(k) = exp(-lambda)*lambda**k/k!\n",
    "    lambda = integral from E_min to E_max A*E**-a\n",
    "    input data = piled histogram from previous step\n",
    "    \"\"\"\n",
    "    arf = Table.read('/Users/mlazz/Dropbox/UW/PileupABC/13858/repro/SDSSJ091449.05+085321.corr.arf',format='fits')\n",
    "    #lam = np.zeros(len(data))\n",
    "    E_min = arf['ENERG_LO']\n",
    "    E_max = arf['ENERG_HI']\n",
    "    f = lambda x: np.exp(logA)*np.power(x,-1.0*a)\n",
    "    lam = scipy.integrate.quad(f,E_min,E_max)\n",
    "    summation = np.zeros(len(data))\n",
    "    for i in range(len(data)):\n",
    "        to_sum = np.arange(0,data[i]+1,1)\n",
    "        summation[i]=np.sum(to_sum)\n",
    "    log_like = -1.0*lam + data*np.log(lam)-summation\n",
    "    return np.sum(log_like)"
   ]
  },
  {
   "cell_type": "raw",
   "metadata": {},
   "source": [
    "Metropolis-Hastings algorithm:\n",
    "\n",
    "Initialize:\n",
    "1. Pick an initial state, x_0 (**Is this the initial value of the variable, within the priors? How do you choose where to start? Intelligent guess?)\n",
    "2. Set t=0\n",
    "\n",
    "Iterate:\n",
    "1. Randomly generate a candidate state x' according to g(x'|x_t) (**g is the proposal distribution, the conditional probability of proposing a state x' given x. Where does this probability expression come from? Priors?)\n",
    "2. Calculate the acceptance probability A(x'|x) = min(1, P(x')/P(x) * g(x|x')/g(x'|x) )\n",
    "3. Accept or reject: 1. generate a uniform random number [0,1] 2. if u< A, accept new state and set x_t+1 = x_t 3. if u>A, reject the new state and copy the old state forward\n",
    "4. Increment, set t=t+1"
   ]
  },
  {
   "cell_type": "raw",
   "metadata": {},
   "source": [
    "Meeting with Lia Corrales\n",
    "\n",
    "Her X-1 Gaetz\n",
    "ObsID 18055, 180565 for read out streak compared to ACIS-I core spectrum\n",
    "3C 273: has HETG and ACIS-S data (check on that)"
   ]
  },
  {
   "cell_type": "code",
   "execution_count": null,
   "metadata": {
    "collapsed": true
   },
   "outputs": [],
   "source": []
  }
 ],
 "metadata": {
  "kernelspec": {
   "display_name": "Python 2",
   "language": "python",
   "name": "python2"
  },
  "language_info": {
   "codemirror_mode": {
    "name": "ipython",
    "version": 2
   },
   "file_extension": ".py",
   "mimetype": "text/x-python",
   "name": "python",
   "nbconvert_exporter": "python",
   "pygments_lexer": "ipython2",
   "version": "2.7.12"
  }
 },
 "nbformat": 4,
 "nbformat_minor": 1
}
