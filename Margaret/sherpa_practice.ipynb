{
 "cells": [
  {
   "cell_type": "code",
   "execution_count": 1,
   "metadata": {},
   "outputs": [
    {
     "name": "stdout",
     "output_type": "stream",
     "text": [
      "/Applications/anaconda/envs/sherpa411/bin/python\r\n"
     ]
    }
   ],
   "source": [
    "!which python"
   ]
  },
  {
   "cell_type": "code",
   "execution_count": 2,
   "metadata": {
    "scrolled": true
   },
   "outputs": [
    {
     "name": "stdout",
     "output_type": "stream",
     "text": [
      "Python 3.6.8 :: Anaconda, Inc.\r\n"
     ]
    }
   ],
   "source": [
    "!python --version"
   ]
  },
  {
   "cell_type": "code",
   "execution_count": 3,
   "metadata": {},
   "outputs": [],
   "source": [
    "import sys\n",
    "sys.executable = '/Applications/anaconda/envs/sherpa411/bin/python'\n",
    "sys.path = ['', '/Applications/heasoft-6.24/x86_64-apple-darwin17.4.0/lib/python', \n",
    "            '/Applications/heasoft-6.24/x86_64-apple-darwin17.4.0/lib', \n",
    "            '/Applications/anaconda/envs/sherpa411/lib/python36.zip', \n",
    "            '/Applications/anaconda/envs/sherpa411/lib/python3.6', \n",
    "            '/Applications/anaconda/envs/sherpa411/lib/python3.6/lib-dynload', \n",
    "            '/Applications/anaconda/envs/sherpa411/lib/python3.6/site-packages', \n",
    "            '/Applications/anaconda/envs/sherpa411/lib/python3.6/site-packages/sherpa-4.11.0+0.g838bd12b.dirty-py3.6-macosx-10.9-x86_64.egg']"
   ]
  },
  {
   "cell_type": "code",
   "execution_count": 7,
   "metadata": {
    "collapsed": true
   },
   "outputs": [],
   "source": []
  },
  {
   "cell_type": "code",
   "execution_count": 4,
   "metadata": {},
   "outputs": [],
   "source": [
    "import numpy as np\n",
    "from astropy.table import Table, Column, vstack\n",
    "from astropy.io import fits\n",
    "import matplotlib.pyplot as plt\n",
    "from scipy.stats import powerlaw\n",
    "from scipy import integrate\n",
    "from scipy.special import gammaln\n",
    "import time\n",
    "from matplotlib.colors import BoundaryNorm\n",
    "from matplotlib.ticker import MaxNLocator\n",
    "import seaborn as sns\n",
    "\n",
    "sns.set_context(\"talk\")\n",
    "sns.set_style(\"whitegrid\")\n",
    "%matplotlib inline"
   ]
  },
  {
   "cell_type": "code",
   "execution_count": 5,
   "metadata": {},
   "outputs": [
    {
     "name": "stdout",
     "output_type": "stream",
     "text": [
      "WARNING: imaging routines will not be available, \n",
      "failed to import sherpa.image.ds9_backend due to \n",
      "'RuntimeErr: DS9Win unusable: Could not find ds9 on your PATH'\n"
     ]
    }
   ],
   "source": [
    "import sherpa.astro.ui as ui\n",
    "import astropy.modeling.models as models\n",
    "from astropy.modeling.fitting import _fitter_to_model_params"
   ]
  },
  {
   "cell_type": "code",
   "execution_count": 7,
   "metadata": {},
   "outputs": [
    {
     "name": "stdout",
     "output_type": "stream",
     "text": [
      "/Users/mlazz/Dropbox/UW/PileupABC/PileupABC/Margaret\r\n"
     ]
    }
   ],
   "source": [
    "!pwd"
   ]
  },
  {
   "cell_type": "code",
   "execution_count": 8,
   "metadata": {},
   "outputs": [
    {
     "name": "stdout",
     "output_type": "stream",
     "text": [
      "\u001b[34m__pycache__\u001b[m\u001b[m                    mcmc_heatmap.pdf\r\n",
      "abc.ipynb                      metropolis_hastings_mcmc.ipynb\r\n",
      "abc_initial_results.pdf        part1_fake_data.txt\r\n",
      "abc_part1.pdf                  part2_fake_data.txt\r\n",
      "\u001b[31mabc_part1.py\u001b[m\u001b[m                   part3_fake_data.txt\r\n",
      "abc_part2.pdf                  part3_parameters.txt\r\n",
      "abc_part2_combo.pdf            pileup_testmodel.ipynb\r\n",
      "alpha_comparison.pdf           real_data.fits\r\n",
      "alpha_mcmc_abc.pdf             real_data.txt\r\n",
      "auto_corr.py                   sherpa_practice.ipynb\r\n",
      "auto_corr.pyc                  simdat.py\r\n",
      "bayes.py                       simdat.pyc\r\n",
      "bayes.pyc                      spectrum.pdf\r\n",
      "\u001b[34mdata\u001b[m\u001b[m                           spectrum_sim.pyc\r\n",
      "dfm_autocorr.ipynb             spectrum_unpiled.pdf\r\n",
      "fake_acis.pha\r\n"
     ]
    }
   ],
   "source": [
    "!ls"
   ]
  },
  {
   "cell_type": "code",
   "execution_count": 63,
   "metadata": {},
   "outputs": [
    {
     "name": "stdout",
     "output_type": "stream",
     "text": [
      "WARNING: systematic errors were not found in file './fake_acis.pha'\n",
      "statistical errors were found in file './fake_acis.pha' \n",
      "but not used; to use them, re-read with use_errors=True\n",
      "read ARF file arfs/aciss_hetg0_cy19.arf\n",
      "read RMF file rmfs/aciss_hetg0_cy19.rmf\n"
     ]
    }
   ],
   "source": [
    "datadir = \"./\"\n",
    "ui.load_data(id=\"p1\", filename=datadir+\"fake_acis.pha\");"
   ]
  },
  {
   "cell_type": "code",
   "execution_count": 11,
   "metadata": {},
   "outputs": [],
   "source": [
    "d = ui.get_data(\"p1\")"
   ]
  },
  {
   "cell_type": "code",
   "execution_count": 13,
   "metadata": {},
   "outputs": [],
   "source": [
    "# conversion factor from keV to angstrom\n",
    "c = 12.3984191\n",
    "\n",
    "# This is the data in angstrom\n",
    "bin_lo = d.bin_lo\n",
    "bin_hi = d.bin_hi\n",
    "bin_mid = bin_lo + (bin_hi - bin_lo) / 2.0\n",
    "\n",
    "counts = d.counts"
   ]
  },
  {
   "cell_type": "code",
   "execution_count": 14,
   "metadata": {},
   "outputs": [
    {
     "data": {
      "text/plain": [
       "[<matplotlib.lines.Line2D at 0x1a285509e8>]"
      ]
     },
     "execution_count": 14,
     "metadata": {},
     "output_type": "execute_result"
    },
    {
     "data": {
      "image/png": "[encoded data removed]",
      "text/plain": [
       "<Figure size 720x504 with 1 Axes>"
      ]
     },
     "metadata": {},
     "output_type": "display_data"
    }
   ],
   "source": [
    "plt.figure(figsize=(10,7))\n",
    "plt.plot(bin_mid, counts)"
   ]
  },
  {
   "cell_type": "code",
   "execution_count": 12,
   "metadata": {},
   "outputs": [],
   "source": [
    "arf = d.get_arf() # get out an ARF object\n",
    "rmf = d.get_rmf() # get out an RMF object"
   ]
  },
  {
   "cell_type": "code",
   "execution_count": 15,
   "metadata": {},
   "outputs": [],
   "source": [
    "exposure = arf.exposure # exposure time in seconds\n",
    "specresp = arf.specresp # the actual response in the ARF, i.e. effective area + stuff"
   ]
  },
  {
   "cell_type": "code",
   "execution_count": 16,
   "metadata": {},
   "outputs": [],
   "source": [
    "energ_lo = arf.energ_lo\n",
    "energ_hi = arf.energ_hi"
   ]
  },
  {
   "cell_type": "code",
   "execution_count": 17,
   "metadata": {},
   "outputs": [
    {
     "data": {
      "text/plain": [
       "[<matplotlib.lines.Line2D at 0x1a288e4780>]"
      ]
     },
     "execution_count": 17,
     "metadata": {},
     "output_type": "execute_result"
    },
    {
     "data": {
      "image/png": "[encoded data removed]",
      "text/plain": [
       "<Figure size 432x288 with 1 Axes>"
      ]
     },
     "metadata": {},
     "output_type": "display_data"
    }
   ],
   "source": [
    "fig, ax = plt.subplots(1, 1, figsize=(6,4))\n",
    "\n",
    "ax.plot(energ_lo, counts)\n",
    "ax.plot(bin_lo, counts)"
   ]
  },
  {
   "cell_type": "code",
   "execution_count": 18,
   "metadata": {},
   "outputs": [],
   "source": [
    "from sherpa.astro import xspec"
   ]
  },
  {
   "cell_type": "code",
   "execution_count": 19,
   "metadata": {},
   "outputs": [
    {
     "data": {
      "text/plain": [
       "'12.10.0c'"
      ]
     },
     "execution_count": 19,
     "metadata": {},
     "output_type": "execute_result"
    }
   ],
   "source": [
    "xspec.get_xsversion()"
   ]
  },
  {
   "cell_type": "code",
   "execution_count": 20,
   "metadata": {},
   "outputs": [
    {
     "data": {
      "text/plain": [
       "0"
      ]
     },
     "execution_count": 20,
     "metadata": {},
     "output_type": "execute_result"
    }
   ],
   "source": [
    "xspec.get_xschatter()"
   ]
  },
  {
   "cell_type": "code",
   "execution_count": 21,
   "metadata": {},
   "outputs": [],
   "source": [
    "pl = xspec.XSpowerlaw()"
   ]
  },
  {
   "cell_type": "code",
   "execution_count": 22,
   "metadata": {},
   "outputs": [],
   "source": [
    "pl.norm=10.0\n",
    "pl.PhoIndex = 2.0"
   ]
  },
  {
   "cell_type": "code",
   "execution_count": 23,
   "metadata": {},
   "outputs": [],
   "source": [
    "m = pl(energ_lo, energ_hi)"
   ]
  },
  {
   "cell_type": "code",
   "execution_count": 24,
   "metadata": {},
   "outputs": [
    {
     "data": {
      "text/plain": [
       "[<matplotlib.lines.Line2D at 0x1a288a1fd0>]"
      ]
     },
     "execution_count": 24,
     "metadata": {},
     "output_type": "execute_result"
    },
    {
     "data": {
      "image/png": "[encoded data removed]",
      "text/plain": [
       "<Figure size 432x288 with 1 Axes>"
      ]
     },
     "metadata": {},
     "output_type": "display_data"
    }
   ],
   "source": [
    "fig, ax = plt.subplots(1, 1, figsize=(6,4))\n",
    "ax.loglog(energ_lo, m)"
   ]
  },
  {
   "cell_type": "code",
   "execution_count": 25,
   "metadata": {},
   "outputs": [],
   "source": [
    "m_arf = arf.apply_arf(m)*exposure"
   ]
  },
  {
   "cell_type": "code",
   "execution_count": 26,
   "metadata": {},
   "outputs": [
    {
     "data": {
      "text/plain": [
       "[<matplotlib.lines.Line2D at 0x1a28ab6c50>]"
      ]
     },
     "execution_count": 26,
     "metadata": {},
     "output_type": "execute_result"
    },
    {
     "data": {
      "image/png": "[encoded data removed]",
      "text/plain": [
       "<Figure size 432x288 with 1 Axes>"
      ]
     },
     "metadata": {},
     "output_type": "display_data"
    }
   ],
   "source": [
    "fig, ax = plt.subplots(1, 1, figsize=(6,4))\n",
    "ax.loglog(energ_lo, m_arf)"
   ]
  },
  {
   "cell_type": "code",
   "execution_count": 27,
   "metadata": {},
   "outputs": [],
   "source": [
    "m_rmf = rmf.apply_rmf(m_arf)"
   ]
  },
  {
   "cell_type": "code",
   "execution_count": 32,
   "metadata": {},
   "outputs": [
    {
     "data": {
      "text/plain": [
       "(1.0, 2.5)"
      ]
     },
     "execution_count": 32,
     "metadata": {},
     "output_type": "execute_result"
    },
    {
     "data": {
      "image/png": "[encoded data removed]",
      "text/plain": [
       "<Figure size 432x288 with 1 Axes>"
      ]
     },
     "metadata": {},
     "output_type": "display_data"
    }
   ],
   "source": [
    "fig, ax = plt.subplots(1, 1, figsize=(6,4))\n",
    "ax.plot(energ_lo, counts, color=\"black\", lw=3, alpha=0.6)\n",
    "ax.plot(energ_lo, m_rmf)\n",
    "ax.set_ylim(20000,40000)\n",
    "ax.set_xlim(1.0,2.5)"
   ]
  },
  {
   "cell_type": "markdown",
   "metadata": {},
   "source": [
    "# Ok, let's simulate spectrum with pile up!\n",
    "* Note: does pile up get applied before or after RMF? Daniela and I are still not sure..."
   ]
  },
  {
   "cell_type": "code",
   "execution_count": 33,
   "metadata": {},
   "outputs": [],
   "source": [
    "norm = 0.005 # input power law normalization\n",
    "PhoIndex = 1.7 # input power law photon index (is negative by default)"
   ]
  },
  {
   "cell_type": "code",
   "execution_count": 34,
   "metadata": {},
   "outputs": [
    {
     "name": "stdout",
     "output_type": "stream",
     "text": [
      "9914.9001034498\n"
     ]
    }
   ],
   "source": [
    "print(exposure)"
   ]
  },
  {
   "cell_type": "code",
   "execution_count": 35,
   "metadata": {},
   "outputs": [],
   "source": [
    "pl = xspec.XSpowerlaw()\n",
    "pl.norm = norm\n",
    "pl.PhoIndex = PhoIndex\n",
    "\n",
    "base_model = pl(energ_lo, energ_hi)"
   ]
  },
  {
   "cell_type": "code",
   "execution_count": 36,
   "metadata": {},
   "outputs": [],
   "source": [
    "base_arf = arf.apply_arf(base_model)*exposure\n",
    "base_spec = rmf.apply_rmf(base_arf)"
   ]
  },
  {
   "cell_type": "code",
   "execution_count": 37,
   "metadata": {},
   "outputs": [],
   "source": [
    "np.random.seed(200) # set the seed for reproducibility"
   ]
  },
  {
   "cell_type": "code",
   "execution_count": 38,
   "metadata": {},
   "outputs": [
    {
     "name": "stdout",
     "output_type": "stream",
     "text": [
      "The total number of photons is 4200\n"
     ]
    }
   ],
   "source": [
    "nphot = np.random.poisson(np.sum(base_spec))\n",
    "print(\"The total number of photons is %i\"%nphot)"
   ]
  },
  {
   "cell_type": "code",
   "execution_count": 39,
   "metadata": {},
   "outputs": [],
   "source": [
    "tstart = 0\n",
    "tend = tstart + exposure\n",
    "\n",
    "phot_times = np.random.uniform(tstart, tend, size=nphot)\n",
    "\n",
    "phot_times = np.sort(phot_times)"
   ]
  },
  {
   "cell_type": "code",
   "execution_count": 40,
   "metadata": {},
   "outputs": [],
   "source": [
    "#use the spectrum as a cumulative distribution function and use it to sort photons (with given arrival times)\n",
    "#into energy bins\n",
    "spec_pdf = base_spec/np.sum(base_spec)"
   ]
  },
  {
   "cell_type": "code",
   "execution_count": 41,
   "metadata": {},
   "outputs": [],
   "source": [
    "phot_energies = np.random.choice(energ_lo, size=nphot, replace=True, p=spec_pdf)"
   ]
  },
  {
   "cell_type": "code",
   "execution_count": 43,
   "metadata": {},
   "outputs": [
    {
     "data": {
      "image/png": "[encoded data removed]",
      "text/plain": [
       "<Figure size 432x288 with 1 Axes>"
      ]
     },
     "metadata": {},
     "output_type": "display_data"
    }
   ],
   "source": [
    "fig, ax = plt.subplots(1, 1, figsize=(6,4))\n",
    "ax.hist(phot_energies, bins=100);"
   ]
  },
  {
   "cell_type": "code",
   "execution_count": 44,
   "metadata": {},
   "outputs": [],
   "source": [
    "frametime = 3.2 # frame read-out interval in seconds"
   ]
  },
  {
   "cell_type": "code",
   "execution_count": 46,
   "metadata": {},
   "outputs": [],
   "source": [
    "intervals = np.arange(tstart, tend+frametime, frametime) #set the times that the detector will be read"
   ]
  },
  {
   "cell_type": "code",
   "execution_count": 47,
   "metadata": {},
   "outputs": [],
   "source": [
    "import scipy.stats"
   ]
  },
  {
   "cell_type": "code",
   "execution_count": 48,
   "metadata": {},
   "outputs": [],
   "source": [
    "summed_erg, bins, bin_idx = scipy.stats.binned_statistic(phot_times, phot_energies, bins=intervals, statistic=\"sum\")"
   ]
  },
  {
   "cell_type": "code",
   "execution_count": 57,
   "metadata": {},
   "outputs": [
    {
     "name": "stdout",
     "output_type": "stream",
     "text": [
      "[ 6.53427255 10.58308601  1.34462404  4.4643898   3.83622074  4.01973629\n",
      "  6.1989845   3.79034173  2.4915967   3.29447746  2.80127931  7.43771482\n",
      " 10.55134273  5.86636233  2.20485353  4.36382806  2.27367187  1.61989748\n",
      "  1.60842776  1.5740186   3.47799325  7.04774427  5.16937506  3.47799325\n",
      "  3.80181158  2.25339842  0.87436521  3.65270507  1.33315432  3.27420413\n",
      "  5.13229978  4.06561518  3.46918952  3.36596191  4.44145012  5.39343739\n",
      "  5.198452    5.31581545  2.36542964  9.63990211  1.43638182  1.47079098\n",
      "  6.91277349  2.09015632  4.1803124   8.06854963  4.17764664  5.30434573\n",
      "  4.79967785  4.01973629  3.33155286  3.83355474  5.59108889  4.3179493\n",
      "  3.98532724  1.47079098  1.9869287   1.25286627  1.28727543  6.78660649\n",
      "  6.54574236  5.46225595  6.04107434  1.14963865 10.08988786  1.3216846\n",
      "  6.57748544 10.07841778  2.02133799  2.63189936  1.0693506   3.71271974\n",
      "  0.96612304  6.40543938  6.8183496   5.26993668  2.69805169 11.16804218\n",
      "  7.38036638  2.83568859  7.93091297  3.92531252  1.86076176  9.48199224\n",
      "  4.36382806  6.19898438  1.50520015  6.37103033  3.8220849   5.28140616\n",
      "  0.86289549  6.52013671  5.1437695   5.24433088  3.21418953  3.83622074\n",
      "  3.53800786  3.39770508  4.28087425  8.74792945  5.55934572  4.01973641\n",
      "  3.5124023  11.25979996  1.97545898  4.189116    3.6729784   5.41904306\n",
      "  1.55107915  4.17764664  8.46999025  3.33155274  3.37476563  8.9429152\n",
      "  2.39983892  9.60549307  4.06561518  2.77833986  9.3240819   9.52787089\n",
      "  5.7860744   2.41130853  4.14323711  3.59269047  5.55401373  1.35609376\n",
      "  4.32675314  3.47799325  4.76526856  3.87943363  1.87223148  6.4513185\n",
      "  4.68498039  9.01706553  1.14963865  3.36329579  4.00560045  7.40597141\n",
      "  4.19178224  3.27153802  3.75859857  2.60896003  3.0077343   7.71298838\n",
      " 10.6060257   3.10482427  4.36382794  1.94104981  8.67911136  5.91224122\n",
      "  4.51293468  1.72312498  3.52387214  8.78233874  6.11869633  2.04427743\n",
      "  7.15097141  6.33662105 11.11069322  2.12456536  2.84715819  4.61882824\n",
      "  4.01707029  4.3382225   4.42117679  3.55828118  3.14803708  1.45932126\n",
      "  3.18244636  4.47585917  3.19391596  0.87436521  8.79380882  3.05627942\n",
      "  4.4670558   1.31021488  2.28514171  1.72312498  1.27580571  3.90237308\n",
      "  1.67724609  5.45345199  5.04934549  3.46652341  0.42704591  0.98906249\n",
      "  7.86476088  5.59108901  2.62042975  4.8799659   7.63269997 11.29420877\n",
      "  6.55454588  1.08082032  1.81488276  7.27713871  7.91944325  2.22779298\n",
      "  5.79754376  4.87996578  1.52813959  4.80848122  2.21632314  4.97172368\n",
      "  4.60202646  2.91597652  8.58735347  4.30381346  7.07334948  4.39823747\n",
      "  2.87009764  8.85382307  1.87223148  1.79194331  6.82101548  7.55507815\n",
      "  6.88983417  6.31901371  1.09229004  2.77833986  1.03494143  3.28300786\n",
      "  4.06294918  8.75939953  2.53747559  1.70018554  3.12243176  5.88930178\n",
      "  1.64283693  1.96398926 11.34008765  5.22139168  1.03494143  4.44411623\n",
      "  7.03627431  2.70071781  5.94665027  2.70071781  4.56761742  4.01973641\n",
      "  2.12456536  9.62843275  9.83488798 10.82394993  6.90130371  4.93464851\n",
      "  4.15470695  6.8210156  10.57161593  3.6729784   3.13390136  3.42331052\n",
      "  6.19898438  3.91650879  4.22352552  6.47425783  6.86422849  1.76900387\n",
      "  2.70952153  1.55107915  2.71218753  2.33102059 10.93864751  6.02960443\n",
      "  3.79914546  5.923711    5.23286152  6.06134748  3.86796379  3.46652341\n",
      "  1.67724609  4.6302979   5.04054189  7.97679186  8.91117173  2.15897465\n",
      "  4.1917823   2.33102059  6.04987788  2.84982419  1.79194331  2.88156748\n",
      "  6.95598626  3.3200829   2.990127    0.83995605  1.92958009  9.44758308\n",
      "  4.11149406  1.05788088  1.68871582  2.26220226  1.99839842  4.12296391\n",
      "  7.42357922  1.4249121   8.82821798  1.19551754  4.27207017  1.3216846\n",
      "  1.63136721  4.84555662  4.30381346  1.31021488  2.80394542  7.76419902\n",
      "  1.99839842  7.31421405  5.16670895 10.98452616  2.10162592  1.63136721\n",
      "  6.87569809  4.57908678  4.6134963   1.72312498  6.25633311  1.1725781\n",
      "  1.33315432  7.50653315  1.10375977  2.12456536 10.29367685  5.496665\n",
      "  3.28567374  5.06348145  4.06294918  5.32728505  4.92584467  5.16670895\n",
      "  1.13816893  2.19338369  6.99306142  0.86289549  1.7345947   2.04427743\n",
      "  3.89090323  4.40970707  6.61189473  4.87996578  3.6729784   1.03494143\n",
      "  3.79914546  4.54734373  5.55667961  0.9431836   3.07921869  7.96798837\n",
      " 10.02106929  4.52440429  1.9869287   2.27367187  8.45852065  8.86529297\n",
      "  5.499331    9.58521998  1.91811037  2.80127931  4.29500973  1.34462404\n",
      "  1.16110837  8.26620126  5.86902851  2.27367187  2.1360352   2.54894543\n",
      " 11.67270994  7.60976076  5.30167961  7.89650416  4.47585917  2.07868648\n",
      "  4.50146478  6.88716793  5.28140616  1.86076176  1.94104981  0.98906249\n",
      "  3.72152328  3.92531252  3.1568408   5.12083006  3.60949218  1.80341303\n",
      "  2.87009764  1.67724609 11.03040528  6.48572755  4.14323711  7.05307615\n",
      "  1.53960943  5.35022449  3.1453712   1.3216846   6.27927268  3.38623524\n",
      "  2.28514171  4.28087425  2.57188487  1.79194331 10.78954101  3.74179697\n",
      " 11.02160168  1.71165526  3.56975102  9.14937019  1.65430665  2.05574703\n",
      "  0.98906249  3.32888675  6.78660655  2.14750481  4.36116219  7.97065419\n",
      "  1.60842776  2.33368653  2.3680957   8.59882319  3.27153802  6.59162104\n",
      "  6.4513185   5.797544    2.28514171  4.59322274  4.05147934  8.77967286\n",
      "  5.44198239  4.25793457  2.11309576  6.13283211  3.35449219  2.1360352\n",
      "  4.23499489  2.87276375  5.41904306  4.22352552  1.27580571  5.08908695\n",
      "  9.1952492   2.53747559  8.59882319  1.74606442  8.10295868  4.52173805\n",
      "  8.61562479  8.02533686 11.45478487  2.90450692  4.87116206  2.20485353\n",
      "  9.07788587  4.28087425  6.78394032  3.92797852 11.90210462  3.56975102\n",
      "  1.24139643  3.8106153   2.06721687  1.72312498  2.11309576  9.63990235\n",
      "  3.85916016  6.2880764   1.69138187  4.93731439  2.18191409  5.85222673\n",
      " 10.89543462  2.44571781  3.53534174  7.58682132  5.32995105  1.47079098\n",
      "  4.93731451  4.52440429  7.97945821  1.43638182  4.56761742  5.05201173\n",
      "  6.76366699  1.88370121  1.63136721  0.82848632 11.52626967 10.58575201\n",
      "  2.29661131  1.03494143  6.1389699   7.13069844  4.30647957  3.75593269\n",
      "  2.61776376 11.87916493  1.60842776  0.87436521  2.17044425  7.3230176\n",
      "  2.10429198  7.10775864  9.60815907 10.46838856 10.60602522  3.04480958\n",
      "  0.96612304  4.13176775  9.685781    3.89356947  7.79594231  6.18751454\n",
      " 10.95011711  3.04480958  5.12349617  2.05574703  8.19471669  2.22779298\n",
      "  7.21978998  5.82048321  9.55081046  5.751665    2.04427743  7.0221386\n",
      "  8.99145997  1.18404782  4.47585917  5.61402822  2.87276363  4.22352552\n",
      "  4.42998028  1.16110837  2.31955075  7.75006342  7.39716804  3.95972157\n",
      "  6.40810561  1.84929204  5.06348133  6.049878   10.1242969   3.11096191\n",
      "  1.9869287   6.5430764   8.56441402  2.42544436  4.28087425 11.62683105\n",
      "  9.20671868  2.51453614  5.87516594  4.44678223  2.89570308  1.24139643\n",
      "  4.57028317  2.10162592  3.21418953  1.16110837  8.25739753  6.84128904\n",
      "  6.29074216  2.71218753  6.09309101  1.01200199  9.07788563  1.63136721\n",
      "  4.74232912  5.30701184  8.38970208  6.21045399  4.71672344  5.61136246\n",
      "  9.14670396  6.26780272  4.06294918  5.15523934  3.2053858   3.9738574\n",
      "  4.34969234  4.36382818  2.94158208  2.60896003  4.84289074  3.74179697\n",
      "  1.19551754  1.3216846   7.42891109  3.75326657  1.56254888  8.76206547\n",
      "  9.89756864  5.46492195  2.4915967   7.79327631  1.7345947   3.48946285\n",
      "  3.78767586  3.09949207  2.95038581 10.69778323  3.97385752  3.10215819\n",
      "  6.10722637  1.56254888  8.57588387  2.80127931  2.38836908  2.57455075\n",
      "  6.24752915  3.1453712   2.10162592 11.34008789  3.45505381  2.12456536\n",
      "  4.03120613  2.58335447  3.79034173  5.09789062  3.89356935  2.56308103\n",
      "  7.9767921   7.62123036 10.85835958  6.76633295  1.27580571  2.91864252\n",
      "  1.91811037  2.05574703  8.73646021  0.9431836   6.83248508  2.58335447\n",
      "  3.64123535  3.91384268  1.08082032  5.19231439 10.96158671 10.73485857\n",
      "  5.1322999  11.9621191   5.69165039  5.93518043  2.72099113  7.3371532\n",
      "  0.61056155  0.49586427  3.8503564   3.80181158  0.92024416  4.26940441\n",
      "  2.5030663   2.89303708  3.70738769  1.66577637 11.21392083  3.32008302\n",
      "  7.39450216  7.71565449  3.21685553  1.51666987  1.49373043  6.39663577\n",
      "  2.86129391  3.71885753  8.59882331  1.4822607   1.25286627  9.00906754\n",
      "  5.46492195  5.99519527  9.6628418   8.88556647  2.95305169  4.24032712\n",
      "  1.36756349  1.97545898  2.11576176 10.65190434  3.7215234   8.03947258\n",
      "  4.99466312  0.98906249  3.33155274  3.95972157  6.04721212  1.70018554\n",
      "  5.09789062  3.70738769  0.39263672  5.02907228  2.58335447  0.90877444\n",
      "  0.3467578   6.17604494  9.60549307  1.59962404 10.05814457  2.81541502\n",
      "  1.94104981  7.4950633  11.38596678  7.74739742  5.93518078  3.22565913\n",
      "  5.82048357  2.91597652  5.41637707  7.77033684 11.31714869  4.40704107\n",
      "  0.92024416  7.73592782  7.0821532   3.53534174  2.73512697  1.59695804\n",
      "  1.63136721  6.85275865  2.51453614  3.88209951  2.12456536 10.90957057\n",
      "  3.07921875  9.02320278  5.78340816  3.93944812  6.78394055  6.33662128\n",
      "  1.31021488 10.08988762  2.06721687  3.77620602  2.74659669  5.57961917\n",
      "  0.92024416  2.94158196  6.78660619  1.10375977  1.88370121  5.54520988\n",
      "  5.67137694  2.43424797 10.57694823  2.69805169  4.75646493  6.85275888\n",
      "  8.81674814  2.75540042  4.72205567  3.31741691  1.52813959  1.29874516\n",
      "  7.46065426  1.40197265  2.62923336  2.79247558  6.61189437  4.3152833\n",
      "  3.61562991  0.98906249  5.4102391   2.67511225  5.21525395  2.29927731\n",
      "  3.57241702  3.60416007  5.24433088  1.61989748  3.37476563  5.21258765\n",
      "  3.49212885  0.98906249 11.85889137  3.8220849   3.05361319  4.51026869\n",
      "  2.30808115  7.89650369  1.75753415  9.37876475  5.18964851  4.65057135\n",
      "  5.54521012  7.49506354  5.06081533  1.35609376  2.89303708  5.85222673\n",
      "  1.70018554  0.89730471  3.01920414  1.65430665  4.3382225   4.41851091\n",
      "  4.25793457  2.5030663   4.48732901  4.76526856  1.51666987  7.6327002\n",
      "  1.27580571  0.86289549  2.02133799  5.14376962  6.33662105  1.43638182\n",
      "  2.61776376  9.13790047  2.56041503  7.62123036  6.17604494  8.52733898\n",
      "  1.03494143  0.43851563  3.22565913  1.71165526  4.44145012  2.28514171\n",
      "  7.93971682  7.14216793  1.64283693  4.29234362  8.18324709  5.53374004\n",
      "  3.05361319  1.01200199  5.86636221  6.96478987  6.55721188  2.11309576\n",
      "  4.90023947  5.3475585   4.76526862 11.45745111  2.03280759  1.92958009\n",
      "  2.80127931  5.46758789  2.02133799  6.3136816   6.72659183  7.70685059\n",
      "  3.89356923  1.98959476  6.99306166  3.73299325 11.02160156  3.27153802\n",
      "  4.41851091  1.19551754  7.50919914  1.56254888  4.93464851  1.16110837\n",
      "  2.77833986  5.56814945  1.7345947   5.66257322  2.85862803  3.09068844\n",
      "  8.32354975  2.95038581  4.98585939  8.69058108 11.07361817  9.53934091\n",
      "  1.53960943  1.80341303  4.13176775  3.08802247  7.07334983  8.86529303\n",
      "  5.00613284  2.54894543 10.91837406  5.45078611  2.15897465  1.33315432\n",
      "  4.32675314  3.07655263  1.59695804  2.98479486  0.89730471  6.0128026\n",
      "  5.67404294  4.06561524  5.05467784  4.59055662  9.4449172   3.20538568\n",
      "  2.31955075  3.30861318  5.36169434  7.71832013  3.54681158  9.61962879\n",
      "  1.94104981  8.46118665  5.16670895  4.74232912  6.07281733  2.37689948\n",
      "  5.29020977  0.75966799  5.14110374  6.99572754  2.93891597  4.78820801\n",
      "  4.24032724  5.6140281   6.25899899  2.12456536  1.4249121   8.1373682\n",
      "  4.93998048  6.04374015  8.61029279  7.87623036  5.2355274   7.56654775\n",
      "  5.69431657  3.35449219  5.54520988  2.6407032   9.84021962  1.48492679\n",
      "  3.27153802  3.21685553  1.86076176  4.77673841  5.02640629  8.3552928\n",
      "  6.83248544  3.56975102  5.70312023  1.50520015 10.5945555  10.08108389\n",
      "  2.3680957   4.81114745  9.86929679  4.08588886  2.06721687  2.06721687\n",
      "  4.55881345  6.12750006  1.84929204  6.60309082  3.34035635  5.6166943\n",
      "  4.12029791  1.03494143  8.93144536  1.61989748  8.42411137  2.6777783\n",
      "  2.03280759  5.63963366  3.59269047  1.64283693  2.88156748  3.46652341\n",
      "  2.00986814  7.4835937   3.6615088   1.78047359  4.99466324  6.89863777\n",
      "  2.74659663  3.97119141  2.36542964  8.86262715  1.09229004  3.76740229\n",
      "  8.53880882  1.65430665  1.76900387  2.45718741  4.42117679  1.95251954\n",
      "  4.74232912  4.65937519 10.56014657  8.02533707  6.46278834  4.50146484\n",
      " 10.65190446  6.88716793  3.3059473   3.23712897 11.06481433  4.42117667\n",
      "  6.31901357  6.66043961  1.9869287   1.59695804  2.10162592  9.51640153\n",
      "  5.94665051 11.798877    3.95972157  5.77460444  6.90130365  4.02240235\n",
      "  0.98906249  1.49373043  4.86849618 10.75779784  1.68871582  3.40037119\n",
      "  4.59322262  5.54520988  4.2862061   7.69271481  0.95465332 11.46892107\n",
      "  1.95251954  4.51293457  1.61989748  8.08001971  4.03120613  1.80341303\n",
      "  3.04214358  7.01333499  7.42624497  3.89090323  2.43424797  5.32728505\n",
      "  4.01707029  6.65777349  9.12029314  1.66577637  4.17764664  3.6641748\n",
      "  4.97172356  6.62336421  8.26620114  4.37263203  3.71271968  1.01200199\n",
      "  6.24486351  6.61189437  5.53640628  2.76687002  0.95465332  4.59322262\n",
      "  8.14617157  8.89703619  3.52387214  1.8263526   9.27553725  5.22405767\n",
      "  6.9471826   5.16404295  5.70578599  4.45558584  6.97012231  5.07761729\n",
      "  9.13523436  6.94718266  4.10882807  1.19551754  4.84555662  5.86636233\n",
      "  4.00826645  2.38836908  7.98826158  9.88343263  6.42837903  1.64283693\n",
      "  7.86209464  6.93304682  4.41851091  1.39050293  2.43424797  3.6641748\n",
      "  6.93304682  0.41557616  2.58335447  2.3424902  11.59242177  2.07868648\n",
      "  1.81488276  0.40410644  3.06774902  1.19551754  7.07334971  5.91490719\n",
      "  1.89517093  3.8220849   2.78980947  3.3059473   1.66844243  3.93944824\n",
      "  2.05841303  3.90237308  1.65430665  1.41344237  6.49719715  2.82688475\n",
      "  2.35396004  6.58895493  6.54574227  0.71378905  2.5401417   6.30221188\n",
      "  4.79967779  1.83782232  1.0693506   4.08588886  0.93171388  2.52600574\n",
      "  4.32061517  3.68444824  1.4822607   8.61029279  5.88930178  8.85382342\n",
      "  4.6823144   1.37903321  3.47799325  1.31021488  1.80341303  1.99839842\n",
      "  3.3059473   8.03680682  8.7938087   9.3214159   1.7345947   6.5774852\n",
      "  1.26433599  1.44785154  5.92371106  4.29234362  2.87009764  1.84929204\n",
      "  1.27580571  4.10002446  2.79247558  7.97945821  3.19125009  3.2971437\n",
      "  6.557212    1.19551754  1.74606442  4.8314209  11.0560106   7.44918466\n",
      "  2.11309576  2.33102059  4.189116    1.13816893  4.79967785  9.19524908\n",
      "  6.39663574  7.58948755  3.37476563  8.00239727  4.60469246  1.18404782\n",
      "  4.20325196  0.9431836  11.12216306  7.65563941  5.13229978  6.46278811\n",
      "  1.9869287   4.15470695  0.44998536  6.10722637  2.21632314  0.90877444\n",
      " 11.00746584  3.76473641  9.65670413  5.20111811  1.20698726  2.3424902\n",
      "  1.4249121   4.01973641 10.80367672  5.59108901  2.69805169  1.84929204\n",
      "  2.02133799  1.67724609  1.79194331  5.83195305  1.36756349  3.95972157\n",
      "  3.17978024  4.36382818 10.10402358  4.96025395  4.02854013  2.56041503\n",
      "  1.72312498  4.87116212  4.47585917  0.41557616  5.53374028  6.8183496\n",
      "  5.20992184  1.51666987  2.1360352   1.74606442  7.25419927  4.01973641\n",
      "  4.86849618  4.92851067  3.05361319 11.9250437   1.22992671  1.70018554\n",
      "  1.61989748  8.72232413  0.66791016  0.67937988  8.8167479   5.62816417\n",
      "  2.22779298  2.11309576  2.28514171  2.25073242  4.01707029  5.15523934\n",
      "  5.6599071   1.25286627  1.02347171  6.38249993  3.53800774  2.11576176\n",
      "  0.83995605  1.34462404  1.75753415  3.97119141  5.44198239  8.9543848\n",
      "  5.4737258   4.70791984  8.90850592  7.21979022  1.58548832 10.90423822\n",
      "  3.07921875  1.27580571  3.38623524  3.65270507  6.71512198  9.15817356\n",
      "  7.71298838  4.87729979  7.81007826  4.70525408  3.71885753  2.90450692\n",
      "  2.15897465  4.61616206  8.24059558  6.73806167  1.91811037  4.62496567\n",
      "  4.15470695  3.49212897  8.33501935  3.75326657  4.189116    1.09229004\n",
      "  4.02854013  9.9637208   7.52066898  3.62976551  1.49373043  1.35609376\n",
      "  1.52813959  2.19338369  1.13816893 10.0925535   3.83355474  2.80127931\n",
      "  9.42197728  4.92317867  2.18191409  4.6134963   3.27420402  2.96185541\n",
      "  4.96025395  3.48946285  2.5516113   1.78047359  7.45185065  2.95305181\n",
      "  0.98906249  4.36116219  3.92531252  1.56254888  7.91944337  0.41557616\n",
      "  4.88263178  1.09229004 10.07575178  0.39263672 11.16804194  7.90797353\n",
      "  3.43478024  1.60842776  9.58788574  5.57961917  3.1453712   0.88583493\n",
      "  2.30808115  1.68871582  5.52493656  1.58548832  4.52173805  4.03120613\n",
      "  6.23339343  3.46918941  4.48999512  6.2678026   1.18404782  5.27874041\n",
      "  4.87729979  4.39823747  5.85489249  4.34969234  7.93091297  1.10375977\n",
      "  7.85062504  4.66470695  0.6908496   7.27100098  1.33315432  7.29741192\n",
      "  3.8106153   4.30381346  1.52813959  8.04827631  1.61989748  1.75753415\n",
      "  1.03494143  4.81114745  4.94878411  4.78554201  6.53427255  3.82475102\n",
      "  3.6729784   6.1760447   5.87516594  3.5124023   0.73672849  6.08428693\n",
      "  5.47905779 10.94131339 10.62896442  1.55107915  2.9962647   1.86076176\n",
      "  4.6276319  11.70978522  7.16510737  5.24433088  1.58548832  1.49373043\n",
      "  2.46865726  4.24913096 10.69511724  7.36889625  1.84929204  6.8298192\n",
      "  5.06081533  1.92958009  2.09015632  1.4249121   1.39050293  2.14750481\n",
      "  1.9869287   7.3459568   2.60629392  7.50039566  1.11522949  2.30808115\n",
      "  3.20271969  4.77940428  2.07868648  2.5030663   4.68498039  1.3216846\n",
      "  9.08935547  1.68871582  8.97732449  2.94158205  3.1453712   2.72099113\n",
      "  1.70018554  3.65003896  6.9701221   6.43718243 10.33075213  0.42704591\n",
      "  5.28140616  6.43718243  2.0125342   1.68871582  1.01200199  1.68871582\n",
      "  3.07655263  3.8106153   4.09735823  4.15470695  2.78100586  1.8263526\n",
      "  1.66577637  9.86049318  6.35956049  3.98266125  2.17044425  5.17551279\n",
      "  5.01493645  7.59829092  5.24433088  4.08588886  2.93011236  3.6615088\n",
      "  2.08135253  6.00666511  8.56441426  7.81621552  0.79407716  6.63483405\n",
      "  3.54681158  5.5364064   0.89730471 11.91357374  2.80127931  2.06721687\n",
      " 11.03040552  8.72232413  1.1725781   1.9869287   2.51453614  2.52600574\n",
      "  1.33315432  5.15523922  4.87116218  4.03120613  6.53427261  3.8220849\n",
      "  7.1853807   2.66364264  3.34035635  5.91224134  2.11309576  5.72605944\n",
      "  4.3152833  11.9506495   4.79967785  7.35742652  4.52173805 10.05547869\n",
      "  3.45771968  3.1453712   8.49292994  6.14163589  3.25126457  8.62176299\n",
      "  7.90797377  4.64790535  5.01760244  5.88930166  2.37689948  3.12243176\n",
      "  2.52600574  5.95812035  1.08082032  4.88876963  4.81995106 11.296875\n",
      "  8.90584004  5.96692371  2.18191409  4.38676751  3.24859858  9.30994654\n",
      "  6.94451666  5.3961035   4.41851091  6.00133324  7.3230176   1.72312498\n",
      "  8.59615731  4.26060057  1.70018554  4.14323711  2.65483892  3.52387214\n",
      "  3.60416007  1.19551754  2.63189936  6.56601572  0.89730471 10.59188986\n",
      "  1.81488276  3.65003896  2.26220226  1.84929204  1.94104981 10.4683888\n",
      "  4.48999524  2.97599125  1.68871582  5.27260256  5.47639179  3.53534174\n",
      "  2.87009764  1.41344237  7.23392558  1.31021488  6.71778804  3.58388668\n",
      "  1.0693506   2.52600574  8.82555175  1.65430665  5.59989262  0.90877444\n",
      "  5.03440428  1.8263526   4.39557123  7.105093    1.14963865  7.80741203\n",
      "  7.19951665  5.13229966  2.35662591  7.03894031  1.33315432  5.63696766\n",
      "  3.04214358  2.62042975  4.20058584  6.31101561  8.76820326  2.75540042\n",
      "  5.18964839  6.82981944  3.28300786  2.26220226  1.65430665  4.04000998\n",
      "  6.72659183  4.43264663  6.87836421  3.50093269  6.40543962  4.40970707\n",
      "  1.31021488  9.69725084  5.82928705  1.33315432  7.54094243  4.5270704\n",
      "  3.93678212  5.2584666   1.22992671  8.12856448  2.45718741  4.6134963\n",
      " 10.20725083  2.26220226  2.1360352   2.59482431  8.80527851 10.90690446\n",
      "  3.47799325  3.02187002  1.75753415  1.91811037  5.53374028  9.92931151\n",
      "  1.01200199  4.11149406  1.3216846   4.32675314  2.18191409  2.59749019\n",
      "  4.15470695  1.97545898  3.69591808  1.51666987  3.32888675  1.68871582\n",
      " 10.26193368  1.81488276  8.21499062  9.02320337  3.4577198   2.33102059\n",
      "  7.25686502  1.61989748  1.60842776  3.8106153   1.41344237  7.68124497\n",
      "  5.00346661  1.65430665  2.20485353  4.36382806  3.77887201  7.79327619\n",
      "  2.80127931  5.56814933  4.94611835  4.94611835  3.22565913  3.87943363\n",
      "  1.49373043  1.97545898  9.4502492   5.35022473  2.95038581  4.07708499\n",
      "  1.7345947   4.1661768   9.51906765  3.46652341  3.22565913  5.93784654\n",
      "  7.44304669  5.44198263  2.63189942  8.41530752  4.04267579  4.99466324\n",
      "  1.43638182  6.4513185   6.27046883  1.40197265  1.33315432  3.46918952\n",
      "  5.09522438  6.61456043  6.24219704  0.89730471  1.26433599 10.22485828\n",
      "  6.35956049  6.69218254  4.07441902  5.94398451  6.44865227  9.01173341\n",
      "  3.61829591  3.50093269  0.8170166   6.11869645  3.29447746  4.38410139\n",
      "  2.14750481  5.40757322  3.74179697  3.06508303  9.70258319  1.3216846\n",
      "  7.4721241   3.8106153   8.33501935  7.01600105  1.8263526   5.8372851\n",
      "  6.11603022  3.86796379  2.54894543  9.84902358  8.17444324  2.02133799\n",
      "  1.56254888  1.80341303  4.04267579  8.06854963  8.24326146  8.09415531\n",
      "  3.50093269 11.6956495   2.33102059  7.40063953  2.05574703  7.25953123\n",
      " 11.27393568  4.84822273  2.05574703  7.89916992  3.65003896  2.69805169\n",
      "  2.78980947  2.19338369  4.89143562  6.25633311  1.33315432  6.07548344\n",
      " 11.57214856  4.45558608  6.02693844  1.25286627  5.55934572  2.11309576\n",
      "  9.45905304  4.86582994  5.24433088  3.40037107  2.00986814  3.63856936\n",
      "  9.02053738  2.68658209  4.35235834  0.46145508  5.1349659   5.53107405\n",
      "  5.49933088  1.64283693  3.14803708  2.60629392  2.90450692  1.37903321\n",
      "  4.10002434  6.17337894  0.35822755  6.72659183  9.10349107  5.76313496\n",
      "  2.61776376  2.42277837  3.48946285  2.61776376  4.08588886  4.00826657\n",
      "  1.16110837  8.35795915  1.90664065  2.54894543 10.41103983  4.31794918\n",
      "  3.48946285  7.30274403  0.88583493  7.38036633  7.32301757  8.91997576\n",
      "  1.40197265  1.76900387  4.99466324  1.72312498  2.00986814  5.17551279\n",
      "  2.0354737   3.6729784   2.28514171  9.06641579 11.60655749  4.26060054\n",
      "  2.6407032   5.09789073  1.76900387  3.11096191  2.28780758  2.95038581\n",
      "  4.38943362  1.08082032  2.73246098  2.75806642  6.76366711  1.33315432\n",
      "  2.06721687  6.63483405  5.75166512  4.07441902  3.54947746  1.71165526\n",
      "  7.58948743  4.38410139  5.53374028  2.92744637  1.24139643  5.21258807\n",
      "  4.37263203  5.25580072  9.77140141  6.36222661  2.30808115  3.78767586\n",
      "  4.77407217  5.16670907  1.53080568  2.52600574  1.47079098  7.11656237\n",
      "  8.95438492  1.64283693  1.70018554  1.53960943  2.79247558 10.6174953\n",
      " 11.30567884  6.24486315  1.41344237  1.56254888  9.98666036  4.13443363\n",
      "  3.1568408   4.10882807  2.34515619  4.42117667  8.10295916  3.44358397\n",
      "  1.72312498  3.20271969  6.61456048  0.85142577  5.76313496  5.35902834\n",
      "  6.07548344  3.62709951  1.00053227  1.66577637  5.53374028  3.85649419\n",
      "  3.18244624  1.90664065  2.95571777  6.1619091   0.92024416  9.92050767\n",
      "  3.87943363  2.67511225  9.84902358  8.32088375  5.80634785  5.50199711\n",
      "  2.68658209  1.9869287  10.67217779  5.34142101  1.0693506   3.43478024\n",
      "  4.742329    1.89783689  2.57188487  1.21845698  1.96398926  3.43478024\n",
      "  5.01760265  6.76100087  1.65430665  1.37903321  7.4721241   8.61909652\n",
      "  9.43877912  5.96958971  1.8263526   0.49586427  1.89517093  7.80474639\n",
      "  2.6521728   6.41690922  9.57375002  2.06721687  6.03574228  9.49346173\n",
      " 11.37716323  3.48946285  3.34302247  2.52600574  1.7345947  11.28273916\n",
      "  2.70071769  8.1629734   2.80127931  4.68498051  5.57695293  5.81781721\n",
      "  3.83355474  2.93011224  7.18538094  7.79594249  6.2131201   6.94451666\n",
      "  4.77407217  1.08082032  5.27874041  2.41130853  0.80554688  5.83195293\n",
      "  4.78554201  3.08802247  9.56228018 10.20458472  6.09575677  4.65937519\n",
      "  3.69591808  2.54014164  9.56228054  3.70738769  1.08082032  6.39130354\n",
      "  9.57375002  3.86796379  9.29847622  0.40410644  6.94718266  3.35182619\n",
      "  2.73246098 10.71191871  4.8914355   7.77566892  1.4249121   1.67724609\n",
      " 10.35102534  4.06828126  3.26006842  9.58788568  9.58255339  7.01866707\n",
      "  1.41344237  1.75753415  3.16831064  4.34088874  2.3424902   7.47212386\n",
      "  2.37689948 11.02160144  3.87062991  5.23819345  1.80341303  1.74606442\n",
      "  1.63136721  2.25073242  1.65430665  7.48625976  5.23552728  2.07868648\n",
      "  3.98532712  1.63136721  6.09575677  0.97759277  9.60815907  2.85862803\n",
      "  9.57108402  6.25899905  3.03067374  2.3424902   3.42331052  5.36169434\n",
      "  2.19338369  6.53160655  3.36329579  1.9869287   4.79967785  2.35396004\n",
      "  1.28727543  2.84982425  1.72312498  4.56761742  5.54254389  2.75540042\n",
      "  5.77460444  1.67724609  2.99893069  1.18404782 10.56895018  2.35396004\n",
      "  8.1885792   4.37263203  4.4670558   2.02133799  6.38249993  4.28354013\n",
      "  5.71725595  1.76900387  4.63910174  3.53534174  3.8247509   8.35795897\n",
      "  5.14110374  3.24859858  0.98906249  3.47799325  4.06561518  3.33155274\n",
      "  6.72659183  2.35396004 11.06748033  1.87223148  1.61989748  7.19951665\n",
      "  3.50359869  4.91170883  3.69858396  3.60416007  4.78820789  4.6823144\n",
      "  2.74659657  1.99839842  1.80341303  4.65937519  5.30434585  7.25686502\n",
      "  9.51373529  6.56868172  1.83782232  2.44571781  1.22992671  3.78767586\n",
      "  2.6521728   5.04320788  4.42998028  1.43638182  3.38623524  1.96398926\n",
      "  1.67724609  4.78820795  3.92531252  1.05788088  7.41744125  4.96905756\n",
      "  6.94451666  3.16217276  2.36542964  6.25899911  4.96025407  3.28300786\n",
      "  6.74072748  0.44998536  3.89090323  7.31421381  3.16831064  6.03840828\n",
      "  7.03894049  1.39050293  5.07495129  3.52387214  2.1360352   3.65003896\n",
      "  4.189116    8.60148931  2.83568859  4.30647957  1.68871582  7.77300286\n",
      "  1.22992671  5.07495117  6.61189461 10.493994    0.96612304  8.83968759\n",
      "  4.96025395  1.9869287   7.30007792  1.35609376  0.95465332  6.7292577\n",
      "  5.76313472  4.21738774  5.98105967  7.57801735  4.04267585  6.17604494\n",
      " 10.55134296  3.60682619  2.38836908  2.60629392  7.08215332  4.87996578\n",
      "  2.4254443   4.3382225   7.03894055  7.49772954  5.17817867  1.4822607\n",
      "  3.6615088   6.64630389  3.40917492  3.26006842  1.03494143  1.89517093\n",
      "  2.11309576  5.76313472  0.4729248   5.25580072  3.46652341  1.11522949\n",
      "  1.56254888  3.61829591  6.75833511  2.15897465  2.70952153  2.17044425\n",
      "  2.25073242 10.45691872  2.66364264  5.93518066  8.71618649  1.05788088\n",
      "  3.39770508  4.51560056  8.09148932  1.13816893  3.85916007  8.96585441\n",
      "  3.3086133   0.75966799  1.47079098  4.84555674  7.25686514  4.36382812\n",
      "  1.72312498  1.58548832  5.91490734  4.10882807  1.14963865  7.50653291\n",
      " 10.67217779  1.60842776  4.05147934 10.50279784  7.3830322   4.30647945\n",
      "  9.97519016  8.51586914  4.24646473  1.63136721  3.26006842  2.15897465\n",
      "  4.3294189   2.94158208  2.60629392  3.45505381  7.77033687  4.66204119\n",
      "  1.0693506   6.64630353  1.01200199  5.68551275  6.66043949  4.05414557\n",
      "  1.75753415  3.51506829  3.26006842  5.98105955  3.12243176  1.19551754\n",
      "  1.75753415  5.52227044  2.5030663   3.33155274  3.27153802  7.55241203\n",
      "  4.42998028  5.1437695   3.92531252  3.58388662  7.07068348  2.06721687\n",
      "  4.42998028  5.1296339   2.96185541  4.06561536  6.92157722  9.12643051\n",
      "  2.43424797 11.60389137  9.54200709  5.96958995  3.22832525  5.23552728\n",
      " 10.4657228   2.74659669  5.99252939  1.67724609  4.34969234  3.75593269\n",
      "  8.87409687  6.34809089  2.80127931  3.39770508  1.94104981  2.05574703\n",
      "  4.01707029  4.34969234  6.45398426  2.70952153  1.99839842  5.72872555\n",
      "  0.48439452  3.95091784  1.12669921  0.77113771  1.84929204  5.74019527\n",
      "  3.19125009  1.16110837  2.00986814  2.19338369  8.32354975  4.35502443\n",
      "  9.20671868  4.6823144   4.6134963   1.79194331  6.16457534  6.00666499\n",
      "  3.27153802  4.997329    5.21258783  1.18404782  0.92024416  5.64843762\n",
      "  9.73432612  2.54894543  2.78100586  1.86076176  2.51720214  4.58441901\n",
      "  0.46145508  2.78980947  1.92958009 11.28540516  5.56814945  5.56814921\n",
      "  1.67724609  1.20965332  2.90717292 10.84688973  2.00986814  6.30487788]\n"
     ]
    }
   ],
   "source": [
    "print(summed_erg)"
   ]
  },
  {
   "cell_type": "code",
   "execution_count": 59,
   "metadata": {},
   "outputs": [
    {
     "name": "stdout",
     "output_type": "stream",
     "text": [
      "[   1    1    1    2    2    2    3    6    7    7    8    8    9    9\n",
      "   11   11   12   14   15   17   17   18   18   18   18   19   19   20\n",
      "   22   22   23   24   25   28   29   30   30   31   31   31   32   33\n",
      "   33   35   35   37   38   38   39   40   40   42   42   44   44   46\n",
      "   46   47   47   48   49   50   51   51   52   53   53   54   55   56\n",
      "   56   56   58   59   59   61   61   62   63   63   64   64   66   66\n",
      "   67   67   68   69   69   70   70   70   70   71   71   73   73   74\n",
      "   75   76   78   79   79   79   80   80   80   81   82   82   82   83\n",
      "   84   84   84   85   86   86   87   87   87   88   90   90   91   92\n",
      "   92   92   93   94   94   95   95   97   97   99  100  100  100  101\n",
      "  101  102  103  103  105  107  108  108  108  109  109  110  110  111\n",
      "  113  113  114  115  115  116  118  118  119  119  120  121  124  124\n",
      "  126  126  127  128  130  130  130  132  132  132  133  133  134  135\n",
      "  135  135  137  138  139  141  141  142  144  145  145  146  146  147\n",
      "  147  147  147  149  150  150  150  151  152  152  153  153  154  155\n",
      "  155  155  155  156  156  156  157  157  158  161  162  163  164  167\n",
      "  168  170  170  172  174  175  175  176  176  178  178  178  178  178\n",
      "  179  181  182  183  183  183  184  184  185  186  186  186  188  188\n",
      "  188  189  189  190  191  191  193  193  193  194  194  194  196  196\n",
      "  197  199  199  199  200  200  201  201  205  206  207  207  207  208\n",
      "  208  209  210  210  212  212  213  213  213  214  215  216  216  216\n",
      "  218  219  220  220  222  225  225  226  228  228  229  230  230  231\n",
      "  235  235  235  236  236  237  237  240  242  243  244  245  246  247\n",
      "  247  248  248  248  248  248  248  249  250  251  252  253  253  253\n",
      "  255  255  256  256  257  257  258  258  259  259  259  260  260  261\n",
      "  262  263  263  264  264  265  266  266  267  267  268  269  270  271\n",
      "  271  273  274  275  275  275  276  278  278  278  281  281  283  284\n",
      "  284  284  284  285  286  286  286  286  287  288  288  288  289  289\n",
      "  289  290  290  290  291  291  291  291  292  293  294  295  296  297\n",
      "  297  297  298  299  300  303  303  304  306  307  307  307  308  309\n",
      "  310  310  311  311  312  312  313  313  314  314  315  316  316  319\n",
      "  320  320  321  321  322  322  322  323  323  323  324  325  326  326\n",
      "  326  327  327  327  327  327  327  327  328  328  328  331  332  333\n",
      "  333  334  334  336  336  337  338  338  339  339  340  341  342  343\n",
      "  343  345  346  346  346  348  348  348  350  351  351  352  353  353\n",
      "  357  358  359  360  360  360  362  362  363  363  364  364  364  364\n",
      "  365  366  366  367  370  370  371  371  372  375  376  376  377  377\n",
      "  378  378  378  380  381  383  383  383  384  384  385  386  389  391\n",
      "  394  394  394  394  394  395  395  396  397  398  398  398  399  399\n",
      "  399  400  401  401  402  404  405  405  406  409  411  411  412  412\n",
      "  412  412  413  414  414  414  415  415  416  416  416  416  417  417\n",
      "  417  418  418  418  418  419  421  423  423  426  427  428  430  430\n",
      "  431  433  434  434  435  436  437  437  438  440  440  440  441  441\n",
      "  443  443  444  445  445  446  446  449  449  450  451  452  452  452\n",
      "  454  456  458  460  461  461  462  462  463  463  464  465  466  468\n",
      "  468  469  469  470  471  471  473  473  473  474  474  474  475  475\n",
      "  476  477  478  478  479  479  479  479  480  480  481  481  481  482\n",
      "  483  484  484  486  487  488  488  488  489  489  489  490  491  492\n",
      "  493  493  493  495  495  496  497  497  498  499  500  500  501  501\n",
      "  502  502  502  502  503  503  505  506  507  508  508  511  512  514\n",
      "  514  515  515  515  516  517  519  520  520  520  521  521  522  523\n",
      "  523  523  523  524  525  525  526  527  528  528  529  530  531  532\n",
      "  533  534  534  534  535  536  536  536  536  537  539  540  540  540\n",
      "  541  542  543  544  545  545  545  546  547  549  549  549  549  550\n",
      "  551  551  554  554  555  555  555  556  556  556  558  559  559  559\n",
      "  561  561  562  562  563  566  566  569  570  570  571  571  572  573\n",
      "  574  574  574  576  576  577  577  577  577  577  578  579  580  580\n",
      "  581  581  582  583  584  584  584  585  585  585  586  587  587  587\n",
      "  588  590  590  591  592  592  592  592  592  593  593  593  594  594\n",
      "  594  595  596  596  596  597  598  598  600  601  601  602  602  603\n",
      "  603  603  604  605  606  607  608  609  610  610  612  612  614  615\n",
      "  615  616  616  617  618  619  619  619  619  620  624  625  625  628\n",
      "  628  628  629  631  631  633  633  634  634  634  635  637  638  638\n",
      "  639  639  639  640  641  642  643  643  643  643  646  646  646  646\n",
      "  647  650  651  652  652  652  653  653  655  655  656  658  658  658\n",
      "  659  660  662  662  662  662  663  664  664  666  666  667  667  667\n",
      "  668  668  668  671  671  671  672  672  672  673  673  674  676  677\n",
      "  677  678  678  679  679  679  679  679  679  679  680  680  680  683\n",
      "  683  685  685  685  685  686  686  686  688  688  688  690  690  691\n",
      "  691  692  692  692  695  697  697  698  700  700  704  704  705  705\n",
      "  705  707  707  707  707  708  708  710  712  714  714  714  714  715\n",
      "  718  719  719  720  720  721  721  721  721  721  721  723  725  726\n",
      "  728  729  729  729  730  730  730  730  731  734  734  734  736  739\n",
      "  739  740  740  745  745  745  746  747  749  749  751  751  751  752\n",
      "  752  753  755  755  755  756  756  756  757  758  759  759  759  760\n",
      "  760  762  763  763  764  767  769  770  770  770  770  772  772  773\n",
      "  773  775  775  777  778  781  781  782  783  783  784  784  784  786\n",
      "  786  787  787  788  789  791  791  793  793  797  798  798  800  800\n",
      "  801  801  802  803  803  804  804  805  805  807  808  809  810  811\n",
      "  811  811  812  813  816  816  816  816  817  817  817  817  818  818\n",
      "  819  820  820  821  823  824  825  826  827  827  827  828  828  829\n",
      "  829  830  830  831  832  832  832  834  835  836  836  837  837  837\n",
      "  838  842  843  843  843  843  844  844  844  845  846  847  847  850\n",
      "  851  851  852  852  853  853  854  854  857  857  858  858  859  859\n",
      "  859  860  860  860  860  861  863  863  864  866  867  867  867  869\n",
      "  871  871  871  872  873  873  875  876  877  877  877  879  879  879\n",
      "  881  881  881  881  882  882  885  885  885  885  886  887  887  888\n",
      "  889  889  889  891  893  894  894  894  896  896  897  900  901  901\n",
      "  901  901  902  903  904  905  906  906  906  907  907  909  909  909\n",
      "  910  910  910  911  911  913  913  913  914  916  917  917  917  918\n",
      "  918  919  920  920  920  921  923  924  924  926  926  927  927  927\n",
      "  928  928  930  930  930  932  932  934  934  934  935  936  937  937\n",
      "  939  939  939  941  941  942  942  942  942  943  943  946  947  947\n",
      "  948  950  951  952  952  953  954  956  956  957  958  959  960  960\n",
      "  962  962  963  963  964  964  964  964  965  965  966  967  967  968\n",
      "  968  968  969  969  971  971  972  973  973  974  975  977  977  978\n",
      "  978  978  980  983  984  984  987  987  988  989  989  990  992  993\n",
      "  993  995  996  996  998  999  999  999  999  999 1000 1000 1001 1001\n",
      " 1001 1002 1004 1004 1005 1005 1006 1006 1007 1008 1008 1008 1009 1011\n",
      " 1012 1012 1014 1014 1015 1016 1016 1017 1017 1017 1018 1019 1020 1020\n",
      " 1021 1021 1022 1023 1023 1023 1023 1023 1024 1025 1025 1025 1028 1028\n",
      " 1029 1029 1029 1030 1031 1031 1031 1032 1033 1034 1035 1035 1036 1037\n",
      " 1038 1038 1039 1039 1042 1044 1045 1045 1045 1045 1045 1045 1047 1047\n",
      " 1047 1047 1047 1048 1049 1049 1049 1050 1053 1053 1053 1054 1054 1055\n",
      " 1055 1055 1055 1055 1058 1058 1059 1060 1061 1062 1063 1063 1064 1064\n",
      " 1065 1067 1067 1067 1067 1068 1069 1070 1072 1073 1073 1074 1075 1075\n",
      " 1075 1076 1076 1078 1078 1079 1079 1080 1080 1082 1083 1084 1085 1088\n",
      " 1092 1093 1094 1095 1099 1100 1101 1103 1104 1104 1107 1108 1108 1109\n",
      " 1110 1111 1112 1112 1113 1113 1114 1114 1114 1114 1115 1116 1117 1117\n",
      " 1117 1118 1119 1119 1121 1121 1122 1122 1125 1126 1127 1128 1129 1130\n",
      " 1131 1133 1133 1133 1134 1136 1137 1137 1139 1139 1140 1141 1142 1142\n",
      " 1143 1144 1144 1144 1146 1148 1149 1150 1150 1153 1153 1153 1153 1156\n",
      " 1157 1158 1159 1159 1159 1160 1162 1162 1163 1163 1164 1164 1164 1164\n",
      " 1165 1165 1166 1166 1167 1167 1167 1169 1169 1170 1170 1170 1170 1171\n",
      " 1173 1174 1175 1175 1175 1176 1180 1184 1187 1188 1188 1191 1192 1192\n",
      " 1192 1193 1194 1194 1195 1195 1195 1196 1197 1197 1197 1198 1198 1198\n",
      " 1199 1199 1200 1200 1200 1201 1202 1203 1204 1205 1205 1205 1206 1206\n",
      " 1206 1206 1207 1207 1208 1209 1209 1209 1209 1211 1215 1216 1217 1219\n",
      " 1221 1222 1225 1226 1227 1227 1227 1229 1229 1230 1230 1230 1231 1232\n",
      " 1232 1233 1233 1234 1235 1235 1238 1238 1239 1239 1239 1239 1240 1241\n",
      " 1241 1241 1242 1243 1243 1243 1245 1245 1246 1246 1247 1247 1249 1250\n",
      " 1251 1252 1253 1253 1253 1253 1255 1256 1256 1257 1257 1257 1258 1258\n",
      " 1260 1260 1260 1262 1263 1264 1264 1265 1265 1265 1266 1266 1266 1266\n",
      " 1268 1268 1268 1271 1271 1271 1272 1272 1273 1273 1273 1274 1274 1275\n",
      " 1275 1277 1277 1278 1279 1279 1279 1279 1280 1280 1281 1282 1282 1283\n",
      " 1284 1284 1286 1287 1287 1288 1288 1288 1289 1290 1291 1293 1293 1293\n",
      " 1295 1295 1295 1295 1296 1296 1297 1297 1299 1299 1300 1300 1300 1300\n",
      " 1301 1302 1303 1304 1304 1306 1307 1308 1308 1308 1309 1310 1310 1310\n",
      " 1311 1313 1315 1315 1315 1316 1317 1317 1318 1318 1319 1320 1320 1320\n",
      " 1322 1323 1324 1325 1326 1327 1327 1328 1329 1330 1330 1331 1331 1332\n",
      " 1332 1333 1334 1335 1335 1335 1336 1337 1337 1339 1339 1340 1341 1342\n",
      " 1343 1343 1344 1345 1345 1346 1347 1347 1347 1348 1348 1348 1349 1349\n",
      " 1349 1349 1349 1349 1351 1351 1352 1352 1353 1353 1353 1354 1354 1354\n",
      " 1354 1354 1355 1355 1357 1358 1359 1359 1359 1365 1365 1368 1368 1368\n",
      " 1368 1369 1369 1369 1370 1371 1373 1374 1374 1374 1375 1375 1376 1376\n",
      " 1376 1377 1377 1377 1378 1379 1379 1380 1380 1380 1381 1381 1381 1382\n",
      " 1384 1385 1385 1387 1387 1387 1387 1388 1390 1390 1391 1391 1392 1392\n",
      " 1394 1394 1394 1395 1395 1395 1395 1395 1396 1396 1396 1397 1398 1398\n",
      " 1398 1398 1400 1400 1400 1400 1402 1403 1403 1404 1407 1407 1408 1408\n",
      " 1409 1410 1411 1411 1411 1412 1412 1412 1412 1414 1414 1415 1415 1416\n",
      " 1417 1418 1418 1419 1420 1420 1421 1421 1421 1421 1421 1422 1423 1424\n",
      " 1424 1427 1427 1428 1428 1429 1429 1429 1434 1439 1439 1439 1440 1441\n",
      " 1441 1444 1444 1445 1445 1445 1446 1447 1448 1448 1449 1450 1450 1450\n",
      " 1451 1452 1453 1453 1453 1454 1454 1456 1456 1456 1457 1458 1458 1459\n",
      " 1459 1460 1460 1460 1465 1465 1465 1466 1466 1468 1468 1468 1469 1471\n",
      " 1473 1473 1474 1474 1475 1475 1476 1478 1478 1479 1479 1479 1480 1480\n",
      " 1481 1482 1482 1483 1483 1484 1486 1489 1491 1491 1492 1492 1493 1494\n",
      " 1495 1496 1496 1496 1497 1497 1497 1497 1497 1500 1501 1502 1505 1505\n",
      " 1506 1507 1507 1507 1508 1508 1508 1509 1510 1511 1513 1515 1515 1516\n",
      " 1516 1517 1517 1519 1520 1523 1524 1524 1525 1525 1526 1527 1527 1528\n",
      " 1528 1528 1529 1531 1531 1534 1534 1535 1535 1536 1539 1541 1542 1543\n",
      " 1543 1543 1543 1543 1544 1545 1545 1545 1546 1547 1548 1548 1548 1549\n",
      " 1549 1550 1550 1550 1550 1553 1554 1555 1556 1556 1556 1556 1556 1558\n",
      " 1560 1561 1562 1564 1564 1564 1565 1565 1565 1567 1567 1567 1568 1568\n",
      " 1568 1568 1569 1570 1570 1571 1572 1573 1573 1574 1575 1576 1577 1578\n",
      " 1578 1580 1580 1581 1581 1581 1582 1583 1583 1584 1584 1584 1585 1586\n",
      " 1587 1588 1588 1588 1588 1589 1589 1590 1591 1594 1594 1594 1594 1595\n",
      " 1596 1598 1598 1599 1599 1599 1600 1600 1600 1601 1601 1601 1602 1603\n",
      " 1603 1603 1604 1604 1605 1606 1606 1607 1608 1608 1608 1609 1609 1610\n",
      " 1610 1613 1613 1615 1616 1617 1618 1618 1620 1622 1624 1624 1624 1625\n",
      " 1626 1626 1626 1626 1630 1630 1631 1633 1634 1635 1635 1637 1637 1637\n",
      " 1637 1638 1638 1639 1640 1641 1642 1643 1644 1644 1645 1646 1647 1649\n",
      " 1649 1650 1650 1650 1650 1651 1651 1653 1656 1657 1661 1661 1661 1662\n",
      " 1663 1664 1664 1665 1665 1666 1667 1670 1671 1673 1673 1675 1675 1676\n",
      " 1676 1679 1679 1679 1680 1681 1681 1681 1683 1684 1685 1686 1686 1687\n",
      " 1688 1689 1689 1689 1691 1691 1691 1692 1693 1694 1695 1697 1698 1698\n",
      " 1699 1699 1700 1701 1702 1702 1703 1703 1706 1706 1707 1708 1709 1710\n",
      " 1711 1711 1712 1712 1712 1713 1714 1714 1715 1715 1715 1716 1716 1717\n",
      " 1718 1718 1718 1720 1720 1721 1722 1724 1724 1726 1726 1727 1727 1728\n",
      " 1728 1730 1733 1733 1733 1733 1734 1735 1737 1738 1742 1742 1744 1744\n",
      " 1745 1745 1746 1748 1748 1748 1748 1748 1748 1752 1753 1754 1754 1756\n",
      " 1756 1756 1758 1758 1758 1758 1758 1759 1760 1764 1765 1766 1766 1766\n",
      " 1768 1768 1768 1770 1770 1771 1772 1773 1774 1775 1776 1776 1776 1776\n",
      " 1778 1779 1780 1780 1781 1782 1783 1784 1784 1785 1786 1786 1787 1788\n",
      " 1788 1789 1789 1789 1789 1790 1791 1791 1791 1792 1792 1793 1794 1795\n",
      " 1796 1797 1797 1798 1799 1799 1799 1800 1801 1801 1802 1806 1806 1806\n",
      " 1807 1807 1808 1808 1808 1808 1809 1809 1811 1812 1812 1812 1812 1815\n",
      " 1815 1815 1816 1816 1817 1818 1819 1820 1822 1822 1822 1823 1824 1826\n",
      " 1826 1828 1828 1829 1829 1830 1830 1831 1831 1832 1833 1834 1835 1835\n",
      " 1836 1836 1837 1838 1838 1839 1840 1840 1840 1840 1840 1840 1841 1841\n",
      " 1842 1842 1842 1843 1844 1844 1844 1844 1846 1847 1848 1849 1851 1854\n",
      " 1854 1854 1856 1857 1858 1860 1860 1861 1861 1862 1865 1865 1865 1867\n",
      " 1867 1869 1870 1870 1871 1872 1875 1876 1876 1877 1877 1877 1879 1879\n",
      " 1879 1879 1880 1880 1880 1881 1882 1883 1884 1884 1886 1886 1886 1886\n",
      " 1890 1890 1890 1891 1892 1894 1895 1896 1896 1897 1897 1899 1899 1900\n",
      " 1901 1901 1903 1904 1905 1907 1908 1909 1911 1912 1912 1913 1913 1913\n",
      " 1918 1920 1920 1920 1920 1921 1922 1923 1924 1924 1924 1925 1926 1931\n",
      " 1931 1934 1936 1936 1937 1938 1938 1938 1939 1939 1940 1941 1942 1943\n",
      " 1944 1944 1944 1946 1947 1947 1947 1948 1949 1949 1950 1951 1951 1952\n",
      " 1953 1956 1957 1958 1962 1963 1964 1964 1966 1967 1968 1968 1968 1969\n",
      " 1969 1970 1971 1972 1973 1976 1976 1977 1979 1980 1980 1981 1982 1982\n",
      " 1985 1985 1985 1986 1986 1986 1987 1987 1988 1989 1989 1990 1991 1991\n",
      " 1991 1993 1994 1994 1994 1995 1996 1997 1997 1997 1998 1998 1999 2001\n",
      " 2002 2003 2005 2006 2006 2010 2010 2010 2012 2012 2013 2013 2013 2014\n",
      " 2015 2015 2016 2017 2019 2019 2020 2021 2022 2024 2024 2024 2024 2026\n",
      " 2026 2027 2027 2028 2029 2029 2029 2030 2030 2031 2032 2032 2033 2033\n",
      " 2035 2035 2036 2036 2036 2037 2037 2039 2040 2040 2041 2041 2042 2043\n",
      " 2043 2043 2043 2044 2045 2046 2046 2048 2051 2054 2055 2055 2055 2055\n",
      " 2057 2057 2059 2060 2061 2061 2062 2064 2064 2064 2065 2065 2066 2066\n",
      " 2067 2068 2070 2070 2071 2072 2072 2073 2073 2074 2077 2078 2078 2080\n",
      " 2081 2082 2084 2084 2085 2085 2086 2087 2087 2088 2089 2090 2091 2092\n",
      " 2093 2093 2093 2094 2094 2095 2095 2096 2099 2099 2099 2102 2102 2103\n",
      " 2104 2105 2106 2106 2106 2107 2108 2108 2108 2109 2109 2111 2112 2114\n",
      " 2114 2115 2116 2118 2121 2121 2121 2121 2126 2127 2128 2128 2129 2130\n",
      " 2130 2130 2131 2131 2131 2132 2132 2134 2134 2135 2135 2135 2137 2138\n",
      " 2138 2139 2140 2140 2142 2143 2147 2147 2147 2149 2149 2151 2152 2152\n",
      " 2155 2155 2156 2158 2159 2160 2160 2160 2161 2162 2162 2163 2163 2164\n",
      " 2164 2164 2165 2165 2165 2165 2165 2166 2167 2167 2168 2168 2169 2170\n",
      " 2170 2171 2171 2171 2173 2173 2173 2173 2176 2179 2180 2180 2181 2181\n",
      " 2181 2182 2183 2183 2185 2186 2186 2186 2187 2187 2187 2189 2191 2192\n",
      " 2192 2192 2192 2193 2194 2195 2196 2196 2196 2198 2198 2198 2198 2199\n",
      " 2200 2200 2202 2203 2204 2204 2205 2205 2205 2206 2207 2207 2208 2209\n",
      " 2212 2214 2214 2215 2216 2217 2218 2219 2220 2222 2222 2222 2225 2226\n",
      " 2227 2227 2227 2228 2228 2229 2229 2229 2229 2230 2231 2231 2231 2232\n",
      " 2233 2234 2235 2236 2236 2236 2237 2238 2240 2241 2241 2243 2243 2244\n",
      " 2244 2245 2246 2246 2247 2248 2249 2252 2253 2254 2255 2255 2255 2255\n",
      " 2256 2256 2257 2258 2258 2258 2259 2259 2260 2261 2262 2262 2262 2262\n",
      " 2263 2264 2265 2265 2265 2266 2266 2266 2266 2269 2269 2270 2270 2271\n",
      " 2271 2271 2272 2272 2272 2272 2273 2273 2273 2274 2274 2275 2275 2276\n",
      " 2277 2277 2278 2278 2278 2279 2280 2281 2281 2283 2284 2284 2284 2285\n",
      " 2286 2287 2288 2288 2289 2289 2291 2291 2295 2296 2298 2299 2299 2299\n",
      " 2300 2300 2302 2304 2304 2304 2305 2307 2307 2308 2309 2311 2312 2312\n",
      " 2313 2315 2316 2316 2316 2316 2317 2318 2318 2321 2323 2323 2323 2324\n",
      " 2324 2324 2326 2327 2327 2327 2327 2328 2330 2331 2332 2332 2332 2334\n",
      " 2334 2334 2335 2336 2337 2338 2338 2339 2339 2340 2340 2340 2342 2342\n",
      " 2342 2343 2344 2344 2344 2345 2346 2348 2350 2350 2350 2350 2351 2351\n",
      " 2351 2351 2353 2353 2353 2353 2353 2354 2354 2354 2356 2358 2358 2358\n",
      " 2359 2362 2363 2364 2365 2365 2366 2366 2367 2368 2368 2368 2369 2369\n",
      " 2369 2370 2370 2370 2370 2371 2371 2372 2372 2374 2375 2375 2375 2376\n",
      " 2378 2378 2378 2379 2384 2387 2387 2390 2392 2393 2393 2396 2397 2397\n",
      " 2398 2399 2399 2399 2400 2401 2401 2402 2403 2403 2404 2405 2406 2407\n",
      " 2407 2408 2409 2410 2410 2411 2411 2411 2412 2412 2413 2414 2415 2416\n",
      " 2417 2419 2419 2421 2422 2422 2422 2423 2424 2424 2424 2427 2428 2428\n",
      " 2428 2429 2429 2430 2431 2431 2431 2432 2433 2433 2434 2434 2435 2435\n",
      " 2435 2436 2441 2441 2441 2441 2442 2445 2445 2448 2449 2450 2451 2451\n",
      " 2453 2455 2456 2456 2457 2457 2457 2457 2458 2458 2459 2460 2460 2461\n",
      " 2462 2463 2463 2465 2466 2466 2466 2467 2468 2469 2469 2470 2470 2470\n",
      " 2472 2473 2474 2474 2475 2475 2476 2477 2477 2478 2479 2479 2479 2481\n",
      " 2482 2482 2483 2484 2487 2487 2488 2490 2491 2491 2491 2491 2492 2492\n",
      " 2492 2493 2494 2496 2498 2498 2499 2499 2500 2501 2501 2501 2501 2501\n",
      " 2502 2503 2503 2504 2504 2504 2505 2507 2508 2509 2509 2510 2510 2510\n",
      " 2511 2511 2511 2512 2512 2513 2514 2515 2515 2515 2517 2517 2518 2519\n",
      " 2520 2520 2521 2521 2523 2523 2524 2525 2526 2527 2527 2527 2530 2531\n",
      " 2531 2533 2534 2534 2534 2535 2537 2538 2539 2539 2542 2544 2544 2545\n",
      " 2547 2547 2547 2551 2552 2553 2553 2553 2553 2554 2555 2556 2556 2556\n",
      " 2557 2557 2558 2560 2560 2560 2562 2563 2564 2564 2566 2566 2566 2568\n",
      " 2569 2569 2570 2570 2571 2571 2573 2574 2575 2576 2576 2577 2577 2579\n",
      " 2579 2581 2582 2583 2583 2584 2584 2585 2585 2585 2585 2586 2586 2587\n",
      " 2588 2589 2591 2591 2593 2594 2594 2595 2595 2595 2596 2597 2598 2598\n",
      " 2598 2599 2599 2599 2600 2600 2600 2600 2602 2603 2603 2605 2606 2607\n",
      " 2607 2607 2608 2608 2608 2608 2608 2609 2609 2610 2610 2610 2611 2612\n",
      " 2612 2613 2615 2616 2617 2617 2618 2618 2619 2619 2619 2620 2620 2620\n",
      " 2621 2621 2622 2623 2624 2626 2627 2628 2628 2629 2630 2632 2632 2632\n",
      " 2633 2633 2633 2635 2635 2636 2637 2638 2638 2640 2640 2640 2642 2643\n",
      " 2646 2647 2647 2647 2648 2649 2649 2649 2651 2652 2652 2652 2653 2654\n",
      " 2656 2656 2656 2656 2658 2658 2658 2658 2659 2659 2660 2660 2660 2660\n",
      " 2661 2662 2663 2663 2664 2664 2664 2665 2666 2666 2666 2666 2667 2667\n",
      " 2669 2669 2669 2669 2670 2671 2672 2673 2673 2674 2675 2675 2676 2677\n",
      " 2677 2677 2677 2678 2678 2679 2679 2679 2680 2680 2680 2680 2680 2680\n",
      " 2683 2684 2685 2687 2688 2688 2688 2688 2688 2688 2689 2691 2691 2691\n",
      " 2692 2692 2693 2696 2696 2697 2699 2699 2700 2703 2703 2703 2703 2703\n",
      " 2703 2704 2704 2704 2705 2706 2706 2707 2707 2707 2709 2710 2711 2711\n",
      " 2714 2714 2715 2716 2716 2718 2719 2720 2720 2721 2723 2724 2724 2725\n",
      " 2727 2728 2729 2731 2731 2732 2733 2733 2735 2737 2737 2739 2740 2740\n",
      " 2740 2740 2741 2742 2742 2743 2744 2744 2748 2748 2749 2749 2750 2751\n",
      " 2751 2752 2753 2753 2754 2754 2754 2755 2756 2757 2758 2759 2759 2761\n",
      " 2761 2762 2762 2763 2764 2764 2764 2764 2765 2766 2769 2769 2769 2770\n",
      " 2770 2771 2773 2773 2774 2775 2775 2775 2775 2777 2777 2778 2779 2779\n",
      " 2780 2781 2782 2784 2784 2786 2786 2786 2788 2788 2789 2789 2789 2790\n",
      " 2791 2792 2793 2795 2796 2796 2796 2797 2799 2800 2802 2803 2804 2804\n",
      " 2805 2807 2808 2808 2808 2809 2810 2810 2812 2812 2812 2814 2815 2815\n",
      " 2815 2816 2816 2817 2819 2819 2819 2820 2822 2824 2824 2824 2825 2826\n",
      " 2826 2827 2827 2827 2828 2829 2829 2830 2833 2834 2835 2836 2836 2836\n",
      " 2836 2837 2839 2839 2840 2841 2841 2841 2842 2843 2843 2844 2844 2845\n",
      " 2845 2845 2845 2846 2847 2847 2847 2848 2848 2851 2852 2852 2853 2854\n",
      " 2855 2855 2855 2856 2856 2857 2857 2857 2858 2858 2859 2859 2859 2860\n",
      " 2860 2861 2861 2861 2861 2861 2863 2863 2864 2864 2864 2864 2867 2867\n",
      " 2868 2869 2871 2871 2872 2872 2873 2873 2877 2879 2879 2879 2881 2881\n",
      " 2881 2881 2882 2882 2882 2883 2883 2883 2883 2883 2883 2885 2885 2886\n",
      " 2887 2888 2888 2889 2890 2890 2890 2890 2890 2890 2891 2892 2893 2894\n",
      " 2895 2895 2897 2898 2898 2898 2898 2899 2900 2903 2904 2905 2905 2906\n",
      " 2908 2910 2911 2912 2913 2913 2913 2915 2916 2916 2917 2917 2917 2917\n",
      " 2918 2919 2920 2920 2920 2922 2922 2923 2924 2924 2925 2925 2925 2926\n",
      " 2926 2928 2929 2930 2930 2931 2931 2931 2932 2932 2933 2934 2936 2936\n",
      " 2936 2940 2941 2941 2941 2942 2943 2943 2944 2944 2948 2952 2953 2953\n",
      " 2953 2955 2955 2955 2956 2956 2957 2957 2957 2957 2957 2957 2957 2958\n",
      " 2958 2958 2959 2959 2960 2962 2963 2964 2966 2966 2967 2967 2968 2969\n",
      " 2970 2970 2972 2972 2973 2974 2974 2975 2976 2976 2976 2977 2977 2977\n",
      " 2978 2978 2979 2980 2980 2981 2983 2983 2985 2986 2987 2988 2988 2990\n",
      " 2991 2991 2992 2994 2994 2995 2998 2998 2999 3000 3000 3001 3001 3002\n",
      " 3005 3006 3006 3006 3006 3006 3006 3007 3009 3010 3010 3011 3011 3012\n",
      " 3012 3012 3014 3015 3015 3015 3016 3016 3016 3016 3018 3018 3019 3019\n",
      " 3020 3020 3021 3021 3023 3023 3024 3024 3025 3026 3028 3028 3030 3030\n",
      " 3030 3031 3031 3032 3034 3035 3036 3037 3038 3039 3039 3039 3042 3043\n",
      " 3043 3043 3043 3044 3045 3045 3047 3048 3048 3049 3051 3052 3053 3053\n",
      " 3053 3053 3056 3056 3058 3059 3060 3061 3062 3062 3062 3063 3063 3063\n",
      " 3064 3064 3064 3065 3066 3067 3068 3068 3069 3069 3069 3070 3071 3071\n",
      " 3071 3072 3072 3073 3076 3077 3077 3078 3078 3078 3079 3080 3080 3082\n",
      " 3083 3083 3084 3084 3084 3085 3086 3087 3089 3089 3089 3089 3090 3090\n",
      " 3092 3092 3093 3094 3094 3095 3095 3096 3096 3096 3097 3098 3098 3098]\n"
     ]
    }
   ],
   "source": [
    "print(bin_idx)"
   ]
  },
  {
   "cell_type": "code",
   "execution_count": 49,
   "metadata": {},
   "outputs": [],
   "source": [
    "n_per_bin = np.bincount(bin_idx-1) # bin_idx is one-indexed for reasons I don't understand!"
   ]
  },
  {
   "cell_type": "code",
   "execution_count": 50,
   "metadata": {},
   "outputs": [],
   "source": [
    "phot_per_bin, bins2 = np.histogram(phot_times, bins=intervals)"
   ]
  },
  {
   "cell_type": "code",
   "execution_count": 51,
   "metadata": {},
   "outputs": [],
   "source": [
    "summed_erg = summed_erg[(summed_erg > 0) & (summed_erg < np.max(energ_hi))]"
   ]
  },
  {
   "cell_type": "code",
   "execution_count": 52,
   "metadata": {},
   "outputs": [],
   "source": [
    "energ_intervals = np.hstack([energ_lo, energ_hi[-1]])\n"
   ]
  },
  {
   "cell_type": "code",
   "execution_count": 62,
   "metadata": {},
   "outputs": [
    {
     "data": {
      "text/plain": [
       "array([ 0.255     ,  0.26646972,  0.27793944,  0.28940919,  0.30087891,\n",
       "        0.31234863,  0.32381836,  0.33528808,  0.3467578 ,  0.35822755,\n",
       "        0.36969727,  0.38116699,  0.39263672,  0.40410644,  0.41557616,\n",
       "        0.42704591,  0.43851563,  0.44998536,  0.46145508,  0.4729248 ,\n",
       "        0.48439452,  0.49586427,  0.50733399,  0.51880372,  0.53027344,\n",
       "        0.54174316,  0.55321288,  0.5646826 ,  0.57615232,  0.58762205,\n",
       "        0.59909177,  0.61056155,  0.62203127,  0.63350099,  0.64497072,\n",
       "        0.65644044,  0.66791016,  0.67937988,  0.6908496 ,  0.70231932,\n",
       "        0.71378905,  0.72525877,  0.73672849,  0.74819827,  0.75966799,\n",
       "        0.77113771,  0.78260744,  0.79407716,  0.80554688,  0.8170166 ,\n",
       "        0.82848632,  0.83995605,  0.85142577,  0.86289549,  0.87436521,\n",
       "        0.88583493,  0.89730471,  0.90877444,  0.92024416,  0.93171388,\n",
       "        0.9431836 ,  0.95465332,  0.96612304,  0.97759277,  0.98906249,\n",
       "        1.00053227,  1.01200199,  1.02347171,  1.03494143,  1.04641116,\n",
       "        1.05788088,  1.0693506 ,  1.08082032,  1.09229004,  1.10375977,\n",
       "        1.11522949,  1.12669921,  1.13816893,  1.14963865,  1.16110837,\n",
       "        1.1725781 ,  1.18404782,  1.19551754,  1.20698726,  1.21845698,\n",
       "        1.22992671,  1.24139643,  1.25286627,  1.26433599,  1.27580571,\n",
       "        1.28727543,  1.29874516,  1.31021488,  1.3216846 ,  1.33315432,\n",
       "        1.34462404,  1.35609376,  1.36756349,  1.37903321,  1.39050293,\n",
       "        1.40197265,  1.41344237,  1.4249121 ,  1.43638182,  1.44785154,\n",
       "        1.45932126,  1.47079098,  1.4822607 ,  1.49373043,  1.50520015,\n",
       "        1.51666987,  1.52813959,  1.53960943,  1.55107915,  1.56254888,\n",
       "        1.5740186 ,  1.58548832,  1.59695804,  1.60842776,  1.61989748,\n",
       "        1.63136721,  1.64283693,  1.65430665,  1.66577637,  1.67724609,\n",
       "        1.68871582,  1.70018554,  1.71165526,  1.72312498,  1.7345947 ,\n",
       "        1.74606442,  1.75753415,  1.76900387,  1.78047359,  1.79194331,\n",
       "        1.80341303,  1.81488276,  1.8263526 ,  1.83782232,  1.84929204,\n",
       "        1.86076176,  1.87223148,  1.88370121,  1.89517093,  1.90664065,\n",
       "        1.91811037,  1.92958009,  1.94104981,  1.95251954,  1.96398926,\n",
       "        1.97545898,  1.9869287 ,  1.99839842,  2.00986814,  2.02133799,\n",
       "        2.03280759,  2.04427743,  2.05574703,  2.06721687,  2.07868648,\n",
       "        2.09015632,  2.10162592,  2.11309576,  2.12456536,  2.1360352 ,\n",
       "        2.14750481,  2.15897465,  2.17044425,  2.18191409,  2.19338369,\n",
       "        2.20485353,  2.21632314,  2.22779298,  2.23926258,  2.25073242,\n",
       "        2.26220226,  2.27367187,  2.28514171,  2.29661131,  2.30808115,\n",
       "        2.31955075,  2.33102059,  2.3424902 ,  2.35396004,  2.36542964,\n",
       "        2.37689948,  2.38836908,  2.39983892,  2.41130853,  2.42277837,\n",
       "        2.43424797,  2.44571781,  2.45718741,  2.46865726,  2.48012686,\n",
       "        2.4915967 ,  2.5030663 ,  2.51453614,  2.52600574,  2.53747559,\n",
       "        2.54894543,  2.56041503,  2.57188487,  2.58335447,  2.59482431,\n",
       "        2.60629392,  2.61776376,  2.62923336,  2.6407032 ,  2.6521728 ,\n",
       "        2.66364264,  2.67511225,  2.68658209,  2.69805169,  2.70952153,\n",
       "        2.72099113,  2.73246098,  2.74393058,  2.75540042,  2.76687002,\n",
       "        2.77833986,  2.78980947,  2.80127931,  2.81274891,  2.82421875,\n",
       "        2.83568859,  2.84715819,  2.85862803,  2.87009764,  2.88156748,\n",
       "        2.89303708,  2.90450692,  2.91597652,  2.92744637,  2.93891597,\n",
       "        2.95038581,  2.96185541,  2.97332525,  2.98479486,  2.9962647 ,\n",
       "        3.0077343 ,  3.01920414,  3.03067374,  3.04214358,  3.05361319,\n",
       "        3.06508303,  3.07655263,  3.08802247,  3.09949207,  3.11096191,\n",
       "        3.12243176,  3.13390136,  3.1453712 ,  3.1568408 ,  3.16831064,\n",
       "        3.17978024,  3.19125009,  3.20271969,  3.21418953,  3.22565913,\n",
       "        3.23712897,  3.24859858,  3.26006842,  3.27153802,  3.28300786,\n",
       "        3.29447746,  3.3059473 ,  3.31741691,  3.32888675,  3.34035635,\n",
       "        3.35182619,  3.36329579,  3.37476563,  3.38623524,  3.39770508,\n",
       "        3.40917492,  3.42064452,  3.43211436,  3.44358397,  3.45505381,\n",
       "        3.46652341,  3.47799325,  3.48946285,  3.50093269,  3.5124023 ,\n",
       "        3.52387214,  3.53534174,  3.54681158,  3.55828118,  3.56975102,\n",
       "        3.58122063,  3.59269047,  3.60416007,  3.61562991,  3.62709951,\n",
       "        3.63856936,  3.65003896,  3.6615088 ,  3.6729784 ,  3.68444824,\n",
       "        3.69591808,  3.70738769,  3.71885753,  3.73032713,  3.74179697,\n",
       "        3.75326657,  3.76473641,  3.77620602,  3.78767586,  3.79914546,\n",
       "        3.8106153 ,  3.8220849 ,  3.83355474,  3.84502435,  3.85649419,\n",
       "        3.86796379,  3.87943363,  3.89090323,  3.90237308,  3.91384268,\n",
       "        3.92531252,  3.93678212,  3.94825196,  3.95972157,  3.97119141,\n",
       "        3.98266125,  3.99413085,  4.00560045,  4.01707029,  4.02854013,\n",
       "        4.04000998,  4.05147934,  4.06294918,  4.07441902,  4.08588886,\n",
       "        4.09735823,  4.10882807,  4.12029791,  4.13176775,  4.14323711,\n",
       "        4.15470695,  4.1661768 ,  4.17764664,  4.189116  ,  4.20058584,\n",
       "        4.21205568,  4.22352552,  4.23499489,  4.24646473,  4.25793457,\n",
       "        4.26940441,  4.28087425,  4.29234362,  4.30381346,  4.3152833 ,\n",
       "        4.32675314,  4.3382225 ,  4.34969234,  4.36116219,  4.37263203,\n",
       "        4.38410139,  4.39557123,  4.40704107,  4.41851091,  4.42998028,\n",
       "        4.44145012,  4.45291996,  4.4643898 ,  4.47585917,  4.48732901,\n",
       "        4.49879885,  4.51026869,  4.52173805,  4.53320789,  4.54467773,\n",
       "        4.55614758,  4.56761742,  4.57908678,  4.59055662,  4.60202646,\n",
       "        4.6134963 ,  4.62496567,  4.63643551,  4.64790535,  4.65937519,\n",
       "        4.67084455,  4.6823144 ,  4.69378424,  4.70525408,  4.71672344,\n",
       "        4.72819328,  4.73966312,  4.75113297,  4.76260233,  4.77407217,\n",
       "        4.78554201,  4.79701185,  4.80848122,  4.81995106,  4.8314209 ,\n",
       "        4.84289074,  4.85436058,  4.86582994,  4.87729979,  4.88876963,\n",
       "        4.90023947,  4.91170883,  4.92317867,  4.93464851,  4.94611835,\n",
       "        4.95758772,  4.96905756,  4.9805274 ,  4.99199724,  5.00346661,\n",
       "        5.01493645,  5.02640629,  5.03787613,  5.04934549,  5.06081533,\n",
       "        5.07228518,  5.08375502,  5.09522438,  5.10669422,  5.11816406,\n",
       "        5.1296339 ,  5.14110374,  5.15257311,  5.16404295,  5.17551279,\n",
       "        5.18698263,  5.198452  ,  5.20992184,  5.22139168,  5.23286152,\n",
       "        5.24433088,  5.25580072,  5.26727057,  5.27874041,  5.29020977,\n",
       "        5.30167961,  5.31314945,  5.32461929,  5.33608866,  5.3475585 ,\n",
       "        5.35902834,  5.37049818,  5.38196754,  5.39343739,  5.40490723,\n",
       "        5.41637707,  5.42784691,  5.43931627,  5.45078611,  5.46225595,\n",
       "        5.4737258 ,  5.48519516,  5.496665  ,  5.50813484,  5.51960468,\n",
       "        5.53107405,  5.54254389,  5.55401373,  5.56548357,  5.57695293,\n",
       "        5.58842278,  5.59989262,  5.61136246,  5.62283182,  5.63430166,\n",
       "        5.6457715 ,  5.65724134,  5.66871071,  5.68018055,  5.69165039,\n",
       "        5.70312023,  5.71459007,  5.72605944,  5.73752928,  5.74899912,\n",
       "        5.76046896,  5.77193832,  5.78340816,  5.79487801,  5.80634785,\n",
       "        5.81781721,  5.82928705,  5.84075689,  5.85222673,  5.8636961 ,\n",
       "        5.87516594,  5.88663578,  5.89810562,  5.90957499,  5.92104483,\n",
       "        5.93251467,  5.94398451,  5.95545387,  5.96692371,  5.97839355,\n",
       "        5.9898634 ,  6.00133324,  6.0128026 ,  6.02427244,  6.03574228,\n",
       "        6.04721212,  6.05868149,  6.07015133,  6.08162117,  6.09309101,\n",
       "        6.10456038,  6.11603022,  6.12750006,  6.1389699 ,  6.15043926,\n",
       "        6.1619091 ,  6.17337894,  6.18484879,  6.19631815,  6.20778799,\n",
       "        6.21925783,  6.23072767,  6.24219704,  6.25366688,  6.26513672,\n",
       "        6.27660656,  6.2880764 ,  6.29954576,  6.31101561,  6.32248545,\n",
       "        6.33395529,  6.34542465,  6.35689449,  6.36836433,  6.37983418,\n",
       "        6.39130354,  6.40277338,  6.41424322,  6.42571306,  6.43718243,\n",
       "        6.44865227,  6.46012211,  6.47159195,  6.48306131,  6.49453115,\n",
       "        6.506001  ,  6.51747084,  6.5289402 ,  6.54041004,  6.55187988,\n",
       "        6.56334972,  6.57481956,  6.58628893,  6.59775877,  6.60922861,\n",
       "        6.62069845,  6.63216782,  6.64363766,  6.6551075 ,  6.66657734,\n",
       "        6.6780467 ,  6.68951654,  6.70098639,  6.71245623,  6.72392559,\n",
       "        6.73539543,  6.74686527,  6.75833511,  6.76980448,  6.78127432,\n",
       "        6.79274416,  6.804214  ,  6.81568336,  6.82715321,  6.83862305,\n",
       "        6.85009289,  6.86156273,  6.87303209,  6.88450193,  6.89597178,\n",
       "        6.90744162,  6.91891098,  6.93038082,  6.94185066,  6.9533205 ,\n",
       "        6.96478987,  6.97625971,  6.98772955,  6.99919939,  7.01066875,\n",
       "        7.0221386 ,  7.03360844,  7.04507828,  7.05654764,  7.06801748,\n",
       "        7.07948732,  7.09095716,  7.10242653,  7.11389637,  7.12536621,\n",
       "        7.13683605,  7.14830589,  7.15977526,  7.1712451 ,  7.18271494,\n",
       "        7.19418478,  7.20565414,  7.21712399,  7.22859383,  7.24006367,\n",
       "        7.25153303,  7.26300287,  7.27447271,  7.28594255,  7.29741192,\n",
       "        7.30888176,  7.3203516 ,  7.33182144,  7.34329081,  7.35476065,\n",
       "        7.36623049,  7.37770033,  7.38916969,  7.40063953,  7.41210938,\n",
       "        7.42357922,  7.43504906,  7.44651842,  7.45798826,  7.4694581 ,\n",
       "        7.48092794,  7.49239731,  7.50386715,  7.51533699,  7.52680683,\n",
       "        7.5382762 ,  7.54974604,  7.56121588,  7.57268572,  7.58415508,\n",
       "        7.59562492,  7.60709476,  7.61856461,  7.63003397,  7.64150381,\n",
       "        7.65297365,  7.66444349,  7.67591286,  7.6873827 ,  7.69885254,\n",
       "        7.71032238,  7.72179222,  7.73326159,  7.74473143,  7.75620127,\n",
       "        7.76767111,  7.77914047,  7.79061031,  7.80208015,  7.81355   ,\n",
       "        7.82501936,  7.8364892 ,  7.84795904,  7.85942888,  7.87089825,\n",
       "        7.88236809,  7.89383793,  7.90530777,  7.91677713,  7.92824697,\n",
       "        7.93971682,  7.95118666,  7.96265602,  7.97412586,  7.9855957 ,\n",
       "        7.99706554,  8.00853539,  8.02000523,  8.03147507,  8.04294395,\n",
       "        8.0544138 ,  8.06588364,  8.07735348,  8.08882332,  8.10029316,\n",
       "        8.111763  ,  8.12323284,  8.13470173,  8.14617157,  8.15764141,\n",
       "        8.16911125,  8.18058109,  8.19205093,  8.20352077,  8.21499062,\n",
       "        8.2264595 ,  8.23792934,  8.24939919,  8.26086903,  8.27233887,\n",
       "        8.28380871,  8.29527855,  8.30674839,  8.31821823,  8.32968712,\n",
       "        8.34115696,  8.3526268 ,  8.36409664,  8.37556648,  8.38703632,\n",
       "        8.39850616,  8.40997601,  8.42144489,  8.43291473,  8.44438457,\n",
       "        8.45585442,  8.46732426,  8.4787941 ,  8.49026394,  8.50173378,\n",
       "        8.51320267,  8.52467251,  8.53614235,  8.54761219,  8.55908203,\n",
       "        8.57055187,  8.58202171,  8.59349155,  8.6049614 ,  8.61643028,\n",
       "        8.62790012,  8.63936996,  8.65083981,  8.66230965,  8.67377949,\n",
       "        8.68524933,  8.69671917,  8.70818806,  8.7196579 ,  8.73112774,\n",
       "        8.74259758,  8.75406742,  8.76553726,  8.7770071 ,  8.78847694,\n",
       "        8.79994583,  8.81141567,  8.82288551,  8.83435535,  8.8458252 ,\n",
       "        8.85729504,  8.86876488,  8.88023472,  8.89170456,  8.90317345,\n",
       "        8.91464329,  8.92611313,  8.93758297,  8.94905281,  8.96052265,\n",
       "        8.97199249,  8.98346233,  8.99493122,  9.00640106,  9.0178709 ,\n",
       "        9.02934074,  9.04081059,  9.05228043,  9.06375027,  9.07522011,\n",
       "        9.086689  ,  9.09815884,  9.10962868,  9.12109852,  9.13256836,\n",
       "        9.1440382 ,  9.15550804,  9.16697788,  9.17844772,  9.18991661,\n",
       "        9.20138645,  9.21285629,  9.22432613,  9.23579597,  9.24726582,\n",
       "        9.25873566,  9.2702055 ,  9.28167439,  9.29314423,  9.30461407,\n",
       "        9.31608391,  9.32755375,  9.33902359,  9.35049343,  9.36196327,\n",
       "        9.37343216,  9.384902  ,  9.39637184,  9.40784168,  9.41931152,\n",
       "        9.43078136,  9.44225121,  9.45372105,  9.46519089,  9.47665977,\n",
       "        9.48812962,  9.49959946,  9.5110693 ,  9.52253914,  9.53400898,\n",
       "        9.54547882,  9.55694866,  9.56841755,  9.57988739,  9.59135723,\n",
       "        9.60282707,  9.61429691,  9.62576675,  9.6372366 ,  9.64870644,\n",
       "        9.66017532,  9.67164516,  9.68311501,  9.69458485,  9.70605469,\n",
       "        9.71752453,  9.72899437,  9.74046421,  9.75193405,  9.76340294,\n",
       "        9.77487278,  9.78634262,  9.79781246,  9.8092823 ,  9.82075214,\n",
       "        9.83222198,  9.84369183,  9.85516071,  9.86663055,  9.8781004 ,\n",
       "        9.88957024,  9.90104008,  9.91250992,  9.92397976,  9.9354496 ,\n",
       "        9.94691849,  9.95838833,  9.96985817,  9.98132801,  9.99279785,\n",
       "       10.00426769, 10.01573753, 10.02720737, 10.03867722, 10.0501461 ,\n",
       "       10.06161594, 10.07308578, 10.08455563, 10.09602547, 10.10749531,\n",
       "       10.11896515, 10.13043499, 10.14190388, 10.15337372, 10.16484356,\n",
       "       10.1763134 , 10.18778324, 10.19925308, 10.21072292, 10.22219276,\n",
       "       10.23366165, 10.24513149, 10.25660133, 10.26807117, 10.27954102,\n",
       "       10.29101086, 10.3024807 , 10.31395054, 10.32542038, 10.33688927,\n",
       "       10.34835911, 10.35982895, 10.37129879, 10.38276863, 10.39423847,\n",
       "       10.40570831, 10.41717815, 10.42864704, 10.44011688, 10.45158672,\n",
       "       10.46305656, 10.47452641, 10.48599625, 10.49746609, 10.50893593,\n",
       "       10.52040482, 10.53187466, 10.5433445 , 10.55481434, 10.56628418,\n",
       "       10.57775402, 10.58922386, 10.6006937 , 10.61216354, 10.62363243,\n",
       "       10.63510227, 10.64657211, 10.65804195, 10.6695118 , 10.68098164,\n",
       "       10.69245148, 10.70392132, 10.71539021, 10.72686005, 10.73832989,\n",
       "       10.74979973, 10.76126957, 10.77273941, 10.78420925, 10.79567909,\n",
       "       10.80714798, 10.81861782, 10.83008766, 10.8415575 , 10.85302734,\n",
       "       10.86449718, 10.87596703, 10.88743687, 10.89890671, 10.9103756 ,\n",
       "       10.92184544, 10.93331528, 10.94478512, 10.95625496, 10.9677248 ,\n",
       "       10.97919464, 10.99066448, 11.00213337, 11.01360321, 11.02507305,\n",
       "       11.03654289, 11.04801273, 11.05948257, 11.07095242, 11.08242226,\n",
       "       11.09389114, 11.10536098, 11.11683083, 11.12830067, 11.13977051,\n",
       "       11.15124035, 11.16271019, 11.17418003, 11.18564987, 11.19711876,\n",
       "       11.2085886 , 11.22005844, 11.23152828, 11.24299812, 11.25446796,\n",
       "       11.26593781, 11.27740765, 11.28887653, 11.30034637, 11.31181622,\n",
       "       11.32328606, 11.3347559 , 11.34622574, 11.35769558, 11.36916542,\n",
       "       11.38063431, 11.39210415, 11.40357399, 11.41504383, 11.42651367,\n",
       "       11.43798351, 11.44945335, 11.46092319, 11.47239304, 11.48386192,\n",
       "       11.49533176, 11.50680161, 11.51827145, 11.52974129, 11.54121113,\n",
       "       11.55268097, 11.56415081, 11.5756197 , 11.58708954, 11.59855938,\n",
       "       11.61002922, 11.62149906, 11.6329689 , 11.64443874, 11.65590858,\n",
       "       11.66737747, 11.67884731, 11.69031715, 11.70178699, 11.71325684,\n",
       "       11.72472668, 11.73619652, 11.74766636, 11.7591362 , 11.77060509,\n",
       "       11.78207493, 11.79354477, 11.80501461, 11.81648445, 11.82795429,\n",
       "       11.83942413, 11.85089397, 11.86236286, 11.8738327 , 11.88530254,\n",
       "       11.89677238, 11.90824223, 11.91971207, 11.93118191, 11.94265175,\n",
       "       11.95412064, 11.96559048, 11.97706032, 11.98853016])"
      ]
     },
     "execution_count": 62,
     "metadata": {},
     "output_type": "execute_result"
    }
   ],
   "source": [
    "energ_intervals[:-1]"
   ]
  },
  {
   "cell_type": "code",
   "execution_count": 61,
   "metadata": {},
   "outputs": [
    {
     "data": {
      "text/plain": [
       "array([ 0.255     ,  0.26646972,  0.27793944,  0.28940919,  0.30087891,\n",
       "        0.31234863,  0.32381836,  0.33528808,  0.3467578 ,  0.35822755,\n",
       "        0.36969727,  0.38116699,  0.39263672,  0.40410644,  0.41557616,\n",
       "        0.42704591,  0.43851563,  0.44998536,  0.46145508,  0.4729248 ,\n",
       "        0.48439452,  0.49586427,  0.50733399,  0.51880372,  0.53027344,\n",
       "        0.54174316,  0.55321288,  0.5646826 ,  0.57615232,  0.58762205,\n",
       "        0.59909177,  0.61056155,  0.62203127,  0.63350099,  0.64497072,\n",
       "        0.65644044,  0.66791016,  0.67937988,  0.6908496 ,  0.70231932,\n",
       "        0.71378905,  0.72525877,  0.73672849,  0.74819827,  0.75966799,\n",
       "        0.77113771,  0.78260744,  0.79407716,  0.80554688,  0.8170166 ,\n",
       "        0.82848632,  0.83995605,  0.85142577,  0.86289549,  0.87436521,\n",
       "        0.88583493,  0.89730471,  0.90877444,  0.92024416,  0.93171388,\n",
       "        0.9431836 ,  0.95465332,  0.96612304,  0.97759277,  0.98906249,\n",
       "        1.00053227,  1.01200199,  1.02347171,  1.03494143,  1.04641116,\n",
       "        1.05788088,  1.0693506 ,  1.08082032,  1.09229004,  1.10375977,\n",
       "        1.11522949,  1.12669921,  1.13816893,  1.14963865,  1.16110837,\n",
       "        1.1725781 ,  1.18404782,  1.19551754,  1.20698726,  1.21845698,\n",
       "        1.22992671,  1.24139643,  1.25286627,  1.26433599,  1.27580571,\n",
       "        1.28727543,  1.29874516,  1.31021488,  1.3216846 ,  1.33315432,\n",
       "        1.34462404,  1.35609376,  1.36756349,  1.37903321,  1.39050293,\n",
       "        1.40197265,  1.41344237,  1.4249121 ,  1.43638182,  1.44785154,\n",
       "        1.45932126,  1.47079098,  1.4822607 ,  1.49373043,  1.50520015,\n",
       "        1.51666987,  1.52813959,  1.53960943,  1.55107915,  1.56254888,\n",
       "        1.5740186 ,  1.58548832,  1.59695804,  1.60842776,  1.61989748,\n",
       "        1.63136721,  1.64283693,  1.65430665,  1.66577637,  1.67724609,\n",
       "        1.68871582,  1.70018554,  1.71165526,  1.72312498,  1.7345947 ,\n",
       "        1.74606442,  1.75753415,  1.76900387,  1.78047359,  1.79194331,\n",
       "        1.80341303,  1.81488276,  1.8263526 ,  1.83782232,  1.84929204,\n",
       "        1.86076176,  1.87223148,  1.88370121,  1.89517093,  1.90664065,\n",
       "        1.91811037,  1.92958009,  1.94104981,  1.95251954,  1.96398926,\n",
       "        1.97545898,  1.9869287 ,  1.99839842,  2.00986814,  2.02133799,\n",
       "        2.03280759,  2.04427743,  2.05574703,  2.06721687,  2.07868648,\n",
       "        2.09015632,  2.10162592,  2.11309576,  2.12456536,  2.1360352 ,\n",
       "        2.14750481,  2.15897465,  2.17044425,  2.18191409,  2.19338369,\n",
       "        2.20485353,  2.21632314,  2.22779298,  2.23926258,  2.25073242,\n",
       "        2.26220226,  2.27367187,  2.28514171,  2.29661131,  2.30808115,\n",
       "        2.31955075,  2.33102059,  2.3424902 ,  2.35396004,  2.36542964,\n",
       "        2.37689948,  2.38836908,  2.39983892,  2.41130853,  2.42277837,\n",
       "        2.43424797,  2.44571781,  2.45718741,  2.46865726,  2.48012686,\n",
       "        2.4915967 ,  2.5030663 ,  2.51453614,  2.52600574,  2.53747559,\n",
       "        2.54894543,  2.56041503,  2.57188487,  2.58335447,  2.59482431,\n",
       "        2.60629392,  2.61776376,  2.62923336,  2.6407032 ,  2.6521728 ,\n",
       "        2.66364264,  2.67511225,  2.68658209,  2.69805169,  2.70952153,\n",
       "        2.72099113,  2.73246098,  2.74393058,  2.75540042,  2.76687002,\n",
       "        2.77833986,  2.78980947,  2.80127931,  2.81274891,  2.82421875,\n",
       "        2.83568859,  2.84715819,  2.85862803,  2.87009764,  2.88156748,\n",
       "        2.89303708,  2.90450692,  2.91597652,  2.92744637,  2.93891597,\n",
       "        2.95038581,  2.96185541,  2.97332525,  2.98479486,  2.9962647 ,\n",
       "        3.0077343 ,  3.01920414,  3.03067374,  3.04214358,  3.05361319,\n",
       "        3.06508303,  3.07655263,  3.08802247,  3.09949207,  3.11096191,\n",
       "        3.12243176,  3.13390136,  3.1453712 ,  3.1568408 ,  3.16831064,\n",
       "        3.17978024,  3.19125009,  3.20271969,  3.21418953,  3.22565913,\n",
       "        3.23712897,  3.24859858,  3.26006842,  3.27153802,  3.28300786,\n",
       "        3.29447746,  3.3059473 ,  3.31741691,  3.32888675,  3.34035635,\n",
       "        3.35182619,  3.36329579,  3.37476563,  3.38623524,  3.39770508,\n",
       "        3.40917492,  3.42064452,  3.43211436,  3.44358397,  3.45505381,\n",
       "        3.46652341,  3.47799325,  3.48946285,  3.50093269,  3.5124023 ,\n",
       "        3.52387214,  3.53534174,  3.54681158,  3.55828118,  3.56975102,\n",
       "        3.58122063,  3.59269047,  3.60416007,  3.61562991,  3.62709951,\n",
       "        3.63856936,  3.65003896,  3.6615088 ,  3.6729784 ,  3.68444824,\n",
       "        3.69591808,  3.70738769,  3.71885753,  3.73032713,  3.74179697,\n",
       "        3.75326657,  3.76473641,  3.77620602,  3.78767586,  3.79914546,\n",
       "        3.8106153 ,  3.8220849 ,  3.83355474,  3.84502435,  3.85649419,\n",
       "        3.86796379,  3.87943363,  3.89090323,  3.90237308,  3.91384268,\n",
       "        3.92531252,  3.93678212,  3.94825196,  3.95972157,  3.97119141,\n",
       "        3.98266125,  3.99413085,  4.00560045,  4.01707029,  4.02854013,\n",
       "        4.04000998,  4.05147934,  4.06294918,  4.07441902,  4.08588886,\n",
       "        4.09735823,  4.10882807,  4.12029791,  4.13176775,  4.14323711,\n",
       "        4.15470695,  4.1661768 ,  4.17764664,  4.189116  ,  4.20058584,\n",
       "        4.21205568,  4.22352552,  4.23499489,  4.24646473,  4.25793457,\n",
       "        4.26940441,  4.28087425,  4.29234362,  4.30381346,  4.3152833 ,\n",
       "        4.32675314,  4.3382225 ,  4.34969234,  4.36116219,  4.37263203,\n",
       "        4.38410139,  4.39557123,  4.40704107,  4.41851091,  4.42998028,\n",
       "        4.44145012,  4.45291996,  4.4643898 ,  4.47585917,  4.48732901,\n",
       "        4.49879885,  4.51026869,  4.52173805,  4.53320789,  4.54467773,\n",
       "        4.55614758,  4.56761742,  4.57908678,  4.59055662,  4.60202646,\n",
       "        4.6134963 ,  4.62496567,  4.63643551,  4.64790535,  4.65937519,\n",
       "        4.67084455,  4.6823144 ,  4.69378424,  4.70525408,  4.71672344,\n",
       "        4.72819328,  4.73966312,  4.75113297,  4.76260233,  4.77407217,\n",
       "        4.78554201,  4.79701185,  4.80848122,  4.81995106,  4.8314209 ,\n",
       "        4.84289074,  4.85436058,  4.86582994,  4.87729979,  4.88876963,\n",
       "        4.90023947,  4.91170883,  4.92317867,  4.93464851,  4.94611835,\n",
       "        4.95758772,  4.96905756,  4.9805274 ,  4.99199724,  5.00346661,\n",
       "        5.01493645,  5.02640629,  5.03787613,  5.04934549,  5.06081533,\n",
       "        5.07228518,  5.08375502,  5.09522438,  5.10669422,  5.11816406,\n",
       "        5.1296339 ,  5.14110374,  5.15257311,  5.16404295,  5.17551279,\n",
       "        5.18698263,  5.198452  ,  5.20992184,  5.22139168,  5.23286152,\n",
       "        5.24433088,  5.25580072,  5.26727057,  5.27874041,  5.29020977,\n",
       "        5.30167961,  5.31314945,  5.32461929,  5.33608866,  5.3475585 ,\n",
       "        5.35902834,  5.37049818,  5.38196754,  5.39343739,  5.40490723,\n",
       "        5.41637707,  5.42784691,  5.43931627,  5.45078611,  5.46225595,\n",
       "        5.4737258 ,  5.48519516,  5.496665  ,  5.50813484,  5.51960468,\n",
       "        5.53107405,  5.54254389,  5.55401373,  5.56548357,  5.57695293,\n",
       "        5.58842278,  5.59989262,  5.61136246,  5.62283182,  5.63430166,\n",
       "        5.6457715 ,  5.65724134,  5.66871071,  5.68018055,  5.69165039,\n",
       "        5.70312023,  5.71459007,  5.72605944,  5.73752928,  5.74899912,\n",
       "        5.76046896,  5.77193832,  5.78340816,  5.79487801,  5.80634785,\n",
       "        5.81781721,  5.82928705,  5.84075689,  5.85222673,  5.8636961 ,\n",
       "        5.87516594,  5.88663578,  5.89810562,  5.90957499,  5.92104483,\n",
       "        5.93251467,  5.94398451,  5.95545387,  5.96692371,  5.97839355,\n",
       "        5.9898634 ,  6.00133324,  6.0128026 ,  6.02427244,  6.03574228,\n",
       "        6.04721212,  6.05868149,  6.07015133,  6.08162117,  6.09309101,\n",
       "        6.10456038,  6.11603022,  6.12750006,  6.1389699 ,  6.15043926,\n",
       "        6.1619091 ,  6.17337894,  6.18484879,  6.19631815,  6.20778799,\n",
       "        6.21925783,  6.23072767,  6.24219704,  6.25366688,  6.26513672,\n",
       "        6.27660656,  6.2880764 ,  6.29954576,  6.31101561,  6.32248545,\n",
       "        6.33395529,  6.34542465,  6.35689449,  6.36836433,  6.37983418,\n",
       "        6.39130354,  6.40277338,  6.41424322,  6.42571306,  6.43718243,\n",
       "        6.44865227,  6.46012211,  6.47159195,  6.48306131,  6.49453115,\n",
       "        6.506001  ,  6.51747084,  6.5289402 ,  6.54041004,  6.55187988,\n",
       "        6.56334972,  6.57481956,  6.58628893,  6.59775877,  6.60922861,\n",
       "        6.62069845,  6.63216782,  6.64363766,  6.6551075 ,  6.66657734,\n",
       "        6.6780467 ,  6.68951654,  6.70098639,  6.71245623,  6.72392559,\n",
       "        6.73539543,  6.74686527,  6.75833511,  6.76980448,  6.78127432,\n",
       "        6.79274416,  6.804214  ,  6.81568336,  6.82715321,  6.83862305,\n",
       "        6.85009289,  6.86156273,  6.87303209,  6.88450193,  6.89597178,\n",
       "        6.90744162,  6.91891098,  6.93038082,  6.94185066,  6.9533205 ,\n",
       "        6.96478987,  6.97625971,  6.98772955,  6.99919939,  7.01066875,\n",
       "        7.0221386 ,  7.03360844,  7.04507828,  7.05654764,  7.06801748,\n",
       "        7.07948732,  7.09095716,  7.10242653,  7.11389637,  7.12536621,\n",
       "        7.13683605,  7.14830589,  7.15977526,  7.1712451 ,  7.18271494,\n",
       "        7.19418478,  7.20565414,  7.21712399,  7.22859383,  7.24006367,\n",
       "        7.25153303,  7.26300287,  7.27447271,  7.28594255,  7.29741192,\n",
       "        7.30888176,  7.3203516 ,  7.33182144,  7.34329081,  7.35476065,\n",
       "        7.36623049,  7.37770033,  7.38916969,  7.40063953,  7.41210938,\n",
       "        7.42357922,  7.43504906,  7.44651842,  7.45798826,  7.4694581 ,\n",
       "        7.48092794,  7.49239731,  7.50386715,  7.51533699,  7.52680683,\n",
       "        7.5382762 ,  7.54974604,  7.56121588,  7.57268572,  7.58415508,\n",
       "        7.59562492,  7.60709476,  7.61856461,  7.63003397,  7.64150381,\n",
       "        7.65297365,  7.66444349,  7.67591286,  7.6873827 ,  7.69885254,\n",
       "        7.71032238,  7.72179222,  7.73326159,  7.74473143,  7.75620127,\n",
       "        7.76767111,  7.77914047,  7.79061031,  7.80208015,  7.81355   ,\n",
       "        7.82501936,  7.8364892 ,  7.84795904,  7.85942888,  7.87089825,\n",
       "        7.88236809,  7.89383793,  7.90530777,  7.91677713,  7.92824697,\n",
       "        7.93971682,  7.95118666,  7.96265602,  7.97412586,  7.9855957 ,\n",
       "        7.99706554,  8.00853539,  8.02000523,  8.03147507,  8.04294395,\n",
       "        8.0544138 ,  8.06588364,  8.07735348,  8.08882332,  8.10029316,\n",
       "        8.111763  ,  8.12323284,  8.13470173,  8.14617157,  8.15764141,\n",
       "        8.16911125,  8.18058109,  8.19205093,  8.20352077,  8.21499062,\n",
       "        8.2264595 ,  8.23792934,  8.24939919,  8.26086903,  8.27233887,\n",
       "        8.28380871,  8.29527855,  8.30674839,  8.31821823,  8.32968712,\n",
       "        8.34115696,  8.3526268 ,  8.36409664,  8.37556648,  8.38703632,\n",
       "        8.39850616,  8.40997601,  8.42144489,  8.43291473,  8.44438457,\n",
       "        8.45585442,  8.46732426,  8.4787941 ,  8.49026394,  8.50173378,\n",
       "        8.51320267,  8.52467251,  8.53614235,  8.54761219,  8.55908203,\n",
       "        8.57055187,  8.58202171,  8.59349155,  8.6049614 ,  8.61643028,\n",
       "        8.62790012,  8.63936996,  8.65083981,  8.66230965,  8.67377949,\n",
       "        8.68524933,  8.69671917,  8.70818806,  8.7196579 ,  8.73112774,\n",
       "        8.74259758,  8.75406742,  8.76553726,  8.7770071 ,  8.78847694,\n",
       "        8.79994583,  8.81141567,  8.82288551,  8.83435535,  8.8458252 ,\n",
       "        8.85729504,  8.86876488,  8.88023472,  8.89170456,  8.90317345,\n",
       "        8.91464329,  8.92611313,  8.93758297,  8.94905281,  8.96052265,\n",
       "        8.97199249,  8.98346233,  8.99493122,  9.00640106,  9.0178709 ,\n",
       "        9.02934074,  9.04081059,  9.05228043,  9.06375027,  9.07522011,\n",
       "        9.086689  ,  9.09815884,  9.10962868,  9.12109852,  9.13256836,\n",
       "        9.1440382 ,  9.15550804,  9.16697788,  9.17844772,  9.18991661,\n",
       "        9.20138645,  9.21285629,  9.22432613,  9.23579597,  9.24726582,\n",
       "        9.25873566,  9.2702055 ,  9.28167439,  9.29314423,  9.30461407,\n",
       "        9.31608391,  9.32755375,  9.33902359,  9.35049343,  9.36196327,\n",
       "        9.37343216,  9.384902  ,  9.39637184,  9.40784168,  9.41931152,\n",
       "        9.43078136,  9.44225121,  9.45372105,  9.46519089,  9.47665977,\n",
       "        9.48812962,  9.49959946,  9.5110693 ,  9.52253914,  9.53400898,\n",
       "        9.54547882,  9.55694866,  9.56841755,  9.57988739,  9.59135723,\n",
       "        9.60282707,  9.61429691,  9.62576675,  9.6372366 ,  9.64870644,\n",
       "        9.66017532,  9.67164516,  9.68311501,  9.69458485,  9.70605469,\n",
       "        9.71752453,  9.72899437,  9.74046421,  9.75193405,  9.76340294,\n",
       "        9.77487278,  9.78634262,  9.79781246,  9.8092823 ,  9.82075214,\n",
       "        9.83222198,  9.84369183,  9.85516071,  9.86663055,  9.8781004 ,\n",
       "        9.88957024,  9.90104008,  9.91250992,  9.92397976,  9.9354496 ,\n",
       "        9.94691849,  9.95838833,  9.96985817,  9.98132801,  9.99279785,\n",
       "       10.00426769, 10.01573753, 10.02720737, 10.03867722, 10.0501461 ,\n",
       "       10.06161594, 10.07308578, 10.08455563, 10.09602547, 10.10749531,\n",
       "       10.11896515, 10.13043499, 10.14190388, 10.15337372, 10.16484356,\n",
       "       10.1763134 , 10.18778324, 10.19925308, 10.21072292, 10.22219276,\n",
       "       10.23366165, 10.24513149, 10.25660133, 10.26807117, 10.27954102,\n",
       "       10.29101086, 10.3024807 , 10.31395054, 10.32542038, 10.33688927,\n",
       "       10.34835911, 10.35982895, 10.37129879, 10.38276863, 10.39423847,\n",
       "       10.40570831, 10.41717815, 10.42864704, 10.44011688, 10.45158672,\n",
       "       10.46305656, 10.47452641, 10.48599625, 10.49746609, 10.50893593,\n",
       "       10.52040482, 10.53187466, 10.5433445 , 10.55481434, 10.56628418,\n",
       "       10.57775402, 10.58922386, 10.6006937 , 10.61216354, 10.62363243,\n",
       "       10.63510227, 10.64657211, 10.65804195, 10.6695118 , 10.68098164,\n",
       "       10.69245148, 10.70392132, 10.71539021, 10.72686005, 10.73832989,\n",
       "       10.74979973, 10.76126957, 10.77273941, 10.78420925, 10.79567909,\n",
       "       10.80714798, 10.81861782, 10.83008766, 10.8415575 , 10.85302734,\n",
       "       10.86449718, 10.87596703, 10.88743687, 10.89890671, 10.9103756 ,\n",
       "       10.92184544, 10.93331528, 10.94478512, 10.95625496, 10.9677248 ,\n",
       "       10.97919464, 10.99066448, 11.00213337, 11.01360321, 11.02507305,\n",
       "       11.03654289, 11.04801273, 11.05948257, 11.07095242, 11.08242226,\n",
       "       11.09389114, 11.10536098, 11.11683083, 11.12830067, 11.13977051,\n",
       "       11.15124035, 11.16271019, 11.17418003, 11.18564987, 11.19711876,\n",
       "       11.2085886 , 11.22005844, 11.23152828, 11.24299812, 11.25446796,\n",
       "       11.26593781, 11.27740765, 11.28887653, 11.30034637, 11.31181622,\n",
       "       11.32328606, 11.3347559 , 11.34622574, 11.35769558, 11.36916542,\n",
       "       11.38063431, 11.39210415, 11.40357399, 11.41504383, 11.42651367,\n",
       "       11.43798351, 11.44945335, 11.46092319, 11.47239304, 11.48386192,\n",
       "       11.49533176, 11.50680161, 11.51827145, 11.52974129, 11.54121113,\n",
       "       11.55268097, 11.56415081, 11.5756197 , 11.58708954, 11.59855938,\n",
       "       11.61002922, 11.62149906, 11.6329689 , 11.64443874, 11.65590858,\n",
       "       11.66737747, 11.67884731, 11.69031715, 11.70178699, 11.71325684,\n",
       "       11.72472668, 11.73619652, 11.74766636, 11.7591362 , 11.77060509,\n",
       "       11.78207493, 11.79354477, 11.80501461, 11.81648445, 11.82795429,\n",
       "       11.83942413, 11.85089397, 11.86236286, 11.8738327 , 11.88530254,\n",
       "       11.89677238, 11.90824223, 11.91971207, 11.93118191, 11.94265175,\n",
       "       11.95412064, 11.96559048, 11.97706032, 11.98853016])"
      ]
     },
     "execution_count": 61,
     "metadata": {},
     "output_type": "execute_result"
    }
   ],
   "source": [
    "energ_lo"
   ]
  },
  {
   "cell_type": "code",
   "execution_count": 53,
   "metadata": {},
   "outputs": [],
   "source": [
    "spec_nopileup, spec_bins = np.histogram(phot_energies, bins=energ_intervals)\n",
    "spec_pileup, spec_bins = np.histogram(summed_erg, bins=energ_intervals)"
   ]
  },
  {
   "cell_type": "code",
   "execution_count": 54,
   "metadata": {
    "scrolled": true
   },
   "outputs": [
    {
     "data": {
      "text/plain": [
       "Text(0, 0.5, 'Number of photons per bin')"
      ]
     },
     "execution_count": 54,
     "metadata": {},
     "output_type": "execute_result"
    },
    {
     "data": {
      "image/png": "[encoded data removed]",
      "text/plain": [
       "<Figure size 432x288 with 1 Axes>"
      ]
     },
     "metadata": {},
     "output_type": "display_data"
    }
   ],
   "source": [
    "fig, ax = plt.subplots(1, 1, figsize=(6,4))\n",
    "ax.plot(energ_lo, spec_nopileup, label=\"no pile-up\")\n",
    "ax.plot(energ_lo, spec_pileup, label=\"with pile-up\")\n",
    "ax.plot(energ_lo, d.counts/1000)\n",
    "ax.legend()\n",
    "\n",
    "ax.set_xlabel(\"Energy [keV]\")\n",
    "ax.set_ylabel(\"Number of photons per bin\")"
   ]
  },
  {
   "cell_type": "code",
   "execution_count": 55,
   "metadata": {},
   "outputs": [],
   "source": [
    "pileup_fraction = len(n_per_bin[n_per_bin > 1])/len(n_per_bin)"
   ]
  },
  {
   "cell_type": "code",
   "execution_count": 56,
   "metadata": {},
   "outputs": [
    {
     "name": "stdout",
     "output_type": "stream",
     "text": [
      "0.38 of the frames have piled events in them.\n"
     ]
    }
   ],
   "source": [
    "print(\"%.2f of the frames have piled events in them.\"%pileup_fraction)"
   ]
  }
 ],
 "metadata": {
  "kernelspec": {
   "display_name": "Python 3",
   "language": "python",
   "name": "python3"
  },
  "language_info": {
   "codemirror_mode": {
    "name": "ipython",
    "version": 3
   },
   "file_extension": ".py",
   "mimetype": "text/x-python",
   "name": "python",
   "nbconvert_exporter": "python",
   "pygments_lexer": "ipython3",
   "version": "3.6.8"
  }
 },
 "nbformat": 4,
 "nbformat_minor": 2
}
