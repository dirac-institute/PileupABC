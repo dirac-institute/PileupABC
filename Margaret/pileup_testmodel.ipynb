{
 "cells": [
  {
   "cell_type": "code",
   "execution_count": 1,
   "metadata": {
    "collapsed": false
   },
   "outputs": [
    {
     "name": "stdout",
     "output_type": "stream",
     "text": [
      "Python 2.7.12 :: Anaconda 2.3.0 (x86_64)\r\n"
     ]
    }
   ],
   "source": [
    "!python --version"
   ]
  },
  {
   "cell_type": "code",
   "execution_count": 19,
   "metadata": {
    "collapsed": false
   },
   "outputs": [],
   "source": [
    "import numpy as np\n",
    "from astropy.table import Table, Column, vstack\n",
    "from astropy.io import fits\n",
    "import matplotlib.pyplot as plt\n",
    "from scipy.stats import powerlaw\n",
    "from scipy import integrate\n",
    "from scipy.special import gammaln\n",
    "import time\n",
    "%matplotlib inline"
   ]
  },
  {
   "cell_type": "code",
   "execution_count": 3,
   "metadata": {
    "collapsed": false
   },
   "outputs": [],
   "source": [
    "def energies_rs(a,b,gamma,N):\n",
    "    ''' Returns an array of photon energies with a power law distribution using rejection sampling.\n",
    "        a = E_min\n",
    "        b = E_max\n",
    "        gamma = photon index\n",
    "        N = total number of photons to be returned\n",
    "    '''\n",
    "    start_time = time.time()\n",
    "    A = (1.-gamma)/((b**(1.-gamma))-(a**(1.-gamma))) #normalization factor so curve integrates to 1\n",
    "    pl =  lambda x,A,gamma : A*x**(-1.0*gamma)\n",
    "    binsize = 0.13 #keV, set by Chandra detector. This will be swapped out later for a more realistic binning\n",
    "    bins = np.arange(a,b,binsize)\n",
    "    photons = np.zeros(N)\n",
    "    count = 0\n",
    "    while count<N:\n",
    "        r = np.random.uniform(a,b,1)\n",
    "        for i in range(len(bins)-1):\n",
    "            if (r>bins[i])and(r<bins[i+1]):\n",
    "                edge_lo = bins[i]\n",
    "                edge_hi = bins[i+1]\n",
    "                p_r = integrate.quad(pl,edge_lo,edge_hi,args=(A,gamma))[0]\n",
    "                k = np.random.uniform(0,1,1)\n",
    "                if (k<=p_r):\n",
    "                    photons[count] = r\n",
    "                    count += 1\n",
    "    print(\"Time to generate photon energies = %s seconds\" % (time.time() - start_time))\n",
    "    return photons"
   ]
  },
  {
   "cell_type": "code",
   "execution_count": 7,
   "metadata": {
    "collapsed": true
   },
   "outputs": [],
   "source": [
    "def energies_cdf(a,b,gamma,N):\n",
    "    '''\n",
    "    Generate photon energies using the cumulative distribution function (CDF)\n",
    "    CDF taken from https://arxiv.org/pdf/0706.1062.pdf\n",
    "    a = E_min\n",
    "    b = E_max\n",
    "    gamma = photon index\n",
    "    N = total number of photons to be returned'''\n",
    "    start_time = time.time()\n",
    "    r = np.random.uniform(0,1,N)\n",
    "    x = a*(1-r)**(-1/(gamma-1))\n",
    "    print(\"Time to generate photon energies = %s seconds\" % (time.time() - start_time))\n",
    "    return x"
   ]
  },
  {
   "cell_type": "code",
   "execution_count": 183,
   "metadata": {
    "collapsed": false
   },
   "outputs": [
    {
     "name": "stdout",
     "output_type": "stream",
     "text": [
      "Time to generate photon energies = 0.00324892997742 seconds\n"
     ]
    },
    {
     "data": {
      "text/plain": [
       "(array([  4.99020000e+04,   7.00000000e+01,   9.00000000e+00,\n",
       "          6.00000000e+00,   7.00000000e+00,   3.00000000e+00,\n",
       "          0.00000000e+00,   0.00000000e+00,   0.00000000e+00,\n",
       "          3.00000000e+00]),\n",
       " array([  0.10000251,   3.84143819,   7.58287387,  11.32430955,\n",
       "         15.06574523,  18.8071809 ,  22.54861658,  26.29005226,\n",
       "         30.03148794,  33.77292362,  37.51435929]),\n",
       " <a list of 10 Patch objects>)"
      ]
     },
     "execution_count": 183,
     "metadata": {},
     "output_type": "execute_result"
    },
    {
     "data": {
      "image/png": "[encoded data removed]",
      "text/plain": [
       "<matplotlib.figure.Figure at 0x185a1fe50>"
      ]
     },
     "metadata": {},
     "output_type": "display_data"
    }
   ],
   "source": [
    "energies = energies_cdf(0.1,10.,2.7,50000)\n",
    "plt.hist(energies)"
   ]
  },
  {
   "cell_type": "markdown",
   "metadata": {},
   "source": [
    "Chandra ACIS energy resolution = 130-280 eV (http://cxc.harvard.edu/cal/Acis/)"
   ]
  },
  {
   "cell_type": "code",
   "execution_count": 4,
   "metadata": {
    "collapsed": false
   },
   "outputs": [],
   "source": [
    "def simulate_data(stop,handle):\n",
    "    ''' Generates an un-piled and piled list of photon energies. \n",
    "        stop = end time of observation, generally equals total length of obs in seconds.\n",
    "        handle = 'rs' to generate photons via rejection \n",
    "    '''\n",
    "    #Assign physical parameters\n",
    "    start = 0. #s\n",
    "    #stop = 100 #s\n",
    "    cr = 1. #count rate between 0.1 and 10 photons/second\n",
    "    gamma = 2.7 #assume photon index\n",
    "    read_time = 3.2 #s\n",
    "    energy_lo = 0.1 #keV\n",
    "    energy_hi = 10.0 #keV\n",
    "    K = (stop-start)*cr #Number of photons to generate\n",
    "    N = np.random.poisson(K) #choose a number of photons from a poisson distribution centered on expected, K\n",
    "    print 'number of photons observed =', N\n",
    "    \n",
    "    #Assign photon arrival times, random within obervation time\n",
    "    arrival_times = np.random.uniform(start,stop,N)\n",
    "    \n",
    "    #Assign photon energies, random with a power law distribution.\n",
    "    if handle == 'rs':\n",
    "        print 'generating photon energies via rejection sampling'\n",
    "        energy = energies_rs(energy_lo,energy_hi,gamma,N) #generate photon energies using rejection sampling\n",
    "    if handle == 'cdf':\n",
    "        print 'generating photon energies via CDF method'\n",
    "        energy = energies_cdf(energy_lo,energy_hi,gamma,N)\n",
    "    else:\n",
    "        print 'invalid photon generation method entered'\n",
    "        \n",
    "    #Simulate pile up: bin arrival times, if there is more than one photon in a bin, combine their energies\n",
    "    #and record as one photon, change other photon energies to 0\n",
    "    piled_energy = np.copy(energy)\n",
    "    times = Column(arrival_times,name='time')\n",
    "    energies = Column(energy,name='energy')\n",
    "    raw = Table([times,energies])\n",
    "    raw.sort('time')\n",
    "    time_bins = np.arange(start,stop,read_time)\n",
    "    time_hist, time_edges = np.histogram(raw['time'],bins=time_bins)\n",
    "    num_piled = 0\n",
    "    for i in range(len(time_hist)):\n",
    "        if time_hist[i] > 1:\n",
    "            #print time_hist[i]\n",
    "            num_piled += time_hist[i]\n",
    "            first_photon = np.sum(time_hist[0:i])\n",
    "            last_photon = first_photon + time_hist[i] - 1\n",
    "            sum_energy = np.sum(energies[first_photon:last_photon])\n",
    "            piled_energy[first_photon] = sum_energy\n",
    "            piled_energy[first_photon+1:last_photon] = 0.0\n",
    "    print 'Fraction of photons that are piled =', np.float(num_piled) / N\n",
    "    return energy, piled_energy"
   ]
  },
  {
   "cell_type": "code",
   "execution_count": 5,
   "metadata": {
    "collapsed": false
   },
   "outputs": [],
   "source": [
    "def plot_data(raw,piled):\n",
    "    '''\n",
    "    Takes output data from simulate_data() and plots the raw vs. piled spectra\n",
    "    '''\n",
    "    arf = Table.read('/Users/mlazz/Dropbox/UW/PileupABC/13858/repro/SDSSJ091449.05+085321.corr.arf',format='fits')\n",
    "    fig,ax=plt.subplots(figsize=(8,5))\n",
    "    #num=len(raw)/50.\n",
    "    e_hist, e_bins = np.histogram(raw,bins=arf['ENERG_HI'])\n",
    "    pe_hist, pe_bins = np.histogram(piled[piled>0],bins=arf['ENERG_HI'])\n",
    "    ax.plot(e_bins[1:],e_hist,label='un-piled')\n",
    "    ax.plot(pe_bins[1:],pe_hist,label='piled')\n",
    "    ax.set_xlabel('Energy (keV)')\n",
    "    ax.set_xlim(-0.5,11)\n",
    "    ax.set_ylabel('Flux, unscaled')\n",
    "    ax.set_yscale('log')\n",
    "    ax.legend()\n",
    "    return e_hist, pe_hist"
   ]
  },
  {
   "cell_type": "code",
   "execution_count": null,
   "metadata": {
    "collapsed": false,
    "scrolled": true
   },
   "outputs": [],
   "source": [
    "energy,piled_energy = simulate_data(5000,'rs')\n",
    "plot_data(energy,piled_energy)"
   ]
  },
  {
   "cell_type": "code",
   "execution_count": 8,
   "metadata": {
    "collapsed": false,
    "scrolled": false
   },
   "outputs": [
    {
     "name": "stdout",
     "output_type": "stream",
     "text": [
      "number of photons observed = 498873\n",
      "generating photon energies via CDF method\n",
      "Time to generate photon energies = 0.0312449932098 seconds\n",
      "Fraction of photons that are piled = 0.958931431446\n"
     ]
    },
    {
     "data": {
      "image/png": "[encoded data removed]",
      "text/plain": [
       "<matplotlib.figure.Figure at 0x10b13c6d0>"
      ]
     },
     "metadata": {},
     "output_type": "display_data"
    }
   ],
   "source": [
    "energy,piled_energy = simulate_data(500000,'cdf')\n",
    "energy_hist, piled_hist = plot_data(energy,piled_energy)"
   ]
  },
  {
   "cell_type": "code",
   "execution_count": 9,
   "metadata": {
    "collapsed": false,
    "scrolled": true
   },
   "outputs": [
    {
     "name": "stderr",
     "output_type": "stream",
     "text": [
      "WARNING: hdu= was not specified but multiple tables are present, reading in first available table (hdu=1) [astropy.io.fits.connect]\n",
      "WARNING: UnitsWarning: 'channel' did not parse as fits unit: At col 0, Unit 'channel' not supported by the FITS standard.  [astropy.units.core]\n",
      "WARNING: UnitsWarning: 'au' did not parse as fits unit: At col 0, Unit 'au' not supported by the FITS standard. Did you mean AU or adu? [astropy.units.core]\n"
     ]
    }
   ],
   "source": [
    "pi_file = Table.read('/Users/mlazz/Dropbox/UW/PileupABC/13858/repro/SDSSJ091449.05+085321.pi',format='fits')\n",
    "rmf = Table.read('/Users/mlazz/Dropbox/UW/PileupABC/13858/repro/SDSSJ091449.05+085321.rmf',format='fits')\n",
    "arf = Table.read('/Users/mlazz/Dropbox/UW/PileupABC/13858/repro/SDSSJ091449.05+085321.corr.arf',format='fits')\n",
    "E_min = arf['ENERG_LO']\n",
    "E_max = arf['ENERG_HI']"
   ]
  },
  {
   "cell_type": "raw",
   "metadata": {},
   "source": [
    "Meeting notes 03/15/18\n",
    "1) Write down a Poisson log(likelihood)\n",
    "2) Write down some log(priors):\n",
    "    log(A) -> flat (make sure this is in log space to relieve the issue of emphasizing large values)\n",
    "    alpha -> flat (between 1 and 3)\n",
    "3) Write down log(posterior distribution)\n",
    "    Write a function that takes a list of parameters, and calculates the log of \n",
    "    P(theta|D) propto P(D|theta)p(theta) -> so if you are in log space, log(posterior) = log(likelihood) + log(priors)\n",
    "    Parameters are independent: P(alpha, A) = P(alpha)P(A)\n",
    "    You will find a value for the posterior distribution with a single input alpha, A and then you can iterate through parameter space and make a histogram of posterior vs alpha and posterior vs A to find the most likely value of that paramter\n",
    "4) MCMC sampling through parameter space\n",
    "    Read about Metropolis-Hastings\n",
    "    Write your own sampler\n",
    "5) Plot P(alpha|D) as a histogram with the real value of alpha superimposed\n",
    "    p(alpha|D) = integral (P(alpha,A|D)dA)"
   ]
  },
  {
   "cell_type": "code",
   "execution_count": 32,
   "metadata": {
    "collapsed": false
   },
   "outputs": [
    {
     "name": "stdout",
     "output_type": "stream",
     "text": [
      "6.57925121201\n",
      "6.57925121201\n",
      "[ 0.          0.69314718  1.79175947] [ 0.          0.69314718  1.79175947]\n"
     ]
    }
   ],
   "source": [
    "print gammaln(7)\n",
    "print np.log(1)+np.log(2)+np.log(3)+np.log(4)+np.log(5)+np.log(6)\n",
    "test = np.array([1,2,3])\n",
    "new_test = test+1\n",
    "print gammaln(test+1),gammaln(new_test)"
   ]
  },
  {
   "cell_type": "code",
   "execution_count": 13,
   "metadata": {
    "collapsed": true
   },
   "outputs": [],
   "source": [
    "def integrate_lambda(E_array,A,alpha):\n",
    "    \"\"\" Takes in array of energy bin edges, value of A and alpha and returns finite integral\"\"\"\n",
    "    integral = A/(1-alpha) * np.power(E,1-alpha)\n",
    "    return integral"
   ]
  },
  {
   "cell_type": "code",
   "execution_count": 10,
   "metadata": {
    "collapsed": true
   },
   "outputs": [],
   "source": [
    "def log_likelihood(data,logA,a,E_min,E_max):\n",
    "    \"\"\"\n",
    "    Return log(Poisson likelihood) function for dataset\n",
    "    Poisson probability of the form P(k) = exp(-lambda)*lambda**k/k!\n",
    "    lambda = integral from E_min to E_max A*E**-a\n",
    "    input data = piled histogram from previous step\n",
    "    \"\"\"\n",
    "    start_time = time.time()\n",
    "    #Move this outside the function add E_min and E_max as input to the function\n",
    "    lam = integrate_lambda(E_max,np.exp(logA),a) - integrate_lambda(E_min,np.exp(logA),a)\n",
    "    summation = gammaln(data+1)\n",
    "    log_like = np.multiply(-1.0,lam) + data*np.log(lam) + summation\n",
    "    total_log_like = np.sum(log_like)\n",
    "    #print(\"Time to calculate log(likelihood) = %s seconds\" % (time.time() - start_time))\n",
    "    if not np.isfinite(total_log_like):\n",
    "        return -np.inf\n",
    "    else:\n",
    "        return total_log_like"
   ]
  },
  {
   "cell_type": "code",
   "execution_count": 68,
   "metadata": {
    "collapsed": true
   },
   "outputs": [],
   "source": [
    "def log_prior_alpha(a):\n",
    "    if (a > 0) and (a<5):\n",
    "        return np.log(0.2)\n",
    "    else:\n",
    "        return -np.inf\n",
    "def log_prior_logA(logA):\n",
    "    if (logA<np.log(1000000))and(logA>np.log(100)):\n",
    "        return np.log(1.0/(np.log(1000000)-np.log(100)))\n",
    "    else:\n",
    "        return -np.inf"
   ]
  },
  {
   "cell_type": "code",
   "execution_count": 69,
   "metadata": {
    "collapsed": false
   },
   "outputs": [
    {
     "data": {
      "text/plain": [
       "-2.2203268063678463"
      ]
     },
     "execution_count": 69,
     "metadata": {},
     "output_type": "execute_result"
    }
   ],
   "source": [
    "log_prior_logA(500000)"
   ]
  },
  {
   "cell_type": "code",
   "execution_count": 72,
   "metadata": {
    "collapsed": false
   },
   "outputs": [
    {
     "name": "stdout",
     "output_type": "stream",
     "text": [
      "68242683.8787\n"
     ]
    }
   ],
   "source": [
    "test_A = 500000\n",
    "test_alpha = 2.0\n",
    "print log_likelihood(piled_hist,np.log(test_A),test_alpha) + log_prior_alpha(test_alpha) + log_prior_logA(np.log(test_A))"
   ]
  },
  {
   "cell_type": "code",
   "execution_count": 54,
   "metadata": {
    "collapsed": false
   },
   "outputs": [
    {
     "name": "stdout",
     "output_type": "stream",
     "text": [
      "Time to calculate log(likelihood) = 0.150687932968 seconds\n"
     ]
    },
    {
     "data": {
      "text/plain": [
       "69448176.683093965"
      ]
     },
     "execution_count": 54,
     "metadata": {},
     "output_type": "execute_result"
    }
   ],
   "source": [
    "log_likelihood(piled_hist,np.log(50000),1.8)"
   ]
  },
  {
   "cell_type": "code",
   "execution_count": 64,
   "metadata": {
    "collapsed": false
   },
   "outputs": [
    {
     "name": "stderr",
     "output_type": "stream",
     "text": [
      "/Applications/anaconda/lib/python2.7/site-packages/ipykernel/__main__.py:8: RuntimeWarning: divide by zero encountered in log\n",
      "/Applications/anaconda/lib/python2.7/site-packages/ipykernel/__main__.py:19: RuntimeWarning: divide by zero encountered in log\n",
      "/Applications/anaconda/lib/python2.7/site-packages/ipykernel/__main__.py:19: RuntimeWarning: invalid value encountered in multiply\n"
     ]
    },
    {
     "name": "stdout",
     "output_type": "stream",
     "text": [
      "working on round  10\n",
      "working on round  20\n",
      "working on round  30\n",
      "working on round  40\n",
      "working on round  50\n",
      "working on round  60\n",
      "working on round  70\n",
      "working on round  80\n",
      "working on round  90\n",
      "working on round  100\n",
      "best fit for values of A= 111111.111111 1.66666666667 log(likelihood)= 69345843.7892\n"
     ]
    }
   ],
   "source": [
    "A = np.linspace(0,1000000,10)\n",
    "a = np.linspace(0,5,10)\n",
    "max_ll = 0\n",
    "best = [0,0]\n",
    "count = 0\n",
    "for i in range(len(A)):\n",
    "    for j in range(len(a)):\n",
    "        running_ll = log_likelihood(piled_hist,np.log(A[i]),a[j])\n",
    "        count += 1\n",
    "        if count%len(A) == 0:\n",
    "            print 'working on round ',count\n",
    "        if running_ll > max_ll:\n",
    "            max_ll = running_ll\n",
    "            best = [i,j]\n",
    "print 'best fit for values of A=',A[best[0]],a[best[1]], 'log(likelihood)=',max_ll"
   ]
  },
  {
   "cell_type": "raw",
   "metadata": {},
   "source": [
    "Metropolis-Hastings algorithm:\n",
    "\n",
    "Initialize:\n",
    "1. Pick an initial state, x_0 (**Is this the initial value of the variable, within the priors? How do you choose where to start? Intelligent guess?)\n",
    "2. Set t=0\n",
    "\n",
    "Iterate:\n",
    "1. Randomly generate a candidate state x' according to g(x'|x_t) (**g is the proposal distribution, the conditional probability of proposing a state x' given x. Where does this probability expression come from? Priors?)\n",
    "2. Calculate the acceptance probability A(x'|x) = min(1, P(x')/P(x) * g(x|x')/g(x'|x) )\n",
    "3. Accept or reject: 1. generate a uniform random number [0,1] 2. if u< A, accept new state and set x_t+1 = x_t 3. if u>A, reject the new state and copy the old state forward\n",
    "4. Increment, set t=t+1"
   ]
  },
  {
   "cell_type": "raw",
   "metadata": {},
   "source": [
    "Meeting with Lia Corrales\n",
    "\n",
    "Her X-1 Gaetz\n",
    "ObsID 18055, 180565 for read out streak compared to ACIS-I core spectrum\n",
    "3C 273: has HETG and ACIS-S data (check on that)"
   ]
  },
  {
   "cell_type": "code",
   "execution_count": null,
   "metadata": {
    "collapsed": true
   },
   "outputs": [],
   "source": []
  }
 ],
 "metadata": {
  "kernelspec": {
   "display_name": "Python 2",
   "language": "python",
   "name": "python2"
  },
  "language_info": {
   "codemirror_mode": {
    "name": "ipython",
    "version": 2
   },
   "file_extension": ".py",
   "mimetype": "text/x-python",
   "name": "python",
   "nbconvert_exporter": "python",
   "pygments_lexer": "ipython2",
   "version": "2.7.12"
  }
 },
 "nbformat": 4,
 "nbformat_minor": 1
}
