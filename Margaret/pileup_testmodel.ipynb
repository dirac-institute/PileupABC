{
 "cells": [
  {
   "cell_type": "code",
   "execution_count": 2,
   "metadata": {
    "collapsed": false
   },
   "outputs": [
    {
     "name": "stdout",
     "output_type": "stream",
     "text": [
      "Python 2.7.12 :: Anaconda 2.3.0 (x86_64)\r\n"
     ]
    }
   ],
   "source": [
    "!python --version"
   ]
  },
  {
   "cell_type": "code",
   "execution_count": 148,
   "metadata": {
    "collapsed": false
   },
   "outputs": [],
   "source": [
    "import numpy as np\n",
    "from astropy.table import Table, Column, vstack\n",
    "from astropy.io import fits\n",
    "import matplotlib.pyplot as plt\n",
    "from scipy.stats import powerlaw\n",
    "from scipy import integrate\n",
    "from scipy.special import gammaln\n",
    "import time\n",
    "from matplotlib.colors import BoundaryNorm\n",
    "from matplotlib.ticker import MaxNLocator\n",
    "%matplotlib inline"
   ]
  },
  {
   "cell_type": "code",
   "execution_count": 3,
   "metadata": {
    "collapsed": false
   },
   "outputs": [],
   "source": [
    "def energies_rs(a,b,gamma,N):\n",
    "    ''' Returns an array of photon energies with a power law distribution using rejection sampling.\n",
    "        a = E_min\n",
    "        b = E_max\n",
    "        gamma = photon index\n",
    "        N = total number of photons to be returned\n",
    "    '''\n",
    "    start_time = time.time()\n",
    "    A = (1.-gamma)/((b**(1.-gamma))-(a**(1.-gamma))) #normalization factor so curve integrates to 1\n",
    "    pl =  lambda x,A,gamma : A*x**(-1.0*gamma)\n",
    "    binsize = 0.13 #keV, set by Chandra detector. This will be swapped out later for a more realistic binning\n",
    "    bins = np.arange(a,b,binsize)\n",
    "    photons = np.zeros(N)\n",
    "    count = 0\n",
    "    while count<N:\n",
    "        r = np.random.uniform(a,b,1)\n",
    "        for i in range(len(bins)-1):\n",
    "            if (r>bins[i])and(r<bins[i+1]):\n",
    "                edge_lo = bins[i]\n",
    "                edge_hi = bins[i+1]\n",
    "                p_r = integrate.quad(pl,edge_lo,edge_hi,args=(A,gamma))[0]\n",
    "                k = np.random.uniform(0,1,1)\n",
    "                if (k<=p_r):\n",
    "                    photons[count] = r\n",
    "                    count += 1\n",
    "    print(\"Time to generate photon energies = %s seconds\" % (time.time() - start_time))\n",
    "    return photons"
   ]
  },
  {
   "cell_type": "code",
   "execution_count": 7,
   "metadata": {
    "collapsed": true
   },
   "outputs": [],
   "source": [
    "def energies_cdf(a,b,gamma,N):\n",
    "    '''\n",
    "    Generate photon energies using the cumulative distribution function (CDF)\n",
    "    CDF taken from https://arxiv.org/pdf/0706.1062.pdf\n",
    "    a = E_min\n",
    "    b = E_max\n",
    "    gamma = photon index\n",
    "    N = total number of photons to be returned'''\n",
    "    start_time = time.time()\n",
    "    r = np.random.uniform(0,1,N)\n",
    "    x = a*(1-r)**(-1/(gamma-1))\n",
    "    print(\"Time to generate photon energies = %s seconds\" % (time.time() - start_time))\n",
    "    return x"
   ]
  },
  {
   "cell_type": "code",
   "execution_count": 135,
   "metadata": {
    "collapsed": false
   },
   "outputs": [],
   "source": [
    "def simulate_data(stop,handle):\n",
    "    ''' Generates an un-piled and piled list of photon energies. \n",
    "        stop = end time of observation, generally equals total length of obs in seconds.\n",
    "        handle = 'rs' to generate photons via rejection \n",
    "    '''\n",
    "    #Assign physical parameters\n",
    "    start = 0. #s\n",
    "    #stop = 100 #s\n",
    "    cr = 1. #count rate between 0.1 and 10 photons/second\n",
    "    gamma = 2.7 #assume photon index\n",
    "    read_time = 3.2 #s\n",
    "    energy_lo = 0.1 #keV\n",
    "    energy_hi = 10.0 #keV\n",
    "    K = (stop-start)*cr #Number of photons to generate\n",
    "    N = np.random.poisson(K) #choose a number of photons from a poisson distribution centered on expected, K\n",
    "    print 'number of photons observed =', N\n",
    "    \n",
    "    #Assign photon arrival times, random within obervation time\n",
    "    arrival_times = np.random.uniform(start,stop,N)\n",
    "    \n",
    "    #Assign photon energies, random with a power law distribution.\n",
    "    if handle == 'rs':\n",
    "        print 'generating photon energies via rejection sampling'\n",
    "        energy = energies_rs(energy_lo,energy_hi,gamma,N) #generate photon energies using rejection sampling\n",
    "    if handle == 'cdf':\n",
    "        print 'generating photon energies via CDF method'\n",
    "        energy = energies_cdf(energy_lo,energy_hi,gamma,N)\n",
    "    else:\n",
    "        print 'invalid photon generation method entered'\n",
    "        \n",
    "    #Simulate pile up: bin arrival times, if there is more than one photon in a bin, combine their energies\n",
    "    #and record as one photon, change other photon energies to 0\n",
    "    piled_energy = np.copy(energy)\n",
    "    times = Column(arrival_times,name='time')\n",
    "    energies = Column(energy,name='energy')\n",
    "    raw = Table([times,energies])\n",
    "    raw.sort('time')\n",
    "    time_bins = np.arange(start,stop,read_time)\n",
    "    time_hist, time_edges = np.histogram(raw['time'],bins=time_bins)\n",
    "    num_piled = 0\n",
    "    for i in range(len(time_hist)):\n",
    "        if time_hist[i] > 1:\n",
    "            #print time_hist[i]\n",
    "            num_piled += time_hist[i]\n",
    "            first_photon = np.sum(time_hist[0:i])\n",
    "            last_photon = first_photon + time_hist[i] - 1\n",
    "            sum_energy = np.sum(energies[first_photon:last_photon])\n",
    "            piled_energy[first_photon] = sum_energy\n",
    "            piled_energy[first_photon+1:last_photon] = 0.0\n",
    "    print 'Fraction of photons that are piled =', np.float(num_piled) / N\n",
    "    return energy, piled_energy"
   ]
  },
  {
   "cell_type": "code",
   "execution_count": 9,
   "metadata": {
    "collapsed": false
   },
   "outputs": [],
   "source": [
    "def plot_data(raw,piled):\n",
    "    '''\n",
    "    Takes output data from simulate_data() and plots the raw vs. piled spectra\n",
    "    '''\n",
    "    arf = Table.read('/Users/mlazz/Dropbox/UW/PileupABC/13858/repro/SDSSJ091449.05+085321.corr.arf',format='fits')\n",
    "    fig,ax=plt.subplots(figsize=(8,5))\n",
    "    #num=len(raw)/50.\n",
    "    e_hist, e_bins = np.histogram(raw,bins=arf['ENERG_HI'])\n",
    "    pe_hist, pe_bins = np.histogram(piled[piled>0],bins=arf['ENERG_HI'])\n",
    "    ax.plot(e_bins[1:],e_hist,label='un-piled')\n",
    "    ax.plot(pe_bins[1:],pe_hist,label='piled')\n",
    "    ax.set_xlabel('Energy (keV)')\n",
    "    ax.set_xlim(-0.5,11)\n",
    "    ax.set_ylabel('Flux, unscaled')\n",
    "    ax.set_yscale('log')\n",
    "    ax.legend()\n",
    "    return e_hist, pe_hist"
   ]
  },
  {
   "cell_type": "code",
   "execution_count": null,
   "metadata": {
    "collapsed": false,
    "scrolled": true
   },
   "outputs": [],
   "source": [
    "#SLOW\n",
    "#Generate simulated spectrum using rejection sampling method\n",
    "energy,piled_energy = simulate_data(5000,'rs')\n",
    "plot_data(energy,piled_energy)"
   ]
  },
  {
   "cell_type": "code",
   "execution_count": 138,
   "metadata": {
    "collapsed": false,
    "scrolled": true
   },
   "outputs": [
    {
     "name": "stdout",
     "output_type": "stream",
     "text": [
      "number of photons observed = 499878\n",
      "generating photon energies via CDF method\n",
      "Time to generate photon energies = 0.0285758972168 seconds\n",
      "Fraction of photons that are piled = 0.958651911066\n"
     ]
    },
    {
     "data": {
      "image/png": "[encoded data removed]",
      "text/plain": [
       "<matplotlib.figure.Figure at 0x11e4d4590>"
      ]
     },
     "metadata": {},
     "output_type": "display_data"
    }
   ],
   "source": [
    "#FAST\n",
    "#Generate simulated spectrum using CDF method\n",
    "energy,piled_energy = simulate_data(500000,'cdf')\n",
    "energy_hist, piled_hist = plot_data(energy,piled_energy)"
   ]
  },
  {
   "cell_type": "code",
   "execution_count": 11,
   "metadata": {
    "collapsed": false,
    "scrolled": true
   },
   "outputs": [],
   "source": [
    "#Load ARF to get Chandra energy bins\n",
    "#pi_file = Table.read('/Users/mlazz/Dropbox/UW/PileupABC/13858/repro/SDSSJ091449.05+085321.pi',format='fits')\n",
    "#rmf = Table.read('/Users/mlazz/Dropbox/UW/PileupABC/13858/repro/SDSSJ091449.05+085321.rmf',format='fits')\n",
    "arf = Table.read('/Users/mlazz/Dropbox/UW/PileupABC/13858/repro/SDSSJ091449.05+085321.corr.arf',format='fits')\n",
    "E_min = arf['ENERG_LO']\n",
    "E_max = arf['ENERG_HI']"
   ]
  },
  {
   "cell_type": "markdown",
   "metadata": {},
   "source": [
    "Meeting notes 03/15/18\n",
    "1) Write down a Poisson log(likelihood)\n",
    "2) Write down some log(priors):\n",
    "    log(A) -> flat (make sure this is in log space to relieve the issue of emphasizing large values)\n",
    "    alpha -> flat (between 1 and 3)\n",
    "3) Write down log(posterior distribution)\n",
    "    Write a function that takes a list of parameters, and calculates the log of \n",
    "    P(theta|D) propto P(D|theta)p(theta) -> so if you are in log space, log(posterior) = log(likelihood) + log(priors)\n",
    "    Parameters are independent: P(alpha, A) = P(alpha)P(A)\n",
    "    You will find a value for the posterior distribution with a single input alpha, A and then you can iterate through parameter space and make a histogram of posterior vs alpha and posterior vs A to find the most likely value of that paramter\n",
    "4) MCMC sampling through parameter space\n",
    "    Read about Metropolis-Hastings\n",
    "    Write your own sampler\n",
    "5) Plot P(alpha|D) as a histogram with the real value of alpha superimposed\n",
    "    p(alpha|D) = integral (P(alpha,A|D)dA)"
   ]
  },
  {
   "cell_type": "code",
   "execution_count": 24,
   "metadata": {
    "collapsed": false
   },
   "outputs": [
    {
     "name": "stdout",
     "output_type": "stream",
     "text": [
      "1070 1070\n"
     ]
    }
   ],
   "source": [
    "print len(E_min),len(E_max)"
   ]
  },
  {
   "cell_type": "code",
   "execution_count": 18,
   "metadata": {
    "collapsed": true
   },
   "outputs": [],
   "source": [
    "def integrate_lambda(E,A,alpha):\n",
    "    \"\"\" Takes in array of energy bin edges, value of A and alpha and returns finite integral\"\"\"\n",
    "    integral = A/(1-alpha) * np.power(E,1-alpha)\n",
    "    return integral"
   ]
  },
  {
   "cell_type": "code",
   "execution_count": 31,
   "metadata": {
    "collapsed": true
   },
   "outputs": [],
   "source": [
    "def log_likelihood(data,logA,a):\n",
    "    \"\"\"\n",
    "    Return log(Poisson likelihood) function for dataset\n",
    "    Poisson probability of the form P(k) = exp(-lambda)*lambda**k/k!\n",
    "    lambda = integral from E_min to E_max A*E**-a\n",
    "    input data = piled histogram from previous step\n",
    "    \"\"\"\n",
    "    lam = integrate_lambda(E_max[1:],np.exp(logA),a) - integrate_lambda(E_min[1:],np.exp(logA),a)\n",
    "    summation = gammaln(data+1)\n",
    "    log_like = np.multiply(-1.0,lam) + data*np.log(lam) + summation\n",
    "    total_log_like = np.sum(log_like)\n",
    "    if not np.isfinite(total_log_like):\n",
    "        return -np.inf\n",
    "    else:\n",
    "        return total_log_like"
   ]
  },
  {
   "cell_type": "code",
   "execution_count": 53,
   "metadata": {
    "collapsed": true
   },
   "outputs": [],
   "source": [
    "def neg_log_likelihood(theta):\n",
    "    \"\"\"\n",
    "    Return log(Poisson likelihood) function for dataset\n",
    "    Poisson probability of the form P(k) = exp(-lambda)*lambda**k/k!\n",
    "    lambda = integral from E_min to E_max A*E**-a\n",
    "    input theta = paramtets where theta[0] = logA, theta[1] = alpha\n",
    "    \"\"\"\n",
    "    logA = theta[0]\n",
    "    a = theta[1]\n",
    "    lam = integrate_lambda(E_max[1:],np.exp(logA),a) - integrate_lambda(E_min[1:],np.exp(logA),a)\n",
    "    summation = gammaln(data+1)\n",
    "    log_like = np.multiply(-1.0,lam) + data*np.log(lam) + summation\n",
    "    total_log_like = np.sum(log_like)\n",
    "    if not np.isfinite(total_log_like):\n",
    "        return -np.inf\n",
    "    else:\n",
    "        return -1*total_log_like"
   ]
  },
  {
   "cell_type": "code",
   "execution_count": 14,
   "metadata": {
    "collapsed": true
   },
   "outputs": [],
   "source": [
    "def log_prior_alpha(a):\n",
    "    if (a > 0) and (a<5):\n",
    "        return np.log(0.2)\n",
    "    else:\n",
    "        return -np.inf\n",
    "def log_prior_logA(logA):\n",
    "    if (logA<np.log(1000000))and(logA>np.log(100)):\n",
    "        return np.log(1.0/(np.log(1000000)-np.log(100)))\n",
    "    else:\n",
    "        return -np.inf"
   ]
  },
  {
   "cell_type": "code",
   "execution_count": 15,
   "metadata": {
    "collapsed": true
   },
   "outputs": [],
   "source": [
    "def log_posterior(log_like,log_priors):\n",
    "    return log_like + np.sum(log_priors)"
   ]
  },
  {
   "cell_type": "code",
   "execution_count": 141,
   "metadata": {
    "collapsed": false,
    "scrolled": false
   },
   "outputs": [
    {
     "name": "stderr",
     "output_type": "stream",
     "text": [
      "/Applications/anaconda/lib/python2.7/site-packages/ipykernel/__main__.py:10: RuntimeWarning: divide by zero encountered in log\n",
      "/Applications/anaconda/lib/python2.7/site-packages/ipykernel/__main__.py:10: RuntimeWarning: invalid value encountered in multiply\n"
     ]
    },
    {
     "name": "stdout",
     "output_type": "stream",
     "text": [
      "working on round  100\n",
      "working on round  200\n",
      "working on round  300\n",
      "working on round  400\n",
      "working on round  500\n",
      "working on round  600\n",
      "working on round  700\n",
      "working on round  800\n",
      "working on round  900\n",
      "working on round  1000\n",
      "working on round  1100\n",
      "working on round  1200\n",
      "working on round  1300\n",
      "working on round  1400\n",
      "working on round  1500\n",
      "working on round  1600\n",
      "working on round  1700\n",
      "working on round  1800\n",
      "working on round  1900\n",
      "working on round  2000\n",
      "working on round  2100\n",
      "working on round  2200\n",
      "working on round  2300\n",
      "working on round  2400\n",
      "working on round  2500\n",
      "working on round  2600\n",
      "working on round  2700\n",
      "working on round  2800\n",
      "working on round  2900\n",
      "working on round  3000\n",
      "working on round  3100\n",
      "working on round  3200\n",
      "working on round  3300\n",
      "working on round  3400\n",
      "working on round  3500\n",
      "working on round  3600\n",
      "working on round  3700\n",
      "working on round  3800\n",
      "working on round  3900\n",
      "working on round  4000\n",
      "working on round  4100\n",
      "working on round  4200\n",
      "working on round  4300\n",
      "working on round  4400\n",
      "working on round  4500\n",
      "working on round  4600\n",
      "working on round  4700\n",
      "working on round  4800\n",
      "working on round  4900\n",
      "working on round  5000\n",
      "working on round  5100\n",
      "working on round  5200\n",
      "working on round  5300\n",
      "working on round  5400\n",
      "working on round  5500\n",
      "working on round  5600\n",
      "working on round  5700\n",
      "working on round  5800\n",
      "working on round  5900\n",
      "working on round  6000\n",
      "working on round  6100\n",
      "working on round  6200\n",
      "working on round  6300\n",
      "working on round  6400\n",
      "working on round  6500\n",
      "working on round  6600\n",
      "working on round  6700\n",
      "working on round  6800\n",
      "working on round  6900\n",
      "working on round  7000\n",
      "working on round  7100\n",
      "working on round  7200\n",
      "working on round  7300\n",
      "working on round  7400\n",
      "working on round  7500\n",
      "working on round  7600\n",
      "working on round  7700\n",
      "working on round  7800\n",
      "working on round  7900\n",
      "working on round  8000\n",
      "working on round  8100\n",
      "working on round  8200\n",
      "working on round  8300\n",
      "working on round  8400\n",
      "working on round  8500\n",
      "working on round  8600\n",
      "working on round  8700\n",
      "working on round  8800\n",
      "working on round  8900\n",
      "working on round  9000\n",
      "working on round  9100\n",
      "working on round  9200\n",
      "working on round  9300\n",
      "working on round  9400\n",
      "working on round  9500\n",
      "working on round  9600\n",
      "working on round  9700\n",
      "working on round  9800\n",
      "working on round  9900\n",
      "working on round  10000\n",
      "best fit for values of A= 20202.020202 2.57575757576 log(likelihood)= 836556.690833\n"
     ]
    }
   ],
   "source": [
    "#Run brute force likelihood maximization on a grid to test that functions work\n",
    "A = np.linspace(0,1000000,100)\n",
    "a = np.linspace(0,5,100)\n",
    "ll_val = np.zeros((len(A),len(a)),dtype=float)\n",
    "max_ll = 0\n",
    "best = [0,0]\n",
    "count = 0\n",
    "for i in range(len(A)):\n",
    "    for j in range(len(a)):\n",
    "        running_ll = log_likelihood(energy_hist,np.log(A[i]),a[j])\n",
    "        ll_val[i][j] = running_ll\n",
    "        count += 1\n",
    "        if count%len(A) == 0:\n",
    "            print 'working on round ',count\n",
    "        if running_ll > max_ll:\n",
    "            max_ll = running_ll\n",
    "            best = [i,j]\n",
    "print 'best fit for values of A=',A[best[0]],a[best[1]], 'log(likelihood)=',max_ll"
   ]
  },
  {
   "cell_type": "code",
   "execution_count": 142,
   "metadata": {
    "collapsed": false
   },
   "outputs": [],
   "source": [
    "ll_val[np.isfinite(ll_val)==False] = 0"
   ]
  },
  {
   "cell_type": "code",
   "execution_count": 164,
   "metadata": {
    "collapsed": false,
    "scrolled": false
   },
   "outputs": [
    {
     "name": "stdout",
     "output_type": "stream",
     "text": [
      "-25763965.8396 836556.690833\n"
     ]
    },
    {
     "data": {
      "text/plain": [
       "<matplotlib.text.Text at 0x12474b590>"
      ]
     },
     "execution_count": 164,
     "metadata": {},
     "output_type": "execute_result"
    },
    {
     "data": {
      "image/png": "[encoded data removed]",
      "text/plain": [
       "<matplotlib.figure.Figure at 0x12479a250>"
      ]
     },
     "metadata": {},
     "output_type": "display_data"
    }
   ],
   "source": [
    "#Plot heat map of log_likelihood values across logA and alpha space\n",
    "#import seaborn as sns\n",
    "plt.rc('font', family='serif')\n",
    "fig,ax=plt.subplots(figsize=(10,10))\n",
    "print np.amin(ll_val),np.amax(ll_val)\n",
    "#imgplot = ax.imshow(ll_val[1:,:])\n",
    "#imgplot.set_cmap('inferno')\n",
    "#plt.colorbar(imgplot)\n",
    "#cmap = sns.cubehelix_palette(light=1, as_cmap=True)\n",
    "#ax = sns.heatmap(ll_val[1:,:],cmap=cmap)\n",
    "#ax.set_xlabel('A',fontsize=18)\n",
    "#ax.set_ylabel(r'$\\Gamma$',fontsize=18)\n",
    "\n",
    "#plt.pcolormesh(ll_val)\n",
    "#plt.colorbar()\n",
    "#curves = 10\n",
    "#m = max([max(row) for row in ll_val])\n",
    "#levels = np.arange(0, m, (1 / float(curves)) * m)\n",
    "#plt.contour(ll_val, colors=\"white\", levels=levels)\n",
    "#plt.show()\n",
    "\n",
    "levels = MaxNLocator(nbins=30).tick_values(np.amax(ll_val)-100000, np.amax(ll_val))\n",
    "#cmap = plt.get_cmap('PiYG')\n",
    "norm = BoundaryNorm(levels, ncolors=cmap.N, clip=True)\n",
    "cf = plt.contourf(a, A, ll_val,cmap='magma',vmin=np.amax(ll_val)-100000,vmax=np.amax(ll_val),levels=levels)\n",
    "#plt.contour(cf, colors='white',levels=levels,linestyle='--')\n",
    "fig.colorbar(cf)\n",
    "ax.set_xlim(1,4)\n",
    "ax.set_ylim(0,80000)\n",
    "ax.set_xlabel(r'$\\Gamma$',fontsize=20)\n",
    "ax.set_ylabel('Amplitude',fontsize=20)\n",
    "#plt.pcolormesh(ll_val)\n",
    "#plt.colorbar(cs)"
   ]
  },
  {
   "cell_type": "code",
   "execution_count": 139,
   "metadata": {
    "collapsed": false
   },
   "outputs": [
    {
     "name": "stdout",
     "output_type": "stream",
     "text": [
      "Optimization terminated successfully.\n",
      "         Current function value: -837167.971942\n",
      "         Iterations: 60\n",
      "         Function evaluations: 128\n",
      "[ 9.73550089  2.70422215]\n"
     ]
    }
   ],
   "source": [
    "#Use scipy.optimize to find the best A and alpha parameters\n",
    "from scipy.optimize import minimize\n",
    "data = energy_hist\n",
    "#logA = np.log(np.linspace(0,1000000,1000))\n",
    "#a = np.linspace(0,5,1000)\n",
    "init_params = [np.log(1000000),2.7]\n",
    "opt = minimize(neg_log_likelihood,init_params,method='Nelder-Mead',options={'disp': True})\n",
    "print opt.x"
   ]
  },
  {
   "cell_type": "raw",
   "metadata": {},
   "source": [
    "Metropolis-Hastings algorithm:\n",
    "\n",
    "Initialize:\n",
    "1. Pick an initial state, x_0 (**Is this the initial value of the variable, within the priors? How do you choose where to start? Intelligent guess?)\n",
    "2. Set t=0\n",
    "\n",
    "Iterate:\n",
    "1. Randomly generate a candidate state x' according to g(x'|x_t) (**g is the proposal distribution, the conditional probability of proposing a state x' given x. Where does this probability expression come from? Priors?)\n",
    "2. Calculate the acceptance probability A(x'|x) = min(1, P(x')/P(x) * g(x|x')/g(x'|x) )\n",
    "3. Accept or reject: 1. generate a uniform random number [0,1] 2. if u< A, accept new state and set x_t+1 = x_t 3. if u>A, reject the new state and copy the old state forward\n",
    "4. Increment, set t=t+1"
   ]
  },
  {
   "cell_type": "raw",
   "metadata": {},
   "source": [
    "Meeting with Lia Corrales\n",
    "\n",
    "Her X-1 Gaetz\n",
    "ObsID 18055, 180565 for read out streak compared to ACIS-I core spectrum\n",
    "3C 273: has HETG and ACIS-S data (check on that)"
   ]
  }
 ],
 "metadata": {
  "kernelspec": {
   "display_name": "Python 2",
   "language": "python",
   "name": "python2"
  },
  "language_info": {
   "codemirror_mode": {
    "name": "ipython",
    "version": 2
   },
   "file_extension": ".py",
   "mimetype": "text/x-python",
   "name": "python",
   "nbconvert_exporter": "python",
   "pygments_lexer": "ipython2",
   "version": "2.7.12"
  }
 },
 "nbformat": 4,
 "nbformat_minor": 1
}
