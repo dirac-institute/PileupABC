{
 "cells": [
  {
   "cell_type": "code",
   "execution_count": 2,
   "metadata": {
    "collapsed": false
   },
   "outputs": [
    {
     "name": "stdout",
     "output_type": "stream",
     "text": [
      "Python 2.7.12 :: Anaconda 2.3.0 (x86_64)\r\n"
     ]
    }
   ],
   "source": [
    "!python --version"
   ]
  },
  {
   "cell_type": "code",
   "execution_count": 3,
   "metadata": {
    "collapsed": false
   },
   "outputs": [],
   "source": [
    "import numpy as np\n",
    "from astropy.table import Table, Column, vstack\n",
    "from astropy.io import fits\n",
    "import matplotlib.pyplot as plt\n",
    "from scipy.stats import powerlaw\n",
    "from scipy import integrate\n",
    "from scipy.special import gammaln\n",
    "import time\n",
    "%matplotlib inline"
   ]
  },
  {
   "cell_type": "code",
   "execution_count": 3,
   "metadata": {
    "collapsed": false
   },
   "outputs": [],
   "source": [
    "def energies_rs(a,b,gamma,N):\n",
    "    ''' Returns an array of photon energies with a power law distribution using rejection sampling.\n",
    "        a = E_min\n",
    "        b = E_max\n",
    "        gamma = photon index\n",
    "        N = total number of photons to be returned\n",
    "    '''\n",
    "    start_time = time.time()\n",
    "    A = (1.-gamma)/((b**(1.-gamma))-(a**(1.-gamma))) #normalization factor so curve integrates to 1\n",
    "    pl =  lambda x,A,gamma : A*x**(-1.0*gamma)\n",
    "    binsize = 0.13 #keV, set by Chandra detector. This will be swapped out later for a more realistic binning\n",
    "    bins = np.arange(a,b,binsize)\n",
    "    photons = np.zeros(N)\n",
    "    count = 0\n",
    "    while count<N:\n",
    "        r = np.random.uniform(a,b,1)\n",
    "        for i in range(len(bins)-1):\n",
    "            if (r>bins[i])and(r<bins[i+1]):\n",
    "                edge_lo = bins[i]\n",
    "                edge_hi = bins[i+1]\n",
    "                p_r = integrate.quad(pl,edge_lo,edge_hi,args=(A,gamma))[0]\n",
    "                k = np.random.uniform(0,1,1)\n",
    "                if (k<=p_r):\n",
    "                    photons[count] = r\n",
    "                    count += 1\n",
    "    print(\"Time to generate photon energies = %s seconds\" % (time.time() - start_time))\n",
    "    return photons"
   ]
  },
  {
   "cell_type": "code",
   "execution_count": 7,
   "metadata": {
    "collapsed": true
   },
   "outputs": [],
   "source": [
    "def energies_cdf(a,b,gamma,N):\n",
    "    '''\n",
    "    Generate photon energies using the cumulative distribution function (CDF)\n",
    "    CDF taken from https://arxiv.org/pdf/0706.1062.pdf\n",
    "    a = E_min\n",
    "    b = E_max\n",
    "    gamma = photon index\n",
    "    N = total number of photons to be returned'''\n",
    "    start_time = time.time()\n",
    "    r = np.random.uniform(0,1,N)\n",
    "    x = a*(1-r)**(-1/(gamma-1))\n",
    "    print(\"Time to generate photon energies = %s seconds\" % (time.time() - start_time))\n",
    "    return x"
   ]
  },
  {
   "cell_type": "code",
   "execution_count": 8,
   "metadata": {
    "collapsed": false
   },
   "outputs": [],
   "source": [
    "def simulate_data(stop,handle):\n",
    "    ''' Generates an un-piled and piled list of photon energies. \n",
    "        stop = end time of observation, generally equals total length of obs in seconds.\n",
    "        handle = 'rs' to generate photons via rejection \n",
    "    '''\n",
    "    #Assign physical parameters\n",
    "    start = 0. #s\n",
    "    #stop = 100 #s\n",
    "    cr = 1. #count rate between 0.1 and 10 photons/second\n",
    "    gamma = 2.7 #assume photon index\n",
    "    read_time = 3.2 #s\n",
    "    energy_lo = 0.1 #keV\n",
    "    energy_hi = 10.0 #keV\n",
    "    K = (stop-start)*cr #Number of photons to generate\n",
    "    N = np.random.poisson(K) #choose a number of photons from a poisson distribution centered on expected, K\n",
    "    print 'number of photons observed =', N\n",
    "    \n",
    "    #Assign photon arrival times, random within obervation time\n",
    "    arrival_times = np.random.uniform(start,stop,N)\n",
    "    \n",
    "    #Assign photon energies, random with a power law distribution.\n",
    "    if handle == 'rs':\n",
    "        print 'generating photon energies via rejection sampling'\n",
    "        energy = energies_rs(energy_lo,energy_hi,gamma,N) #generate photon energies using rejection sampling\n",
    "    if handle == 'cdf':\n",
    "        print 'generating photon energies via CDF method'\n",
    "        energy = energies_cdf(energy_lo,energy_hi,gamma,N)\n",
    "    else:\n",
    "        print 'invalid photon generation method entered'\n",
    "        \n",
    "    #Simulate pile up: bin arrival times, if there is more than one photon in a bin, combine their energies\n",
    "    #and record as one photon, change other photon energies to 0\n",
    "    piled_energy = np.copy(energy)\n",
    "    times = Column(arrival_times,name='time')\n",
    "    energies = Column(energy,name='energy')\n",
    "    raw = Table([times,energies])\n",
    "    raw.sort('time')\n",
    "    time_bins = np.arange(start,stop,read_time)\n",
    "    time_hist, time_edges = np.histogram(raw['time'],bins=time_bins)\n",
    "    num_piled = 0\n",
    "    for i in range(len(time_hist)):\n",
    "        if time_hist[i] > 1:\n",
    "            #print time_hist[i]\n",
    "            num_piled += time_hist[i]\n",
    "            first_photon = np.sum(time_hist[0:i])\n",
    "            last_photon = first_photon + time_hist[i] - 1\n",
    "            sum_energy = np.sum(energies[first_photon:last_photon])\n",
    "            piled_energy[first_photon] = sum_energy\n",
    "            piled_energy[first_photon+1:last_photon] = 0.0\n",
    "    print 'Fraction of photons that are piled =', np.float(num_piled) / N\n",
    "    return energy, piled_energy"
   ]
  },
  {
   "cell_type": "code",
   "execution_count": 9,
   "metadata": {
    "collapsed": false
   },
   "outputs": [],
   "source": [
    "def plot_data(raw,piled):\n",
    "    '''\n",
    "    Takes output data from simulate_data() and plots the raw vs. piled spectra\n",
    "    '''\n",
    "    arf = Table.read('/Users/mlazz/Dropbox/UW/PileupABC/13858/repro/SDSSJ091449.05+085321.corr.arf',format='fits')\n",
    "    fig,ax=plt.subplots(figsize=(8,5))\n",
    "    #num=len(raw)/50.\n",
    "    e_hist, e_bins = np.histogram(raw,bins=arf['ENERG_HI'])\n",
    "    pe_hist, pe_bins = np.histogram(piled[piled>0],bins=arf['ENERG_HI'])\n",
    "    ax.plot(e_bins[1:],e_hist,label='un-piled')\n",
    "    ax.plot(pe_bins[1:],pe_hist,label='piled')\n",
    "    ax.set_xlabel('Energy (keV)')\n",
    "    ax.set_xlim(-0.5,11)\n",
    "    ax.set_ylabel('Flux, unscaled')\n",
    "    ax.set_yscale('log')\n",
    "    ax.legend()\n",
    "    return e_hist, pe_hist"
   ]
  },
  {
   "cell_type": "code",
   "execution_count": null,
   "metadata": {
    "collapsed": false,
    "scrolled": true
   },
   "outputs": [],
   "source": [
    "#SLOW\n",
    "#Generate simulated spectrum using rejection sampling method\n",
    "energy,piled_energy = simulate_data(5000,'rs')\n",
    "plot_data(energy,piled_energy)"
   ]
  },
  {
   "cell_type": "code",
   "execution_count": 10,
   "metadata": {
    "collapsed": false,
    "scrolled": true
   },
   "outputs": [
    {
     "name": "stdout",
     "output_type": "stream",
     "text": [
      "number of photons observed = 500075\n",
      "generating photon energies via CDF method\n",
      "Time to generate photon energies = 0.0305888652802 seconds\n",
      "Fraction of photons that are piled = 0.95954606809\n"
     ]
    },
    {
     "data": {
      "image/png": "[encoded data removed]",
      "text/plain": [
       "<matplotlib.figure.Figure at 0x10b03fbd0>"
      ]
     },
     "metadata": {},
     "output_type": "display_data"
    }
   ],
   "source": [
    "#FAST\n",
    "#Generate simulated spectrum using CDF method\n",
    "energy,piled_energy = simulate_data(500000,'cdf')\n",
    "energy_hist, piled_hist = plot_data(energy,piled_energy)"
   ]
  },
  {
   "cell_type": "code",
   "execution_count": 11,
   "metadata": {
    "collapsed": false,
    "scrolled": true
   },
   "outputs": [],
   "source": [
    "#Load ARF to get Chandra energy bins\n",
    "#pi_file = Table.read('/Users/mlazz/Dropbox/UW/PileupABC/13858/repro/SDSSJ091449.05+085321.pi',format='fits')\n",
    "#rmf = Table.read('/Users/mlazz/Dropbox/UW/PileupABC/13858/repro/SDSSJ091449.05+085321.rmf',format='fits')\n",
    "arf = Table.read('/Users/mlazz/Dropbox/UW/PileupABC/13858/repro/SDSSJ091449.05+085321.corr.arf',format='fits')\n",
    "E_min = arf['ENERG_LO']\n",
    "E_max = arf['ENERG_HI']"
   ]
  },
  {
   "cell_type": "markdown",
   "metadata": {},
   "source": [
    "Meeting notes 03/15/18\n",
    "1) Write down a Poisson log(likelihood)\n",
    "2) Write down some log(priors):\n",
    "    log(A) -> flat (make sure this is in log space to relieve the issue of emphasizing large values)\n",
    "    alpha -> flat (between 1 and 3)\n",
    "3) Write down log(posterior distribution)\n",
    "    Write a function that takes a list of parameters, and calculates the log of \n",
    "    P(theta|D) propto P(D|theta)p(theta) -> so if you are in log space, log(posterior) = log(likelihood) + log(priors)\n",
    "    Parameters are independent: P(alpha, A) = P(alpha)P(A)\n",
    "    You will find a value for the posterior distribution with a single input alpha, A and then you can iterate through parameter space and make a histogram of posterior vs alpha and posterior vs A to find the most likely value of that paramter\n",
    "4) MCMC sampling through parameter space\n",
    "    Read about Metropolis-Hastings\n",
    "    Write your own sampler\n",
    "5) Plot P(alpha|D) as a histogram with the real value of alpha superimposed\n",
    "    p(alpha|D) = integral (P(alpha,A|D)dA)"
   ]
  },
  {
   "cell_type": "code",
   "execution_count": 24,
   "metadata": {
    "collapsed": false
   },
   "outputs": [
    {
     "name": "stdout",
     "output_type": "stream",
     "text": [
      "1070 1070\n"
     ]
    }
   ],
   "source": [
    "print len(E_min),len(E_max)"
   ]
  },
  {
   "cell_type": "code",
   "execution_count": 18,
   "metadata": {
    "collapsed": true
   },
   "outputs": [],
   "source": [
    "def integrate_lambda(E,A,alpha):\n",
    "    \"\"\" Takes in array of energy bin edges, value of A and alpha and returns finite integral\"\"\"\n",
    "    integral = A/(1-alpha) * np.power(E,1-alpha)\n",
    "    return integral"
   ]
  },
  {
   "cell_type": "code",
   "execution_count": 31,
   "metadata": {
    "collapsed": true
   },
   "outputs": [],
   "source": [
    "def log_likelihood(data,logA,a):\n",
    "    \"\"\"\n",
    "    Return log(Poisson likelihood) function for dataset\n",
    "    Poisson probability of the form P(k) = exp(-lambda)*lambda**k/k!\n",
    "    lambda = integral from E_min to E_max A*E**-a\n",
    "    input data = piled histogram from previous step\n",
    "    \"\"\"\n",
    "    lam = integrate_lambda(E_max[1:],np.exp(logA),a) - integrate_lambda(E_min[1:],np.exp(logA),a)\n",
    "    summation = gammaln(data+1)\n",
    "    log_like = np.multiply(-1.0,lam) + data*np.log(lam) + summation\n",
    "    total_log_like = np.sum(log_like)\n",
    "    if not np.isfinite(total_log_like):\n",
    "        return -np.inf\n",
    "    else:\n",
    "        return total_log_like"
   ]
  },
  {
   "cell_type": "code",
   "execution_count": 39,
   "metadata": {
    "collapsed": true
   },
   "outputs": [],
   "source": [
    "def neg_log_likelihood(data,logA,a):\n",
    "    \"\"\"\n",
    "    Return log(Poisson likelihood) function for dataset\n",
    "    Poisson probability of the form P(k) = exp(-lambda)*lambda**k/k!\n",
    "    lambda = integral from E_min to E_max A*E**-a\n",
    "    input data = piled histogram from previous step\n",
    "    \"\"\"\n",
    "    lam = integrate_lambda(E_max[1:],np.exp(logA),a) - integrate_lambda(E_min[1:],np.exp(logA),a)\n",
    "    summation = gammaln(data+1)\n",
    "    log_like = np.multiply(-1.0,lam) + data*np.log(lam) + summation\n",
    "    total_log_like = np.sum(log_like)\n",
    "    if not np.isfinite(total_log_like):\n",
    "        return -np.inf\n",
    "    else:\n",
    "        return -1*total_log_like"
   ]
  },
  {
   "cell_type": "code",
   "execution_count": 14,
   "metadata": {
    "collapsed": true
   },
   "outputs": [],
   "source": [
    "def log_prior_alpha(a):\n",
    "    if (a > 0) and (a<5):\n",
    "        return np.log(0.2)\n",
    "    else:\n",
    "        return -np.inf\n",
    "def log_prior_logA(logA):\n",
    "    if (logA<np.log(1000000))and(logA>np.log(100)):\n",
    "        return np.log(1.0/(np.log(1000000)-np.log(100)))\n",
    "    else:\n",
    "        return -np.inf"
   ]
  },
  {
   "cell_type": "code",
   "execution_count": 15,
   "metadata": {
    "collapsed": true
   },
   "outputs": [],
   "source": [
    "def log_posterior(log_like,log_priors):\n",
    "    return log_like + np.sum(log_priors)"
   ]
  },
  {
   "cell_type": "code",
   "execution_count": 32,
   "metadata": {
    "collapsed": false
   },
   "outputs": [
    {
     "name": "stdout",
     "output_type": "stream",
     "text": [
      "72696.6228125\n"
     ]
    }
   ],
   "source": [
    "test_A = 500000\n",
    "test_alpha = 2.0\n",
    "print log_posterior(log_likelihood(piled_hist,np.log(test_A),test_alpha),np.array([log_prior_alpha(test_alpha),log_prior_logA(np.log(test_A))]))"
   ]
  },
  {
   "cell_type": "code",
   "execution_count": 34,
   "metadata": {
    "collapsed": false
   },
   "outputs": [
    {
     "name": "stderr",
     "output_type": "stream",
     "text": [
      "/Applications/anaconda/lib/python2.7/site-packages/ipykernel/__main__.py:9: RuntimeWarning: divide by zero encountered in log\n",
      "/Applications/anaconda/lib/python2.7/site-packages/ipykernel/__main__.py:10: RuntimeWarning: divide by zero encountered in log\n",
      "/Applications/anaconda/lib/python2.7/site-packages/ipykernel/__main__.py:10: RuntimeWarning: invalid value encountered in multiply\n"
     ]
    },
    {
     "name": "stdout",
     "output_type": "stream",
     "text": [
      "working on round  10\n",
      "working on round  20\n",
      "working on round  30\n",
      "working on round  40\n",
      "working on round  50\n",
      "working on round  60\n",
      "working on round  70\n",
      "working on round  80\n",
      "working on round  90\n",
      "working on round  100\n",
      "best fit for values of A= 111111.111111 1.66666666667 log(likelihood)= 1131601.76037\n"
     ]
    }
   ],
   "source": [
    "#Run brute force likelihood maximization on a coarse grid to test that functions work\n",
    "A = np.linspace(0,1000000,10)\n",
    "a = np.linspace(0,5,10)\n",
    "max_ll = 0\n",
    "best = [0,0]\n",
    "count = 0\n",
    "for i in range(len(A)):\n",
    "    for j in range(len(a)):\n",
    "        running_ll = log_likelihood(piled_hist,np.log(A[i]),a[j])\n",
    "        count += 1\n",
    "        if count%len(A) == 0:\n",
    "            print 'working on round ',count\n",
    "        if running_ll > max_ll:\n",
    "            max_ll = running_ll\n",
    "            best = [i,j]\n",
    "print 'best fit for values of A=',A[best[0]],a[best[1]], 'log(likelihood)=',max_ll"
   ]
  },
  {
   "cell_type": "code",
   "execution_count": 49,
   "metadata": {
    "collapsed": false
   },
   "outputs": [
    {
     "name": "stderr",
     "output_type": "stream",
     "text": [
      "/Applications/anaconda/lib/python2.7/site-packages/ipykernel/__main__.py:3: RuntimeWarning: divide by zero encountered in log\n",
      "  app.launch_new_instance()\n"
     ]
    },
    {
     "ename": "TypeError",
     "evalue": "neg_log_likelihood() takes exactly 3 arguments (1 given)",
     "output_type": "error",
     "traceback": [
      "\u001b[0;31m---------------------------------------------------------------------------\u001b[0m",
      "\u001b[0;31mTypeError\u001b[0m                                 Traceback (most recent call last)",
      "\u001b[0;32m<ipython-input-49-1e4078c95593>\u001b[0m in \u001b[0;36m<module>\u001b[0;34m()\u001b[0m\n\u001b[1;32m      4\u001b[0m \u001b[0ma\u001b[0m \u001b[0;34m=\u001b[0m \u001b[0mnp\u001b[0m\u001b[0;34m.\u001b[0m\u001b[0mlinspace\u001b[0m\u001b[0;34m(\u001b[0m\u001b[0;36m0\u001b[0m\u001b[0;34m,\u001b[0m\u001b[0;36m5\u001b[0m\u001b[0;34m,\u001b[0m\u001b[0;36m1000\u001b[0m\u001b[0;34m)\u001b[0m\u001b[0;34m\u001b[0m\u001b[0m\n\u001b[1;32m      5\u001b[0m \u001b[0mtheta_start\u001b[0m \u001b[0;34m=\u001b[0m \u001b[0mnp\u001b[0m\u001b[0;34m.\u001b[0m\u001b[0marray\u001b[0m\u001b[0;34m(\u001b[0m\u001b[0;34m[\u001b[0m\u001b[0mnp\u001b[0m\u001b[0;34m.\u001b[0m\u001b[0mlog\u001b[0m\u001b[0;34m(\u001b[0m\u001b[0;36m1000000\u001b[0m\u001b[0;34m)\u001b[0m\u001b[0;34m,\u001b[0m\u001b[0;36m2.0\u001b[0m\u001b[0;34m]\u001b[0m\u001b[0;34m)\u001b[0m\u001b[0;34m\u001b[0m\u001b[0m\n\u001b[0;32m----> 6\u001b[0;31m \u001b[0mopt\u001b[0m \u001b[0;34m=\u001b[0m \u001b[0mminimize\u001b[0m\u001b[0;34m(\u001b[0m\u001b[0mneg_log_likelihood\u001b[0m\u001b[0;34m,\u001b[0m\u001b[0mtheta_start\u001b[0m\u001b[0;34m,\u001b[0m\u001b[0mmethod\u001b[0m\u001b[0;34m=\u001b[0m\u001b[0;34m'Nelder-Mead'\u001b[0m\u001b[0;34m,\u001b[0m\u001b[0moptions\u001b[0m\u001b[0;34m=\u001b[0m\u001b[0;34m{\u001b[0m\u001b[0;34m'disp'\u001b[0m\u001b[0;34m:\u001b[0m \u001b[0mTrue\u001b[0m\u001b[0;34m}\u001b[0m\u001b[0;34m)\u001b[0m\u001b[0;34m\u001b[0m\u001b[0m\n\u001b[0m",
      "\u001b[0;32m/Applications/anaconda/lib/python2.7/site-packages/scipy/optimize/_minimize.pyc\u001b[0m in \u001b[0;36mminimize\u001b[0;34m(fun, x0, args, method, jac, hess, hessp, bounds, constraints, tol, callback, options)\u001b[0m\n\u001b[1;32m    436\u001b[0m                       callback=callback, **options)\n\u001b[1;32m    437\u001b[0m     \u001b[0;32melif\u001b[0m \u001b[0mmeth\u001b[0m \u001b[0;34m==\u001b[0m \u001b[0;34m'nelder-mead'\u001b[0m\u001b[0;34m:\u001b[0m\u001b[0;34m\u001b[0m\u001b[0m\n\u001b[0;32m--> 438\u001b[0;31m         \u001b[0;32mreturn\u001b[0m \u001b[0m_minimize_neldermead\u001b[0m\u001b[0;34m(\u001b[0m\u001b[0mfun\u001b[0m\u001b[0;34m,\u001b[0m \u001b[0mx0\u001b[0m\u001b[0;34m,\u001b[0m \u001b[0margs\u001b[0m\u001b[0;34m,\u001b[0m \u001b[0mcallback\u001b[0m\u001b[0;34m,\u001b[0m \u001b[0;34m**\u001b[0m\u001b[0moptions\u001b[0m\u001b[0;34m)\u001b[0m\u001b[0;34m\u001b[0m\u001b[0m\n\u001b[0m\u001b[1;32m    439\u001b[0m     \u001b[0;32melif\u001b[0m \u001b[0mmeth\u001b[0m \u001b[0;34m==\u001b[0m \u001b[0;34m'powell'\u001b[0m\u001b[0;34m:\u001b[0m\u001b[0;34m\u001b[0m\u001b[0m\n\u001b[1;32m    440\u001b[0m         \u001b[0;32mreturn\u001b[0m \u001b[0m_minimize_powell\u001b[0m\u001b[0;34m(\u001b[0m\u001b[0mfun\u001b[0m\u001b[0;34m,\u001b[0m \u001b[0mx0\u001b[0m\u001b[0;34m,\u001b[0m \u001b[0margs\u001b[0m\u001b[0;34m,\u001b[0m \u001b[0mcallback\u001b[0m\u001b[0;34m,\u001b[0m \u001b[0;34m**\u001b[0m\u001b[0moptions\u001b[0m\u001b[0;34m)\u001b[0m\u001b[0;34m\u001b[0m\u001b[0m\n",
      "\u001b[0;32m/Applications/anaconda/lib/python2.7/site-packages/scipy/optimize/optimize.pyc\u001b[0m in \u001b[0;36m_minimize_neldermead\u001b[0;34m(func, x0, args, callback, maxiter, maxfev, disp, return_all, initial_simplex, xatol, fatol, **unknown_options)\u001b[0m\n\u001b[1;32m    515\u001b[0m \u001b[0;34m\u001b[0m\u001b[0m\n\u001b[1;32m    516\u001b[0m     \u001b[0;32mfor\u001b[0m \u001b[0mk\u001b[0m \u001b[0;32min\u001b[0m \u001b[0mrange\u001b[0m\u001b[0;34m(\u001b[0m\u001b[0mN\u001b[0m \u001b[0;34m+\u001b[0m \u001b[0;36m1\u001b[0m\u001b[0;34m)\u001b[0m\u001b[0;34m:\u001b[0m\u001b[0;34m\u001b[0m\u001b[0m\n\u001b[0;32m--> 517\u001b[0;31m         \u001b[0mfsim\u001b[0m\u001b[0;34m[\u001b[0m\u001b[0mk\u001b[0m\u001b[0;34m]\u001b[0m \u001b[0;34m=\u001b[0m \u001b[0mfunc\u001b[0m\u001b[0;34m(\u001b[0m\u001b[0msim\u001b[0m\u001b[0;34m[\u001b[0m\u001b[0mk\u001b[0m\u001b[0;34m]\u001b[0m\u001b[0;34m)\u001b[0m\u001b[0;34m\u001b[0m\u001b[0m\n\u001b[0m\u001b[1;32m    518\u001b[0m \u001b[0;34m\u001b[0m\u001b[0m\n\u001b[1;32m    519\u001b[0m     \u001b[0mind\u001b[0m \u001b[0;34m=\u001b[0m \u001b[0mnumpy\u001b[0m\u001b[0;34m.\u001b[0m\u001b[0margsort\u001b[0m\u001b[0;34m(\u001b[0m\u001b[0mfsim\u001b[0m\u001b[0;34m)\u001b[0m\u001b[0;34m\u001b[0m\u001b[0m\n",
      "\u001b[0;32m/Applications/anaconda/lib/python2.7/site-packages/scipy/optimize/optimize.pyc\u001b[0m in \u001b[0;36mfunction_wrapper\u001b[0;34m(*wrapper_args)\u001b[0m\n\u001b[1;32m    290\u001b[0m     \u001b[0;32mdef\u001b[0m \u001b[0mfunction_wrapper\u001b[0m\u001b[0;34m(\u001b[0m\u001b[0;34m*\u001b[0m\u001b[0mwrapper_args\u001b[0m\u001b[0;34m)\u001b[0m\u001b[0;34m:\u001b[0m\u001b[0;34m\u001b[0m\u001b[0m\n\u001b[1;32m    291\u001b[0m         \u001b[0mncalls\u001b[0m\u001b[0;34m[\u001b[0m\u001b[0;36m0\u001b[0m\u001b[0;34m]\u001b[0m \u001b[0;34m+=\u001b[0m \u001b[0;36m1\u001b[0m\u001b[0;34m\u001b[0m\u001b[0m\n\u001b[0;32m--> 292\u001b[0;31m         \u001b[0;32mreturn\u001b[0m \u001b[0mfunction\u001b[0m\u001b[0;34m(\u001b[0m\u001b[0;34m*\u001b[0m\u001b[0;34m(\u001b[0m\u001b[0mwrapper_args\u001b[0m \u001b[0;34m+\u001b[0m \u001b[0margs\u001b[0m\u001b[0;34m)\u001b[0m\u001b[0;34m)\u001b[0m\u001b[0;34m\u001b[0m\u001b[0m\n\u001b[0m\u001b[1;32m    293\u001b[0m \u001b[0;34m\u001b[0m\u001b[0m\n\u001b[1;32m    294\u001b[0m     \u001b[0;32mreturn\u001b[0m \u001b[0mncalls\u001b[0m\u001b[0;34m,\u001b[0m \u001b[0mfunction_wrapper\u001b[0m\u001b[0;34m\u001b[0m\u001b[0m\n",
      "\u001b[0;31mTypeError\u001b[0m: neg_log_likelihood() takes exactly 3 arguments (1 given)"
     ]
    }
   ],
   "source": [
    "#Use scipy.optimize to find the best A and alpha parameters\n",
    "from scipy.optimize import minimize\n",
    "logA = np.log(np.linspace(0,1000000,1000))\n",
    "a = np.linspace(0,5,1000)\n",
    "theta_start = np.array([np.log(1000000),2.0])\n",
    "opt = minimize(neg_log_likelihood,theta_start,method='Nelder-Mead',options={'disp': True})"
   ]
  },
  {
   "cell_type": "raw",
   "metadata": {},
   "source": [
    "Metropolis-Hastings algorithm:\n",
    "\n",
    "Initialize:\n",
    "1. Pick an initial state, x_0 (**Is this the initial value of the variable, within the priors? How do you choose where to start? Intelligent guess?)\n",
    "2. Set t=0\n",
    "\n",
    "Iterate:\n",
    "1. Randomly generate a candidate state x' according to g(x'|x_t) (**g is the proposal distribution, the conditional probability of proposing a state x' given x. Where does this probability expression come from? Priors?)\n",
    "2. Calculate the acceptance probability A(x'|x) = min(1, P(x')/P(x) * g(x|x')/g(x'|x) )\n",
    "3. Accept or reject: 1. generate a uniform random number [0,1] 2. if u< A, accept new state and set x_t+1 = x_t 3. if u>A, reject the new state and copy the old state forward\n",
    "4. Increment, set t=t+1"
   ]
  },
  {
   "cell_type": "raw",
   "metadata": {},
   "source": [
    "Meeting with Lia Corrales\n",
    "\n",
    "Her X-1 Gaetz\n",
    "ObsID 18055, 180565 for read out streak compared to ACIS-I core spectrum\n",
    "3C 273: has HETG and ACIS-S data (check on that)"
   ]
  }
 ],
 "metadata": {
  "kernelspec": {
   "display_name": "Python 2",
   "language": "python",
   "name": "python2"
  },
  "language_info": {
   "codemirror_mode": {
    "name": "ipython",
    "version": 2
   },
   "file_extension": ".py",
   "mimetype": "text/x-python",
   "name": "python",
   "nbconvert_exporter": "python",
   "pygments_lexer": "ipython2",
   "version": "2.7.12"
  }
 },
 "nbformat": 4,
 "nbformat_minor": 1
}
